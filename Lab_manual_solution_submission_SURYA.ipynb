{
  "nbformat": 4,
  "nbformat_minor": 0,
  "metadata": {
    "colab": {
      "provenance": [],
      "collapsed_sections": [],
      "toc_visible": true,
      "include_colab_link": true
    },
    "kernelspec": {
      "name": "python3",
      "display_name": "Python 3"
    },
    "language_info": {
      "name": "python"
    }
  },
  "cells": [
    {
      "cell_type": "markdown",
      "metadata": {
        "id": "view-in-github",
        "colab_type": "text"
      },
      "source": [
        "<a href=\"https://colab.research.google.com/github/surya810/python_program_codes/blob/main/Lab_manual_solution_submission_SURYA.ipynb\" target=\"_parent\"><img src=\"https://colab.research.google.com/assets/colab-badge.svg\" alt=\"Open In Colab\"/></a>"
      ]
    },
    {
      "cell_type": "markdown",
      "source": [
        "* ***Name - Suryabrata Das***\n",
        "* ***Register No- 21370059***\n",
        "* ***Department- Computer Science***\n",
        "* ***Stream - M.sc***"
      ],
      "metadata": {
        "id": "IcEJkZqSUS5q"
      }
    },
    {
      "cell_type": "markdown",
      "source": [
        "1.\t**Write a Python program to print the following**•\t\n",
        "\n",
        "\n",
        "*   Addition of two numbers\n",
        "*   Area of rectangle\n",
        "*   N natural numbers\n",
        "*   N odd numbers\n",
        "*   N even numbers\n",
        "\n",
        "\n",
        "\n"
      ],
      "metadata": {
        "id": "2AGI2yDuqFEu"
      }
    },
    {
      "cell_type": "code",
      "source": [
        "def add():\n",
        "  print(\"you have selected addition of two numbrs\")\n",
        "  a = int(input(\"Enter 1st number: \"))\n",
        "  b = int(input(\"Enter 2nd number: \"))\n",
        "  sum =  a + b\n",
        "  print(\"sum is \"+ str(sum))\n",
        "\n",
        "\n",
        "def area_rectangle():\n",
        "  print(\"Please give number for calculating area of an rectangle\")\n",
        "  a = int(input(\"Enter length of rectangle: \"))\n",
        "  b = int(input(\"Enter width of rectangle: \"))\n",
        "  sum =  a * b\n",
        "  print(\"Area is \"+ str(sum))\n",
        "\n",
        "def natural_numbers():\n",
        "  print(\"Please give a range for printing natueral numbers\")\n",
        "  given_range = int(input(\"Please enter the range here: \"))\n",
        "  container = []\n",
        "  for i in range(1,given_range+1):\n",
        "    container.append(i)\n",
        "  print(\"Numbers are\"+ str(container))\n",
        "\n",
        "def odd_numbers_find():\n",
        "  print(\"it will print odd numbers of the given range\")\n",
        "  given_range = int(input(\"Please enter the range here: \"))\n",
        "  odd_container=[]\n",
        "  for i in range(1,given_range+1):\n",
        "    if(i%2 != 0):\n",
        "      odd_container.append(i)\n",
        "  print(\"ODD Numbers are \"+ str(odd_container))\n",
        "\n",
        "\n",
        "def even_numbers_find():\n",
        "  print(\"it will print even numbers of the given range\")\n",
        "  given_range = int(input(\"Please enter the range here: \"))\n",
        "  even_container=[]\n",
        "  for i in range(1,given_range+1):\n",
        "    if(i%2 == 0):\n",
        "      even_container.append(i)\n",
        "  print(\"Even Numbers are \"+ str(even_container))\n",
        "\n",
        "\n",
        "  \n",
        "def numbers_to_strings(argument):\n",
        "    # Get the function from switcher dictionary\n",
        "    func = switcher.get(argument, \"nothing\")\n",
        "    # Execute the function\n",
        "    return func()\n",
        "\n",
        "while(True):\n",
        "  print(\"please give your choice\")\n",
        "  print(\" for Addition press 0\")\n",
        "  print(\" for calculating area of an rectangle press 1\")\n",
        "  print(\" for printing natural numbers press 2\")\n",
        "  print(\" for printing odd numbers  3\")\n",
        "  print(\" for printing Even  numbers  4\")\n",
        "  numbers_to_strings(int(input(\"enter your choice: \")))\n",
        "  break\n",
        "  \n",
        "\n",
        "\n",
        "\n",
        "\n",
        "# Dictioary based switch case implementation\n",
        "\n",
        "switcher  = {0:add, 1:area_rectangle, 2:natural_numbers, 3:odd_numbers_find, 4:even_numbers_find} \n",
        "\n",
        "  \n",
        "\n",
        "   "
      ],
      "metadata": {
        "colab": {
          "base_uri": "https://localhost:8080/"
        },
        "id": "cji4Wdm7qH68",
        "outputId": "fa44ae21-072d-4056-babb-501c56e13f16"
      },
      "execution_count": null,
      "outputs": [
        {
          "output_type": "stream",
          "name": "stdout",
          "text": [
            "please give your choice\n",
            " for Addition press 0\n",
            " for calculating area of an rectangle press 1\n",
            " for printing natural numbers press 2\n",
            " for printing odd numbers  3\n",
            " for printing Even  numbers  4\n",
            "enter your choice: 0\n",
            "you have selected addition of two numbrs\n",
            "Enter 1st number: 5\n",
            "Enter 2nd number: 5\n",
            "sum is 10\n"
          ]
        }
      ]
    },
    {
      "cell_type": "markdown",
      "source": [
        "2. **Write a Python program to print the following**:\n",
        "\n",
        "\n",
        "*   Squares of numbers\n",
        "*   \n",
        "Cubes of numbers\n",
        "\n",
        "\n",
        "* The sum of n numbers\n",
        "*Greatest of three numbers\n",
        "*Reminder and Quotient of a given number"
      ],
      "metadata": {
        "id": "cLjI5cMXOOZC"
      }
    },
    {
      "cell_type": "code",
      "source": [
        "n = int(input(\"Enter number: \"))\n",
        "# Finding square by using pow method\n",
        "square = pow(n, 2)\n",
        "\n",
        "# Printing square\n",
        "print(\"Square of number= \",square)\n",
        "\n",
        "#Finding cube by using pow method\n",
        "cube=pow(n,3)\n",
        "print(\"Cube of number=\",cube)\n",
        "\n",
        "\n",
        "#sum of n numbers\n",
        "sum = 0\n",
        "for value in range(1, n + 1):\n",
        "    sum = sum + value\n",
        "print(\"Sum of  numbers= \",sum)\n",
        "\n",
        "\n",
        "#Greatest of 3 numbers \n",
        "print(\"Greatest of 3\")\n",
        "num1 = int(input(\"Enter number1: \"))\n",
        "num2 = int(input(\"Enter number2: \"))\n",
        "num3 = int(input(\"Enter number3: \"))\n",
        "max = num1 if num1>num2 else num2\n",
        "max = num3 if num3>max else max\n",
        "print(max)\n",
        "\n",
        "#Quotient and remainder\n",
        "print(\"Quotient and remainder\")\n",
        "a=int(input(\"Enter the first number: \"))\n",
        "b=int(input(\"Enter the second number: \"))\n",
        "quotient=a//b\n",
        "remainder=a%b\n",
        "print(\"Quotient is:\",quotient)\n",
        "print(\"Remainder is:\",remainder)\n"
      ],
      "metadata": {
        "id": "KcWpbO0Lo__5",
        "outputId": "141c7af1-a86a-4bde-bc7e-f9881a931023",
        "colab": {
          "base_uri": "https://localhost:8080/"
        }
      },
      "execution_count": null,
      "outputs": [
        {
          "output_type": "stream",
          "name": "stdout",
          "text": [
            "Enter number: 5\n",
            "Square of number=  25\n",
            "Cube of number= 125\n",
            "Sum of  numbers=  15\n",
            "Greatest of 3\n",
            "Enter number1: 2\n",
            "Enter number2: 6\n",
            "Enter number3: 7\n",
            "7\n",
            "Quotient and remainder\n",
            "Enter the first number: 33\n",
            "Enter the second number: 44\n",
            "Quotient is: 0\n",
            "Remainder is: 33\n"
          ]
        }
      ]
    },
    {
      "cell_type": "markdown",
      "source": [
        "3.\t**Write a Python program to**:\n",
        "*\tCalculate engineering cutoff.\n",
        "*\tCheck voting eligibility.\n",
        "*\tDisplay a basic calculator\n",
        "*\tConvert the temperature from Celsius to Fahrenheit.\n",
        "*\tCalculate the net salary of an employee.\n",
        "*\tCalculate area of a rectangle using functions\n",
        "*\tPrint factorial of n numbers\n",
        "*\tInsert a card in the list of sorted cards\n"
      ],
      "metadata": {
        "id": "8yfpw0KyPFaO"
      }
    },
    {
      "cell_type": "code",
      "source": [
        "#  Q3 STARTS\n",
        "\n",
        "\n",
        "\n",
        "#Calculate engineering cutoff\n",
        "\n",
        "p=int(input(\"Enter physics marks\"))\n",
        "\n",
        "c=int(input(\"Enter chemistry marks\"))\n",
        "\n",
        "m=int(input(\"Enter maths marks\"))\n",
        "\n",
        "cutoff=(2*p+2*c+3*m/3)\n",
        "\n",
        "print(\"cutoff =\",cutoff)\n",
        "\n",
        "\n",
        "# question -3, program--2| Check voting eligibility\n",
        "age=int(input(\"Enter the age\"))\n",
        "\n",
        "if(age>=18):\n",
        " print(\"Eligible for voting\")\n",
        "\n",
        "else:\n",
        "\n",
        " print(\"Not eligible for voting\")\n",
        "\n",
        " "
      ],
      "metadata": {
        "id": "vqXe6Dsw61fC",
        "outputId": "db1bc685-7d5d-48c0-d10c-cdc33c00bf15",
        "colab": {
          "base_uri": "https://localhost:8080/"
        }
      },
      "execution_count": null,
      "outputs": [
        {
          "output_type": "stream",
          "name": "stdout",
          "text": [
            "Enter physics marks24\n",
            "Enter chemistry marks23\n",
            "Enter maths marks34\n",
            "cutoff = 128.0\n",
            "enter ur age45\n",
            "Eligible for voting\n"
          ]
        }
      ]
    },
    {
      "cell_type": "code",
      "source": [
        "\n",
        "# question -3, program--3|  Program make a simple calculator\n",
        "\n",
        "\n",
        "#adds two numbers\n",
        "def add(x, y):\n",
        "    return x + y\n",
        "\n",
        "#subtracts two numbers\n",
        "def subtract(x, y):\n",
        "    return x - y\n",
        "\n",
        "#multiplies two numbers\n",
        "def multiply(x, y):\n",
        "    return x * y\n",
        "\n",
        "#divides two numbers\n",
        "def divide(x, y):\n",
        "    return x / y\n",
        "\n",
        "\n",
        "print(\"Select operation.\")\n",
        "print(\"1.Add\")\n",
        "print(\"2.Subtract\")\n",
        "print(\"3.Multiply\")\n",
        "print(\"4.Divide\")\n",
        "\n",
        "while True:\n",
        "    # take input from the user\n",
        "    choice = input(\"Enter choice(1/2/3/4): \")\n",
        "    # check if choice is one of the four options\n",
        "    if choice in ('1', '2', '3', '4'):\n",
        "        num1 = float(input(\"Enter first number: \"))\n",
        "        num2 = float(input(\"Enter second number: \"))\n",
        "\n",
        "        if choice == '1':\n",
        "            print(num1, \"+\", num2, \"=\", add(num1, num2))\n",
        "\n",
        "        elif choice == '2':\n",
        "            print(num1, \"-\", num2, \"=\", subtract(num1, num2))\n",
        "\n",
        "        elif choice == '3':\n",
        "            print(num1, \"*\", num2, \"=\", multiply(num1, num2))\n",
        "\n",
        "        elif choice == '4':\n",
        "            print(num1, \"/\", num2, \"=\", divide(num1, num2))\n",
        "        \n",
        "        # check if user wants another calculation\n",
        "        # break the while loop if answer is no\n",
        "        next_calculation = input(\"Would you like to Continue? (y/n): \")\n",
        "        if next_calculation == \"n\":\n",
        "          break\n",
        "    \n",
        "    else:\n",
        "        print(\"Invalid Input\")"
      ],
      "metadata": {
        "id": "fwQFToor8RkX",
        "outputId": "cdb58026-f0b3-461e-bd35-20c602478ac0",
        "colab": {
          "base_uri": "https://localhost:8080/"
        }
      },
      "execution_count": null,
      "outputs": [
        {
          "name": "stdout",
          "output_type": "stream",
          "text": [
            "Select operation.\n",
            "1.Add\n",
            "2.Subtract\n",
            "3.Multiply\n",
            "4.Divide\n",
            "Enter choice(1/2/3/4): 3\n",
            "Enter first number: 55\n",
            "Enter second number: 66\n",
            "55.0 * 66.0 = 3630.0\n",
            "Would you like to Continue? (y/n): n\n"
          ]
        }
      ]
    },
    {
      "cell_type": "code",
      "source": [
        "# question -3, program--4|Python Program to convert temperature in celsius to fahrenheit\n",
        "\n",
        "celsius = float(input(\"Enter temperature in Celsius: \"))\n",
        "# calculate fahrenheit\n",
        "fahrenheit = (celsius * 1.8) + 32\n",
        "print('%0.2f degree Celsius is equal to %0.2f degree Fahrenheit' %(celsius,fahrenheit))\n"
      ],
      "metadata": {
        "id": "73zXHh_E86aw",
        "outputId": "4b4d1085-275e-49b3-e8a0-4b510fe4fa96",
        "colab": {
          "base_uri": "https://localhost:8080/"
        }
      },
      "execution_count": null,
      "outputs": [
        {
          "output_type": "stream",
          "name": "stdout",
          "text": [
            "Enter temperature in Celsius: 55\n",
            "55.00 degree Celsius is equal to 131.00 degree Fahrenheit\n"
          ]
        }
      ]
    },
    {
      "cell_type": "code",
      "source": [
        "#question -3, program--5|SALARY PROGRAM\n",
        "\n",
        "\n",
        "name= str(input(\"Enter name of employee:\"))\n",
        "basic=float(input(\"Enter Basic Salary :\"))\n",
        "da=float(basic*0.25)\n",
        "hra=float(basic*0.15)\n",
        "netpay=float(basic+da+hra)\n",
        "print(\" NAME OF EMPLOYEE : \",name)\n",
        "print(\" BASIC SALARY : \",basic)\n",
        "print(\" DEARNESS ALLOW. : \",da)\n",
        "print(\" HOUSE RENT ALLOW.: \",hra)\n",
        "print(\" NET SALARY PAY : \",netpay)\n",
        "\n",
        "\n"
      ],
      "metadata": {
        "id": "WkX37iQM9peh",
        "outputId": "eb1b9f57-afdb-44c8-dc04-0f814401c38f",
        "colab": {
          "base_uri": "https://localhost:8080/"
        }
      },
      "execution_count": null,
      "outputs": [
        {
          "output_type": "stream",
          "name": "stdout",
          "text": [
            "Enter name of employee:suryabrata\n",
            "Enter Basic Salary :10\n",
            " NAME OF EMPLOYEE :  suryabrata\n",
            " BASIC SALARY :  10.0\n",
            " DEARNESS ALLOW. :  2.5\n",
            " HOUSE RENT ALLOW.:  1.5\n",
            " NET SALARY PAY :  14.0\n"
          ]
        }
      ]
    },
    {
      "cell_type": "code",
      "source": [
        "#question -3, program--5 |Area of a rectangle\n",
        "\n",
        "\n",
        "def Area(length, breadth):\n",
        "    Area = length * breadth\n",
        "    print(\"Area of a Rectangle is: %.2f\" %Area)\n",
        "len= float(input(\"Enter length of rectangle \"))\n",
        "br=float(input(\"Enter breadth of rectangle: \"))\n",
        "Area(len,br)\n"
      ],
      "metadata": {
        "id": "VugV87Jo-MHF",
        "outputId": "94f11422-6cd8-447d-b5dc-96d4fff7a5b2",
        "colab": {
          "base_uri": "https://localhost:8080/"
        }
      },
      "execution_count": null,
      "outputs": [
        {
          "output_type": "stream",
          "name": "stdout",
          "text": [
            "Enter length of rectangle 10\n",
            "Enter breadth of rectangle: 5\n",
            "Area of a Rectangle is: 50.00\n"
          ]
        }
      ]
    },
    {
      "cell_type": "code",
      "source": [
        "#question -3, program--6 | Print factorial of n numbers\n",
        "\n",
        "def factorial(n):\n",
        "   if n == 1:\n",
        "       return n\n",
        "   else:\n",
        "       return n*factorial(n-1)\n",
        "\n",
        "num= int(input(\"Enter number to find factorial \"))\n",
        "# check if the number is negative\n",
        "if num < 0:\n",
        "   print(\"Factorial does not exist for negative numbers\")\n",
        "elif num == 0:\n",
        "   print(\"The factorial of 0 is 1\")\n",
        "else:\n",
        "   print(\"The factorial of\", num, \"is\",factorial(num))"
      ],
      "metadata": {
        "id": "b6PoQ49T-v63",
        "outputId": "feacf209-6f39-4f44-cc84-18dfcc43e5a1",
        "colab": {
          "base_uri": "https://localhost:8080/"
        }
      },
      "execution_count": null,
      "outputs": [
        {
          "output_type": "stream",
          "name": "stdout",
          "text": [
            "Enter number to find factorial 5\n",
            "The factorial of 5 is 120\n"
          ]
        }
      ]
    },
    {
      "cell_type": "code",
      "source": [
        "##question -3, program--6 | Insert a card in a list of sorted cards\n",
        "import bisect\n",
        " \n",
        "def insert(list, n):\n",
        "    bisect.insort(list, n)\n",
        "    return list\n",
        " \n",
        "\n",
        "# creating an empty list\n",
        "lst = []\n",
        "  \n",
        "# number of elements as input\n",
        "n = int(input(\"Enter number of elements : \"))\n",
        "  \n",
        "# iterating till the range\n",
        "for i in range(0, n):\n",
        "    ele = int(input())\n",
        "  \n",
        "    lst.append(ele) # adding the element\n",
        "      \n",
        "print(lst)\n",
        "ele = int(input(\"Enter the new card : \"))\n",
        " \n",
        "print(insert(lst,ele ))\n",
        "\n",
        "\n",
        "\n",
        "\n",
        "#Q3 Ends"
      ],
      "metadata": {
        "id": "bmYL9NCVAQ7y",
        "outputId": "9ac55def-58d8-4824-e223-9b08025d1b5b",
        "colab": {
          "base_uri": "https://localhost:8080/"
        }
      },
      "execution_count": null,
      "outputs": [
        {
          "output_type": "stream",
          "name": "stdout",
          "text": [
            "Enter number of elements : 5\n",
            "6\n",
            "8\n",
            "9\n",
            "77\n",
            "6\n",
            "[6, 8, 9, 77, 6]\n",
            "Enter the new card : 2\n",
            "[2, 6, 8, 9, 77, 6]\n"
          ]
        }
      ]
    },
    {
      "cell_type": "markdown",
      "source": [
        "4.\t**Write a Python program to**:\n",
        "\n",
        "\t\n",
        "\n",
        "1.   Display “Hello World” using the following Python interpreter modes:\n",
        "   * Script Mode\n",
        "   * Interactive Mode\n",
        "\n",
        "\n",
        "2.\tPerform the following tasks using operators on two integer and float numbers:\n",
        "   *\tAddition\n",
        "\t * Subtraction\n",
        " * Multiplication\n",
        "\t * Integer division\n",
        "\t * Floor division\n",
        "\t * Modulo division\n"
      ],
      "metadata": {
        "id": "XNjXjMBcRc2F"
      }
    },
    {
      "cell_type": "code",
      "source": [
        "##using script mode \n",
        "# question - 4| a. Script Mode\n",
        "\n",
        "print(\"Hello World\");\n",
        "\n",
        "##output shown below"
      ],
      "metadata": {
        "id": "mNzH0i4WSBoL",
        "outputId": "9790243f-c02c-497f-afbe-c01db0b324af",
        "colab": {
          "base_uri": "https://localhost:8080/"
        }
      },
      "execution_count": null,
      "outputs": [
        {
          "output_type": "stream",
          "name": "stdout",
          "text": [
            "Hello World\n"
          ]
        }
      ]
    },
    {
      "cell_type": "markdown",
      "source": [
        "![WhatsApp Image 2022-10-17 at 19.19.20.jpeg](data:image/jpeg;base64,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)"
      ],
      "metadata": {
        "id": "obrptjETS-R8"
      }
    },
    {
      "cell_type": "code",
      "source": [
        "\n",
        "# question - 4| b. Interactive Mode\n",
        "# as in colab- interactive mode facility note available, So I given the Screenshot of output"
      ],
      "metadata": {
        "id": "K-lOlY1uT9je"
      },
      "execution_count": null,
      "outputs": []
    },
    {
      "cell_type": "markdown",
      "source": [
        "\n",
        "![WhatsApp Image 2022-10-17 at 19.19.20.jpeg](data:image/jpeg;base64,/9j/4AAQSkZJRgABAQAAAQABAAD/2wBDAAMCAgICAgMCAgIDAwMDBAYEBAQEBAgGBgUGCQgKCgkICQkKDA8MCgsOCwkJDRENDg8QEBEQCgwSExIQEw8QEBD/2wBDAQMDAwQDBAgEBAgQCwkLEBAQEBAQEBAQEBAQEBAQEBAQEBAQEBAQEBAQEBAQEBAQEBAQEBAQEBAQEBAQEBAQEBD/wAARCAKoBQADASIAAhEBAxEB/8QAHgABAAEFAAMBAAAAAAAAAAAAAAcEBQYICgIDCQH/xABYEAABAwQBAgIIBAMGAgUGCQ0AAQIDBAUGEQcSIQgTFBgiMUFYldI4UXazFTJhFiMzQlSSF3EkV2KB0Qk1Q1JzkSU0N1N1obGytCY2VVZydHeCg5OUtcH/xAAYAQEBAQEBAAAAAAAAAAAAAAAAAQIDBP/EADgRAQABAgIJBAECBAYCAwAAAAABAhEhMRJBUWGRobHR8CJxgcHhAwQyotLxFVOCkrLCQuJSYnL/2gAMAwEAAhEDEQA/APodlPPOA4feJ7HeqqojqaddPRGt1/8AW4snrVcR9SM/ik/U5dInSz3/AO4+cvjazm9WvxIZVQ0lRL5LHsaxE6tNVN79xr3WZZdayZsrZqiNyvRVRqv7rv8A+o1YffS23Gmutup7pSKqwVUTZo1XsvSqbQWy6Wy92+nu1muNLX0NXGktPU0szZYpWL7nMe1VRyL+aKQbf8muUHhpxLHrD50mQZzQUGO2tkMvly9dRD/fytf/AJVipm1E3V8PLMHbkWXcXebwhjNY7Cnrmlkls8UTaesfT2C6TubNFF5rXMXoqY6prfZXy2vhTWtIuafVNtsxEe8zEfcT7X3XVemL7ImZ9ov1tMe9s9W2gNQs353z7G8bvmKO5ClpL9ZL3f6Sgv8AXzW63x18VFFTyRwTK6hnjkqXeltRkMEEbpEhcvUzS7ySxc05XkjKq63LPGWTI4LPb7jjuFw+gxNyd0triqlc3z431EjH1D5oE8iRnQkK7Xe1MRXE06cZWifiqLx/bNrRnS0dePKbTzlsyDUu781ZnR4Neb7hXNCZXc0wW53m6RLQUDm4xc4YWOgTy4oWuh3I+Vno9Wsj18r3+xJ1ZBmfJPImAZBecPr+QKqe2MqMcnrcmrKCjZJYaOvfXMqJERkLYUja6jiax8zXpGs6ukV7W6Os0TE23252c4ricd1+EX8jNsPQ3m1XKruFBb7hBUVNqnbTV0Ub0c6nldEyVrHp/lVY5I36X4PRfift3vFpsFtqL1frpSW230bFlqKurnbDDCxPe573KjWp/VVNR7byUuPz8gJYeWX1El+zylpKPK6ist1BTVHRj9DIiS1L6OenTqaxUYsVMvmOaiN0iqpIF+y7I838GlFmV1Smqr5dbJbKubblhimqVnh2qqjNsa53vVGdtrpv+U5xVem+6OcXdJiIqsnHHcnxrL7Wy94lkNsvdukc5jKy3VcdTA5zV05EfGqtVUXsqb7FzNfLnZOS8dz6x1suTUeLV/J+VLDdqawsirY4KalstUsaNmqqdPMme+mic6VYW6RrI+lUZ1Oobdyxl1TlFrjp+RfTcoqMuks9y4+SlpE9CtSVckS1StSL0xnRTNjqPPfKsT+rTW6kYidNG80xttHTldz0s92PXs2RBrVhd45dymTjxa3mm9QMze13Sqrkp7Ta0WkfTOiWJaZXUrulVR6o/wA1JUXa9KRrrWLUPOuV3J0zMt51ZiEkGBWi70McVDb0dc7tJNcY5Eak8L1kWT0aH/o8Wnqv+Grfa3z0otdu2zy8xH22+PRHX0M1ZNboqyB9VTMZJNA2RFkiY/q6HOb72o7ofpV9/SuvcpA/Cdbf6nmHI6/OMqrKHIb3i+P3ObFp1o2Mgc6B/nLE1IkqHMhl649+Y5EV6o7qXp1Yr/yBWYxT5TJFli4/fr/yBWW1blPX0dDTU7aejYtPBLUVVNVMjR9OyN7GpA573v7a6lcbqjRrmidUTPCYp6yzTMVUxVGuYjjEz0hs4DUK28x8w3/j+98gu5AloZMY42seWegUttpHQ11fJ6es6TOlgWRIpEpY0VrPLcnvarO6LcMj8RGdU/Ls9swqvbdGNq7zaX4jWVlL6YlTR2upqIXspY6VJ445pKaNWSy1Tke2VemJEVqtlXp4TPxBTVFXKOLa0GtMPKkqWCw1zPEilVQ3itp4Mnvfo9rY3F3rSzypCjfI6KRZZ2xxarUlczSN31u2eeLZrydnOSWPEqLk+vprLVVWQx0eS0NuoHVF8oqVtCtPVM8yB8CakqJ41fHEkciRq5rU6mq21xNEzE6u8R98MYKaoqiKtv5n6bFXO5W+zW2qvF2rIqSioYH1NTUTORrIYmNVz3uVfciIiqq/kh7KWqpq6lhraOdk1PURtlikYu2vY5Ntci/FFRUU02zrmO+5Xw/e6fO+VmYjNVcYpcaGlhpaSP8AtLWS09U2qa1J4nukRqxwp5VMrHs87arpzNXeXnTJ7JnWA4pjuSx01JBXY9j9zsddV0rX1cNXRxvWqp6ZKV1S+NPOannrVRsSSNWeW/So6UTFeEa5piP9V4+o+1q9NMVbqpn40e8tmLdn+B3hbglpzaw1q2ioZSXD0a5Qyehzvf0Nil6XL5b1eitRrtKq9veX81brrph2ZZ7lFTHk+M5HZk49vFE664s9IYLJRtlie2mrWtfIizqiq+KTzY9eTPqFm1cs3Y7eM+rOK8ZvNBZrZcskrLTQT1lPc7hJQRea+FrpVWSOCdUcjlX2ejX9UFPqo0tluc1R/wBb/OvMqjRq0dt+UU/1W+NWTNgRH4hM4yXBuOrHe6bJKbFKqrySxW+510aRVUVJTVFZFHU9Lp4+lWoxz0SRzG6T2tJ7jAH835DhVsuHIcme1WdccY1kCUFbeYaOkmkraOopGJ5kb6SFkcy09c6OJXRNanS+RH9To9pL4TOybfOH9ULMThvi/XtLY+8Xi14/aqu+Xu4QUNvoIX1FVUzvRkcMTU257nL2RERFVVKtFRURUXaKaP8AKdPmdFU59V8j5/WUmQX7hd87bPK2hbTzVKPr5JqWHpgbJM2lSWNVVj+rStc9VRyISflfIPJGBZDfMPqs+qqu1wy45UVmR1lBRtksFFXPrmVMrWxwti8tjqOJGvma/wAvznOkV7WnTQmKYmdc2/mmnP4u5zVEVzTGURf+WKvu21skDWmiz/Pb/f8AH8TxXmCqudguWYzWqDLaeht001wo0slTVyRxvbB6K90VTGjUlji17HQ5HOa/qlvhPJL3lPH8NwyKvWuuFJc7tapat0bI3VKUdwqKVkr2xtaxHubC1zka1repV0iJpEmjNrrpxpaLOwAZaAAAAAAAAAAAAAAAAAAAAAAAAAAAAAAAAAAAAAAAAAAB6K2ipLlRz26vp46imqonQzRSN6myRuRUc1U+KKiqioYH6vHBn/VNi/02P/wJDB6P0f3f7j9tEx+jXNN9kzHR5/1v2n7f9zMT+tRFVtsRPVHnq8cGf9U2L/TY/wDwHq8cGf8AVNi/02P/AMCQwdv8U/ff51f+6e7j/hf7H/Jo/wBsdkeerxwZ/wBU2L/TY/8AwHq8cGf9U2L/AE2P/wACQwP8U/ff51f+6e5/hf7H/Jo/2x2YDScB8K0FVDXUXFuNQ1FPI2WKVlvjRzHtXbXIuuyoqIpmf8Ktv+hh/wBiFWDz/rfuf1v3MxP61c1W2zM9Xo/R/bfo/tomP0aIpvsiI6KT+FW3/Qw/7EH8Ktv+hh/2IVYOLspP4Vbf9DD/ALEH8Ktv+hh/2IVYApP4Vbf9DD/sQfwq2/6GH/YhVgCk/hVt/wBDD/sQfwq2/wChh/2IVYApP4Vbf9DD/sQfwq2/6GH/AGIVYApP4Vbf9DD/ALEH8Ktv+hh/2IVYApP4Vbf9DD/sQfwq2/6GH/YhVgCk/hVt/wBDD/sQfwq2/wChh/2IVYApP4Vbf9DD/sQfwq2/6GH/AGIVYApP4Vbf9DD/ALEH8Ktv+hh/2IVYApP4Vbf9DD/sQfwq2/6GH/YhVgCk/hVt/wBDD/sQqmtaxqMaiI1qaRE+CH6AAAAAAAAAAAAAAAAAAAAAAAAAAAAAAAAAAAAAAAAAAAAAAAAAAAAAAAAAAAAAAAAAAKC80d0raNIbReP4bP1o5ZvR2zbb323pd2/Lv/Qs9PYM2jqIpKjP/OiY9rnx/wAKhb1tRe7dou02nbYGTgAAAAMfzHO8cwOmoKnIpLh/8KVnoFHDQWuquE88/kyTdDYaaOSRdRwyvVenSIxdqW7H+V8SyW9Q49Q0+TUtbURySwtumK3S2xyNZrqRstVTxsVyIqL0o7etqidlIwzz/gF/x9v3/HH/AIf/AP5n2D+F/wBq/Qv9bd/O8j0n/wDpdXT/ANjfwPDiuHAqvlyuXhXH8ffh9BqequmMy29LYyrfSozyVbBJ1rOqdLlVI1b0627ekA2DAAAAAWxmR2R+QyYp6ext2jpUrfRXtcxz4Fd0rIxVREkajtI5WqvSrmo7XUm0WSWafIZsWgrFludNTJVzxMie5sMblRG+Y9E6GOd72scqOciOVEVGqqYRygjsquttwvFYnplNHLFco7qxXMbYoetEWZ70TTnSNRzG069pk6kdpiOcnlxA+mx6nqOP73SpS5bSotbc53uRzr45UY19yjf75GvXpa5F7xL0x6RqRq4JIAAGs155l/8AJ8ZFc57zfeRuJ66uqXK+aonuFM973fmqqpRf8TP/ACcf/wCu3EH/APm03/ifB0AdDdv8XvhDtVDBbbbz7x9TUtLG2KGGO8wI2NiJpGonV2REPf65nhQ+YbAvrcP3HO6AOiL1zPCh8w2BfW4fuHrmeFD5hsC+tw/cc7oA6IvXM8KHzDYF9bh+4euZ4UPmGwL63D9xzugDoi9czwofMNgX1uH7h65nhQ+YbAvrcP3HO6AOiL1zPCh8w2BfW4fuHrmeFD5hsC+tw/cc7oA6IvXM8KHzDYF9bh+4sdH4nPBzQ5pdc8g8ROFfxK8W6itdQjr9AsSQ0slQ+LpbvaO3VS7Xa7Tp7Jrvz8gsTYnGLOiL1zPCh8w2BfW4fuLfQ+K3wdW27XK90PPuCRVl4WF1a5L/ABq2V0TOhj+hX9KO6NNVyIiuRrEVVRrdc9oIOiL1zPCh8w2BfW4fuHrmeFD5hsC+tw/cc7oA6IvXM8KHzDYF9bh+4euZ4UPmGwL63D9xzugDoi9czwofMNgX1uH7h65nhQ+YbAvrcP3HO6AOhHIfFZ4OMrstVj1/57wOqt1cxI6mD+PxsSVm0VWOVr0VWrrTm705FVFRUVUW4p4zPCeiaTxDYF9ag+453QB0CZj4mPBxnFHbqK9eInC2x2u7UN5g8i/QNVailmbNEjtqu29TE2nxT4oeOXeJjwgZq23Ut58SuIpb6GsirpqCG/UzIa6SJyPhbOulerGSNZIjWuajlaiP627avP6BGEW33+cMeUcC9+nnGXRF65nhQ+YbAvrcP3D1zPCh8w2BfW4fuOd0AdEXrmeFD5hsC+tw/cPXM8KHzDYF9bh+453QB0ReuZ4UPmGwL63D9w9czwofMNgX1uH7jndAHRF65nhQ+YbAvrcP3D1zPCh8w2BfW4fuOd0AdEXrmeFD5hsC+tw/cPXM8KHzDYF9bh+453QB0ReuZ4UPmGwL63D9w9czwofMNgX1uH7jndAHRF65nhQ+YbAvrcP3D1zPCh8w2BfW4fuOd0AdEXrmeFD5hsC+tw/cPXM8KHzDYF9bh+453QB0ReuZ4UPmGwL63D9w9czwofMNgX1uH7jndAHRF65nhQ+YbAvrcP3D1zPCh8w2BfW4fuOd0AdEXrmeFD5hsC+tw/cPXM8KHzDYF9bh+453QB0ReuZ4UPmGwL63D9w9czwofMNgX1uH7jndAHRF65nhQ+YbAvrcP3D1zPCh8w2BfW4fuOd0AdEXrmeFD5hsC+tw/cPXM8KHzDYF9bh+453QB0ReuZ4UPmGwL63D9w9czwofMNgX1uH7jndAHRF65nhQ+YbAvrcP3D1zPCh8w2BfW4fuOd0AdEXrmeFD5hsC+tw/cPXM8KHzDYF9bh+453QB0ReuZ4UPmGwL63D9w9czwofMNgX1uH7jndAHRF65nhQ+YbAvrcP3D1zPCh8w2BfW4fuOd0AdEXrmeFD5hsC+tw/cPXM8KHzDYF9bh+453QB0ReuZ4UPmGwL63D9w9czwofMNgX1uH7jndAHRF65nhQ+YbAvrcP3D1zPCh8w2BfW4fuOd0AdEXrmeFD5hsC+tw/cPXM8KHzDYF9bh+453QB0ReuZ4UPmGwL63D9w9czwofMNgX1uH7jndAHRF65nhQ+YbAvrcP3D1zPCh8w2BfW4fuOd0AdEXrmeFD5hsC+tw/cPXM8KHzDYF9bh+453QB0ReuZ4UPmGwL63D9w9czwofMNgX1uH7jndAHRF65nhQ+YbAvrcP3D1zPCh8w2BfW4fuOd0AdEXrmeFD5hsC+tw/cPXM8KHzDYF9bh+453QB0ReuZ4UPmGwL63D9w9czwofMNgX1uH7jndAHRF65nhQ+YbAvrcP3D1zPCh8w2BfW4fuOd0AdEXrmeFD5hsC+tw/cPXM8KHzDYF9bh+453QB0ReuZ4UPmGwL63D9w9czwofMNgX1uH7jndAHRF65nhQ+YbAvrcP3D1zPCh8w2BfW4fuOd0AdEXrmeFD5hsC+tw/cPXM8KHzDYF9bh+453QB0ReuZ4UPmGwL63D9w9czwofMNgX1uH7jndAHRF65nhQ+YbAvrcP3D1zPCh8w2BfW4fuOd0AdEXrmeFD5hsC+tw/cPXM8KHzDYF9bh+453QB0ReuZ4UPmGwL63D9w9czwofMNgX1uH7jndAHRF65nhQ+YbAvrcP3D1zPCh8w2BfW4fuOd0AdEXrmeFD5hsC+tw/cPXM8KHzDYF9bh+453QB0ReuZ4UPmGwL63D9w9czwofMNgX1uH7jndAHRF65nhQ+YbAvrcP3D1zPCh8w2BfW4fuOd0AdEXrmeFD5hsC+tw/cPXM8KHzDYF9bh+453QB0ReuZ4UPmGwL63D9w9czwofMNgX1uH7jndAHRF65nhQ+YbAvrcP3D1zPCh8w2BfW4fuOd0AdEXrmeFD5hsC+tw/cPXM8KHzDYF9bh+453QB0ReuZ4UPmGwL63D9w9czwofMNgX1uH7jndAHRF65nhQ+YbAvrcP3D1zPCh8w2BfW4fuOd0AdEXrmeFD5hsC+tw/cPXM8KHzDYF9bh+453QB0ReuZ4UPmGwL63D9w9czwofMNgX1uH7jndAHRF65nhQ+YbAvrcP3D1zPCh8w2BfW4fuOd0AdEXrmeFD5hsC+tw/cPXM8KHzDYF9bh+453QB0ReuZ4UPmGwL63D9w9czwofMNgX1uH7jndAHRF65nhQ+YbAvrcP3D1zPCh8w2BfW4fuOd0AdEXrmeFD5hsC+tw/cPXM8KHzDYF9bh+453QB0ReuZ4UPmGwL63D9w9czwofMNgX1uH7jndAHRF65nhQ+YbAvrcP3D1zPCh8w2BfW4fuOd0AdEXrmeFD5hsC+tw/cPXM8KHzDYF9bh+453QB0ReuZ4UPmGwL63D9w9czwofMNgX1uH7jndAHRF65nhQ+YbAvrcP3D1zPCh8w2BfW4fuOd0AdEXrmeFD5hsC+tw/cPXM8KHzDYF9bh+453QB0ReuZ4UPmGwL63D9w9czwofMNgX1uH7jndAHRF65nhQ+YbAvrcP3D1zPCh8w2BfW4fuOd0AdEXrmeFD5hsC+tw/cPXM8KHzDYF9bh+453QB0ReuZ4UPmGwL63D9xcLB4rvDVlN6oscxznLC7ldLlOymo6Omu8Uks8rl01jGou1VV9yHOaTD4OvxUcVfqu3/ALzQOiD02k/1Ef8AuHptJ/qI/wDcYFmeZ47gGO1eU5TcWUdBRsVXOVU6pHa7RsT/ADPdrSInvKzH8gsuVWWkyHHrjDX26vjSWnqIl217fd8e6KioqKi6VFRUVEVAOa8HnBTz1UiQ00Ek0iorkZG1XLpEVVXSfkiKq/0Q8AAAAAAAD2R01RNHLNDBI+OBqPlc1qqkbVcjUVy/BNqid/iqIesAAAAAAAAAAAAAAAAAAAAAAAAAAAAAAAAAAAAAAAAAAAAAAAAAAAAAAAAAAAAAAAAAAAAAAAAAAAAAAAAAAAAAAAAAAAAAAAAAAAAAAAAAAAAAAAAAAAAAAAAAAAAAAAAAAAAAAAAAAAAAAAAAAAAAAAAAAAAAAAAAAAAAAAAAAAAAAAAAAAAAAAAAAAAAAAAAAAAAAEw+Dr8VHFX6rt/7zSHiWPCb+JbjT9SUX7iAfePJOP8AHstyGwZDfoX1TscfPNRUz3bg8+ToRJns9znsRi9G/d1uX36VP3DOP8cwFbtHi9M6jpLvXLcH0jXf3MErmNa/ym/5Gu6erp9yKq60mkTBSptv/nGl/wDbs/8AvIB8X8Ql/wCGXh8ufJNolWLJsxvEuL0VWie3Q2+KFslW6J3+V8vmRxq73ozqRNdSl/42sOM37wm5IzLsxjxu2UmcUlRLUpRuq55V9Ce1sUMLXN8x6q7enPY1ERyq5NGP4LPbuSOCb1xL6TT0uR41cZcssnpErY210HkIyspmq5U/vEZG2Vqf5uhydtd6LjjkfjCm4su3FPKFpyh9FWXyC+QVlhlp0lbJHC6Ly3MmTXSqOVdou/6FnOuNsU29vTM89KfdIwimd835x0spcl4VteMZ7j+PVWcrPjuU2yG8Wq809omlmnp5Wu6GehsVX+cr2LH0deupU2/XcquU/D/PgGK2fN7VeLtU2i7XGS0uZfbDJZaynqWtR6dUL5JEdG5q7SRr1TsqKiaMqx/xPWGz8o0GQMxO5UeL2fFpMPtUdJWMW6UFK5jkSrjmc1G+k9TnqukamnKiL8VoOWedcIzPjG0cb2SHObg215At2kuGS3ZlVU1ULoOhzepNpEu+yNRHNRPa2qqqEnVbby0tf+nzCVi+vZzt3wWbl7g7HOII6qzXjPrjLlNI2NyUMmNTQUFbtW9a0tYsi+c1qO31LExruldL7t5DhvhLuV/suNVd/vt8tlwy+BlVa4qLFam40cMMjlbC+sqo3o2BHqm9NbIrWqjnI33HneueuPaHiu98eYk3kG8xXukjpIKHLLjT1NBZul7XedSoxvUsjUarGqnQiI5V1/lKm1+I/FL1h2OWjNrpyhZLni9sjtEK4hfW01HX08Sr5TpY5P8ADkRF6Vc3q2iIuk9wjXfzO/1tNlvMvzsYRxld7nw3zJNiOVQslts9dJjOU29V64aqkdJ5UzV921avtscmlRzWqhinK2GM475LyfBopnyxWO61NDFI/XU+NkioxV122rdbMk4ms1tzbk+XLMqurqTG7HO7IL1VXCrSad1NHKjki6naWeeRysjTttzn7VETZifI+Y1HIWfZDnFTD5Ml9uVRXrHvflpI9XI3f9EVE/7iY2ovnab8rc9Lmuuq2V4tzvy0X5x3ia53nuO4WlT6P/HLnTW9ZkTaxpLI1quRPiqIuyTeUuRMIxu75JxZiHDGHsslrnqbTT3Ktp5pru98blYtU6q8xFR6var0ajUYnZulQiPGciueI5HbMpssqR19oq4q2me5Nokkb0c3afFNonYlPkHOPD5ns14zdcOzS15devNqZqCmr6Z1pZWybV0rXuYs3Qr16+jXxVvV8S1ZR835W+0pzn4tzv8ATCsYwzF75g2U5RdeRbbZrrYW062+yTwPdNdvMf0uSNyLpvQnf3O/r0p7Rl/A8keY2rLOD616uXK6H06xtXv0Xmja6WBG/kssfnQ/1WRqfkYhjF34yo8Gym25ViNyuGUVraf+z9ygrlihoVa/+98yP3P6m/mjvyTp/mMfx6/XPF79bsks1QsFfaqqKsppE/yyxuRzV/8AeiFwmZpnKY8n3jP3yMYiJjOJ8+Jy9klcC45Y77bOUH3y0UtbJasHr66jWeJHLT1DJIkbIzf8rkRVTfv7qeVpxmyVXhfuuRutdH/GW5xR2+KvexElZA+jkcsfWvdGK5EVU93bZlFx5LwHBOYMiya2UsV8wzkywPbdKC3VTY6m3trmtfPC1yoqMlhna7TXJpWo3et7TFc05L45i4/pOKOMbBkDbA69Nv1zrL5Uw+mVUzYvKbExIW9EbGsV3f2lVXe5NaWRv2RHzFV55a9ZO7bM/E04c9T28vcHY5xBHVWa8Z9cZcppGxuShkxqaCgrdq3rWlrFkXzmtR2+pYmNd0rpfdvIcN8Jdyv9lxqrv99vlsuGXwMqrXFRYrU3GjhhkcrYX1lVG9GwI9U3prZFa1Uc5G+4871z1x7Q8V3vjzEm8g3mK90kdJBQ5ZcaepoLN0va7zqVGN6lkajVY1U6ERHKuv8AKVNr8R+KXrDsctGbXTlCyXPF7ZHaIVxC+tpqOvp4lXynSxyf4ciIvSrm9W0RF0nuEa7+Z3+tpst5l+djFsc8PMFRZc4vee8gUWKx4BeoLPcmPo3VTpnP85F8hGORZJOqHTWaRHI5VV7Eaqn5R+H6gyLk3G8Fwjki3Xm3ZNa1u9NcfRlZPDEyOR8kMtIx8jm1CeU9EiRyq5Vbpe/ayN5Qt7+MM1wqoprnNX5RkNBeIamonSdWRwJUI5s0i6c+RfPb7XT30qroxjArji9pyijuGYRXxbdCquWSyVbKetgkRNslie9qptrtLrtv80LGeO7/AIxfmThTx/5Tbl5ddeQMZxfBbrRsw/NLxcK6nlf6VBc7C+0VlBKxWqxVYssiLvaqio/qTp7om03k/iEhpckrMe5mtcbW0+fW70mvaxumxXeBUirmf0Vz0bNr8p0+BVc5c149yLjGPYfYmZPdW2OeeoW/ZXUwz3SRsjWolMjok7Qt6VciK5yq53+XXe2YPfrNfuHMx4zyO8UlDNb5Isox6SpejEfVx6iqaZqr/mlhcitT4uhT8zGOjN9WPfzXaFwvFteHbzZMpay3IePMLvfGvH904Wwu5WPIcXsdTdapKB0N0dJUt6ZZY6mN7Va9P5k7e/372YzV+E6ohyvPGz3W9Q4xiWQSWKmntdjkvNfVy93ta2CJ0aIjY+lXvc9iIqoibVdHsuXNvA9xqcNzW54Xl91ynDrHbbZDQTVVNT2qeekb7Ekjmo6ZWdXdWprqRETtvZSYb4nVqLdlNh5LqsspYclvz8l/iuI3JKKtp6x7Va+NWuXpkhc3p9lVRWq1F7/Dc4zO29XWLcIuzGER/p6TfnZiWeYhnnhmz+3VGPZXX0lVWW1lytV1popaCpdSztc1UfE/T4ZOz2uYqrrv3VO5d/F3X1tRzzX3SeqlfVyWmxVD53O290i2ulcrlX8999ljveWcX5fyEldltz5Lr8YgovIhmq7lBW3Z0id0VXSokbI1VV9hN69+12peeeM/4V5Nyqiy7GKLNqWql9Ao7lFX+ieWlHTU0cG4ehVXzVbE1faXp2qkiZwnfhujFcNKrZMc/TP1PRdeaczyzPPDxxTkGZ5DX3q5OvGRxOqq2d0sqsatH0t6nd9IYng/GWMcpYoltwu8zwciUSyyPstfIxIb1D3VqUL9Jqdqdlheqq/3tX/KZRnGf+HS9cSWjjvHaLkdlVjUtxrLVPW+g+XJPV+VtJ+hd9CLC3XSiL3X3mH4vy1S8e4Y63cfWF9sy65JLDc8mlnSSoip3bRIKJvSnoyOYunyIqyLtURyJ2GGPnm/dvIvo0x79ZnpOG9csL4Ost347vfI+d8g/wBkqTH74yyVdHJaX1NU+R0Su6Yo0ezqlRyaVjuhERHOV6a0t1Xw0Rz5i7FbXnkday7YlJlmLVLLcrXXhjY3SJTOjWTcEqtjl7IsmlZrvsyDjJ/HTvCpkb+Uf7SPtrs6pFYtjWD0hZ/Qn6V3nez066t/Heigs2W55yxzHid84ZwqenouOqWgprZBLUI5KShp5N+dW1Hstaj3Oer3dmojtJvW11NN69DLL2i9OM/Ezf2Z0rU6Xv8ANqsI4RZgFt4zsUXHdn5FzDMZ7RTXu+yWqmpKe2JVTvpoY2uqKtqLLGioxz42Izt1K5faTRJPiI494Kxenxx2PZfdqG4TYbbq2moocXYkVxkexypPNN6XuJ8i93J0SdOkRFcYp4os0xHKOTJ7LxxDDDh2MMfbbOyB243osj5Z5mr8UfNJIqL8Wo09+b8k8RclYbZp8ks2W0Ga4/j1PYaZ1BNTPtlR6OipDLIj0SVu0X2kbv3dlOelp0XjDHlaY64/O7DpbRqtOzneJ6YfG9JmZcYYZyHZ+ELTkHKEWPXW9YfQ2u1UUdpkrXSTOnm6XzuR7EgiVz2sRydblXq9nTVUiW1cF0dvs1+ynlHNUxiy2S+SY2ySjty3GqrbhHtZGRQ+ZEnQ1qdTnue33oiIqroqazmmw1OWcQ39lqr0h47t1to69iozqqHU1U6Vyxe1rSo5ETq13Ln/AMaeNsvo8pxDkzHsjdjt0yuqyu01VmmgZXUc0yq18UjJdxvY5nTvSorVb23vturGqZp1zV/yjrF2KMKYidUU9Jvzs87X4Wv4pnrMYj5Jtcdjr8Umy+1ZBJSPSCejYi/40au64FRWuR386t6V0jjFc+4kx2wYBb+TMDz9+UWKqustkqXT2h9vmp6tkaSJpiySdcbmLtHbavwVqKZfH4jMbhyeqkosXr6LG6DBK7CrFSJMyaoY2ZrumeoevS1XOe9z3dKdt6RF1tcDfyLa3cDRcUJQ1X8RZlTr8tT7Pk+StKkPR7+rq6u/u1r4ma//AK+eqc/9Nlpz9Xnpj/tdH4AKAAAAAAAAAAAAAAAAAAAAAAAAAAAAAAAAAAAAAAAAAAAAAAAAAAAAAAAAAAAAAAAAAAAAAAAAAAAAAAAAAAAAAAAAAAAAAAAAAAAAAAAAAAAAAAAAAAAAAAAAAAAAAAAAAAAAAAAAAAAAAAAAAAAAAAAAAAAAAAAABLHhN/Etxp+pKL9xCJyYPB6xsnil4rje1HNdlVvRUX3KiyoB9oiptv8A5xpf/bs/+8hI38Bs3/6Mpv8A+2h+ssloje2Rltp2uaqKioxNooHPVbeBOa7xYIcqtPFeT1toqYPSYayntsskUkX/AK7Vai7T/kYG5rmOVj2q1zV0qKmlRTbu7vwrGX8Ecj5Lyu3HZsfxG31X8MpKCsmuFZHHUTP6YnsYkDUf3YvXK3SbVUVPfgzGWXxB4xybJjOF09Pl9PkP9rbYyCJHVVRbp5vKnpOpE27y3SxSInu/n17u9qiYqmI1X5TbvO6yUzemJnXbnF+0fKBLdbq+8XCmtVqo5qusrJWwU8ELFfJLI5dNa1qd1VVVERCsosau1Zk9PiDqf0a5z17LasVRtnlTukSPpf22mnLpe3bSmyeL5FjHH/ikxDj7FcHxathstTasZra2roEmkluDJmelVkbkVOmXzlexr137LG/8jGs55FXKvEDR487AsQsq2zPE3W2m1+jVdT01vT/fSdS9e/5l7J7XctFqq6KYxiZnrH1N0rmaaKp1xEc4ntZCmX4vcsJyq7YfeXQur7LWS0NSsLldGskbla7pVURVTaLpdIWg3EzupwfknOOd8KqOL8ft7sYobvfKO8wpI66Prqeob1PknV2nMern/wB30o1qKiJ3TZjb24NxfduNeNYOHsdyunzK0Wu43e43OCSWuq5K52nMpZWvb5CRovS3oTfUiqu1Of6d69GNc2537S3XanSnVF+Vu8NXwbUV2P8AHPDWA8jXWLj6x5fXY5yM6wWaovTXSshhSGT/ABWsVvnIiMX2FVG9So7S9KIRp4l8exy0ZTjV7xmw0lkhyrFLZf6i30SOSmgqZ2O8xImuVVaxVbtG70m112LNWW+3ONLoWxmPflNkRsY+R7Y42K5zlRGtRNqqr8EMwynhvljB7QzIMw45yGzW2RzWNq623yxRdTv5UVzk0ir8NmHse+N7ZI3q1zVRWuRdKip8UNlcGqsMyDg7k3H+O7vk6ZJV2OmvGSrkXlyUdRDTTxyTejOid7MqyK3pdK1yq3aIrVXYqm1M1RqSnGqInX55ta0mR4Zxxn3ItTUUmB4dd7/NSNR87bfSPn8pF3pXdKL070ut+/Slnp7RdqugqrrSWurmoqFWJVVMcDnRQK9dM63omm9S9k2qb+BsDw0mMU/h2yp/MElwiwGtyOkipVsjtXOS7Mi6tad/dOgSFVVUk/zIit77NWwmZ8xiE1xCBcjxnIsQu81gyqx11ouVPrzaStgdDKzabTbXIi6VO6KW+KKSeVkMLFfJI5GtaibVVXsiITh4uI6+bPcerIquGssFXi1tdjMzetZ32tGubD6R1+0s+0f1/Dfu7aQiBaO5Ytf4YL9a6yhqqGeKWamqIXRTNRFRyIrXIiptNKm/zQfp2qqtXhF7cz9S8U3pxm1+TK8j4C5rxCy1OR5RxbktqtdE1rqirqrfJHFEiuRqK5yppNqqJ/zVDATZLNrDxF4ia3kfk3jq6ZZaMgt1NU5VXUV8p6Z1HND5ieZHHLE/qjcnWnT1I7q93be01tMRM5S3MRGS64ri99zXI7fieM2+Stul0nbT0sDPe96/mq9kRE2qqvZERVXsh+ZRY2Y1kNwsEd5oLqlvqH0/ptA9z6edWrpXRuciK5u999aX3ptNKSr4b1dQ2rlXI6CFH3e1YLWOoXIntw+bLFDNKxfgrYZJO/5KpbPDziON5HfMnvuT2pt3psPxmuyGK1vc5sddND0oyORWqjvLRX9TkRUVUbrelU1Nom2688+08WYva++0cu8cGGy4BfYuOoOT3Ppf4PUXd9kY1JF870hsSSqqt1rp6VTvv3/Axs20r6lvMXAXH1DcsSsWIUV85PbbU/gVu9DgfE+Bkbpka5XI5yK5zeretsRPge7kui8OFpp8349utxwC3PsUFXS2Blpsd5Ze4rhA7UTKmqkh8qZHq1zXq5enbttVERFSTM0zN/PTEz1Wm1VvNcxHRr7xzxBknJNJdLvQ3Ox2WzWbym1t2vle2jo4pJFXy4utUVXPd0uVGtRezVVdGL5BaP4Be62y/wAUt9y9CmdD6Xb5/Opptf5o36TqavwXRsfjOdYJT+FK81VRwpjtVBS5ZbKWopn3O6NZVz+hzf8ASXubUo5r+y+yxWs9pfZ7JrHeGrTbmWHKOV7pjnGdmxn+KRW6mnyuluFzhppno6T0Wmp4lkkk9hWqr5EcqI1Pa/mN1RaqY1Rbnbv5ODFM3pidc35X7eQgI8oY/OmZF5jGdbkb1PXTW7X3qvwQ28vvFPHNDzDfoLZj1pnt1y4nqsoip4KeVKOGudSq7zqaOdEkib1N62tciOb1a7dkSIKnFLTB4TqPMZLFCy61GdSUUdxdBqWSlSi6ljR+tqxHoq6929mL6OM6v6tHq1a+EeenS6LByVwxe+M7LY8jq8oxi/WzIJaqGjqrDcFq4+un8vzWud0NRFTzWe7fxMOWwXttibk7rVVJaHVS0Ta1Yl8lahG9axI/3dXT3179EqZ5+GHif/6cyb/7aIk2LmNbd4TbPeP+FPHdUkOYyW1aapsXXTu6KFi+e5nX3nd7lfvunwE+mJnZbnMdyn1RTvvymrs1PBcmU10yy+zMstjdNWV8ss8dDbaZzkb73ubHG3ao1qb7d9NT+hbVRUXSp3L7gZneuFuXcbxxcuv/ABrklusqNa51dU22WOFqOXTVc5W9kVVRO/5oY9jN9qMXyO15LSU8FRPaqyGtjinZ1RyOjej0a9Pi1VTSk/ZTbcN8RT835L43yjIbHlEVunv+QY7eX+dT1FMxzXTJTVcaptrHdPTFKxN+zpU0KsKbxv8APMinGq0+ec2t4NwLRjPBXF+MYDQZlWceugymx0l7vj8gs12rLlPHUOd1pST0sTo4EY1Fa3pd1dTVV3vQxOzt4owfh/NM7seDWXNUoM9bbMdrb1DL0pRup5HMfLH7DpEVrd+W/pTqVHKm00WY0b7u8R1lIm8RO3tM/XRrWCXvEjjmPWq8YhkeP47TWBcvxWhvtba6VHNgpqmRXtf5THKqsY7oR6N3pOrt2IhJtidV44YLqiY12niGZWnhjlq/Yz/bKycb5HXWPofIlwp7dK+BWMVUc5HImlRNLtU/JTDTYPwnZHgdu5Cxua6XXL483bWrb8ffF0TWmFZU6IWzxo9szo/Me5XMY5EVF+PdFtrxaM0mbY6mvhX2HH75lF2p7FjdorLpcat3TBS0kLpZZF1v2WtRVXsiqe3KbTW2HJ7vY7jJBJV2+unpZ3wLuN0jJHNcrf8As7Rdf0KjC0zKfIae1YFJc/4zdkdb4Yrc9zZp2yp0ui9lUVUciqip7te8lE6cRO1quNGZjY88xwDN+PK+K151id1sNXPH5sUNwpXwukZvXU1HIm03+RX33iHlLGMciy/IuPcgttkn6FZX1VvljgXr/l9tU0m9prfv2hPLqjGbPl3CHh6vV3psgqMSyTzr/VNkSWlp56qph3b4X+5zI/LRHqnsq9zte5TObdPitBn/ADVYLnkF2yvIrrj+QT5RWvV8NrtscTXLDTxskTqnkZL5bEkcjWN7oxHfzEmbUzMY/wAX8sRPO+eWF8bwRE6UROGXOZj6y32wtLU2zcQcp5FjUuY2LjzIa+xwNe99wp7fK+BGs/mXrRNKiaXap7tKUOG8fZzyHWy23BcSu1+qadnmSxW+lfO6NvwV3Si6T/mTJ4eKrIsUrrZ4gs+yS40mH4G2SktUctQ5ZLpUK16tttIxV7sVzlWRUToa3e/eXzCqLD7l4V6y95TlM+OWSozuWS/QWqmdLWXHppmupaOJvZjU26VyOlcjG63py6auqrRM7I+5iI63tnxiUi8xG/tMz0tftMNbb5Yr1jN2qbDkVqq7bcaN/l1FJVQuilidrenNciKnZUX/AJKhQmwHi7uNBfK3ja+U1sqKCor8Jo3yU9VUrUVKQpNM2mWaVURXyLCjFVyom99kRNEE3S03SyV0lsvVtqqCsh15lPVQuilZtEVNtciKm0VF7p7lM44xOqZjhNjVExriJ4wpTLrNxBynkWNS5jYuPMhr7HA1733Cnt8r4Eaz+ZetE0qJpdqnu0piJsJ4eKrIsUrrZ4gs+yS40mH4G2SktUctQ5ZLpUK16tttIxV7sVzlWRUToa3e/eawtMz55lbXyTG9oi/nmKE8UwzLc6uqWPDMbuV7r1ar/RqCmfNIjU97lRqLpP6qWqeCammkpqiN0csTlY9jk0rXIulRU/PZOnhSzvKWc64fi9BdpqGy3jKqeurLfTL0RTSIq9KO13c1u+zVVUT3633IhySSOLMbpLLA2djLnO50TlVEeiSrtqqioqIvu7LsmuiMr35aPfk1h6rarc79lma1znI1qKqqukRPeqmXZLxFylhtjgyXLOPcgtFqqVa2KsrbfJFE5XJtqdTkREVfhsq+XMio7ryLU3uwcapxykbaZY7LA+RHUsjY2/3iK9rVarl09NNT3p7125ZNqqu98W8K5e7ky81dXlnLsNI+ls1VM6SeGljnSZblVI5VVr39KNiRfaVFc73EmfRfX5aPnlntsiPVbzfPxzy2InsfEPKeTY5Ll+PceZDcrJCj1fX01vlkgRGb6l60TS60u9e7SmIm3WA5FhnJvInCt3xnlSbG7xi9JbbI7G1tdbNM6aGT+9dTvhYsCxzIqq9XvZpOpXIqES09+xSzeJO/Xij4xpuQLJ/G7p6JYGOekdTE50vQ5nltd2antp7Lk033fFLOFVvfl3v8JGNN/bnfpb5RXZ7NdshudNZbFbKq4XCsekdPS00TpJZXfk1rUVVUu2ZcdZ7x3V09DneH3ewz1bFkgjuFI+FZWoqIqt6kTq1tN6920Ji8JdHTXbI+SKiiulLjdezDbjLQ1z/Ne22RukjbPIzpR0qqyB0iJ07cv/eZrHJj914EsVg4pjuVc61cl22msFzv7kRbhcJInunc2DukEHV5K+WjnL3VXKqrpNRF5iPbnVo8s9+W9Jm1/nlF/NnJr3fOE+X8ax/+1eQcZ5LbrOjWvdW1Ntljha13uVzlbpqLtPf+ZSRcdXqr45n5Nt9VR1luobg23XGnhkVamgc9NwySsVO0ci9TWuRVTqaqLpdG22WTYXcrnzhDxndLivI89kqv7VRXJ73WmWGNzf4h6Aq/3nU16aj87sjd9PwUgjwtSyVGRZnjtSxH2m74Re2XFHJtrGRU6zRSKn5tljj0vwVTnEzMTbZfhefnK1+WDVoiY97cbR95c0LF0xbHbhl+S2rFLS6JK28VkNDTrM5WsSSV6Mb1KiLpNqm10pazOuCP/lswL9SW7/8AEMOlERVVESxXM00zMGccQX3Csso8Igvtgya8Vsy0zabHq1ax0dQknl+Q9OlqpJ1dunRZqfjvO6q53qzU2I3WSuxyGWou9O2leslDHEupHyprbEavvVfcSpgtP6V41LfD073yC92v+Va5f/8AhLuEcqYbmN2qKXG31L8uzXHb23MV6JGtRaG01cVPpypqRZu079b9trd90OVFU1fpRXOuJnhF+DrVTauaI1TEcZmPrBq/jHDHLWaWZ2RYlxvkd3tbepPTKO3SyxL07R2nIml0qKi6+KaLRi2D5jnF2Ww4di90vVxa1XupaGlfNI1qLpVc1qKqIi9tr8SccfyzA+fbbgXHl/vl+wrNMepobBYbjRN9ItVQ7zFWF0sTVbLTyuc5GukYrk3pyp8E9l3smQceeFvK7Pb6hGXaPkSSyZTU0Uqq6SCGnVIo3vTSrC6XrVEd2Vfhs3Vam8zlq34xH3jsYp9URGvphM/WCCctwnL8Cuv8DzXGrlY7gsaSpTV9M6GRWLvTkRyJtOy9/wCillPbPV1dSyGKpqppWU7PLha96uSNm1Xpai+5Nqq6T4qpXYvdqSw5Ja73X2mmulNQ1kVRNQ1LEdFUxteiujei9lRyIqL/AMy0xebTKTNovC2A2by3jfDeOa3lPkmfH6StxmtoKaPCIpoEWF8t2b50MjGqmt08LZv+TmohrfT2i7VdBVXWktdXNRUKsSqqY4HOigV66Z1vRNN6l7JtU38DMTq47t3m1q2uP771bimGZbnV1Sx4ZjdyvderVf6NQUz5pEanvcqNRdJ/VT0WrG8gvt8ixmy2Wtr7tPK6COipoHSTvkTe2oxqKqqml3+WlJg8IuZZTb+acIwygvlVT2W5ZLSVNZRxO6GVEjNo1ZNd3Inwaq6Re+t9z1cQ53i2Fck55TZXdqiyw5JbLrY6e908D5n2uaaT2ZlZH7at01Wu6Nu07silqwmLa4q4xbre3lkjG/xzv2v5dGeZcfZzx5XQ23OsSu1hqqhnmwxXClfC6Rm9KrepE2m/yPXeMGzLHrJbckv2LXS3Wu8dX8Pq6qlfFFVdKIqrG5yIjk0qLtPzQnnN4LNiHhWxllo5Cp8oqabOpqmy1kVBUQRQMZTIs7IUqmMe9iSeUrvYRvWuu6lp5SybIMw8MGDZHlF4qrpc63ML4+eqqZFe96+VTfFfciJ2RE7InZOxKp0aap2W5zT/AFct+FjGad9+Wl257sYpwzivknkRk0uCYJfL9HTO6ZpKChkmZG7W9K5qaRdfAxmeCammkpqiN0csTlY9jk0rXIulRU/PZtzlNi4hrsY4d4ryPIs5t7L9jlvqKOCyU1O63JW1cr0fVTte9HTSLIul0iKjWIiL+WsGeYnUYHm19wqrq4qqaxXGot754002VYnqzqRPhvW9fAtXpqt7xwzSnGm/tPHJZqamqKyoipKSnknnmekcUUbFc97lXSNaid1VV7aQyTL+LeR+P6Sir84wi9WGnuKubSyXCjfAkytRFcjepE2qIqf+8k7wf0tlTO8mv13qaqmlx/ELrc6OopIWy1NNMxjW+dA1yoiysY97mqqppdL8Cul4V4/5Qtdnz7As/vtHRXPKI8dvM+Zup2SQyyRLMtUk7H9Lmoxrttd33rv3NTTlEa7c5t1SKoxmdV+UXQpHheWy4pJnUeOXB2PQ1KUUlzSB3ozZ1RFSNZNa6tKnb+pZjd7PcWy++8C5/i1lpMeocXx+uslNjdHHlNqlRtHAtW6aeZ8dQrEqJnO8xyKqOeq6ajuntpCYvGlMRu5xEtWtET5mySDAL7UceVXJrH0v8IpLtHZpGrIvnekPidK1UbrXT0tXvv3/AAMcY1z3Ixqbc5dIn9TYzjHKrVh3hTyG9XLDLVksjM5pGUlLdet1JFMtE/8AvZImqnm6ajkRiqjduRV3rRa+Xpsc47zTCORMe4/xprspxOlvddj1dROntsNTMkkb1ZA522sXpSRrerSKvbtpDdURTVacsOdN+7FMzNO/HlVbsiXOcEyvjbJJ8RzW1fw67U0cUstP58c3S2RiPYvVG5zV21yL2Xtvv3Lfd7Be7A6lZe7VVUDq6ljraZKiJWLNTyb6JW797XaXS+5SW/EK6yYL4gZLhj2HY/DRU9FZrg2zrQp/D3Plt1PLI1YUVNsV73Kqb+PvM98U3K6+j4rYV4zwNEvWBWmdK3+Df9Ko/Njd7FNJ1/3bGa9hNLr+piZmmm+u9uU9m4tM4ZWieNu7VguuK4vfc1yO34njNvkrbpdJ209LAz3vev5qvZERNqqr2REVV7IWomnw3q6htXKuR0EKPu9qwWsdQuRPbh82WKGaVi/BWwySd/yVS3iImqdUTPCLpaZmKY1zEcZsi3IMcksuU1mK0Nzo73LS1a0cdTbXOkhqXovT/dKrUVyKvZF13+G00pV3jjnPMfyqDB75iF1ocgqnRMgts9K5lRI6RdRo1iptepfd+ZIHhRw9+T8wUN2kip5KPEqafI6htTURwRPWmb1QxukkVrGI+dYWqrlRERyrvsT5Fh+aZNk3A3JWbz22ryC35Y3HLzLQ3akuDXs9JWqpJHPpZJGNXofMxUVd6jauu5YptoxPz7ThHNJq/imPj3jHo1Cp+O87qrnerNTYjdZK7HIZai707aV6yUMcS6kfKmtsRq+9V9xfI+A+bJrBHlUHFWUS2ianbVx1sdslfE+FydSSI5E7tVO+/wAjZXCOVMNzG7VFLjb6l+XZrjt7bmK9EjWotDaauKn05U1Is3ad+t+21u+6GF59X5VbubuEZ8Lnqorw7EsYjp/RnORz1d2Vq697VTaKnuVN7JTGlNNOuq3PS5YLX6NKf/jflo92u2M4pk+Z3VljxHH7hebhI1XNpqGnfNIrU969LUVdJ+Z5ZViGUYNeZMdzGwV1mucLWPkpK2F0UrWuTbVVq99Ki7Q3EzNvFGL4zy/fJbnklttt05Mls9VJi0cKVMtO2F0iU6ySORrIFlWVyoiL1KxqKnbtguN+HnC7LyBbsnpb9SXjGnYzBmFntN/rKS2VNxlke5kFFM6aVsWkkYrpHI5EWNqoibchKZ0oifa+vOnS6cVqjRmY9+U6PVrvkWF5biMNtqMoxy4WqO8Uza2gdVwOiSpgX3SM2ntNXad0LjnHHV6wWmsVyrKqjr7ZklvZcbbX0Uivgmb7pI9qiKkkb9se1U2ip+SopPPizsvIt44742znOaq0VNelDcW3KSmvdDUf301xmexsLIpnLJG1itbuPqaxERqqipowW2SyXPwh32C5MRY7Hm9C+1yOTao+ppZkqI2r8E1FE5U/Maqp2T92+4n+5rpjbH1f6sxnCeE73n2JXXK7HlmKNfZ6Sqr6i01FyVlxWnp2dUkjYUYu26Xsu03/AEI8Jk8MX/nvPP8A+H9+/YQhstWFURGyJ5zH0zTN4n3tyifsB7KeSOKoillgbOxj2udE5VRHoi92qqKioi+7suzMuZL1bL/n1bcbTxfFx9A6KBv8CY6RfIckTdvXra1U6/5tdKJpU967cqcLLGLCQZ1ld+tFfxnh1npeKILHWULqxZsla+VXXxFenbTmo3+7/lXTna7InQm0XBRrmDVErvimH5VnV5jx7Dcfr71c5WOkZSUUDpZXNam3L0t76RC2VVLUUVTNRVkD4Z6eR0UscjVa5j2rpWqi+5UVFTRsV4ccYzazcXZpyhg9RbaW/wBZU0mOWeauu1Jb2sRJG1NXI19VJGxyoyOFmkVV1K7t2M+uvGuJ0PiUzG/ZfiNuvthv2DV+bQW9KtkkPnPgSSVkdRCrkRWztmakkarpNKilqjRn4m/C8ckibx8xbjbrLTMGwmVWqzctcM43nOP8bY7YMlmzVcViprHC+mgrIZIGyRNka56p1o9enr2iqi91JGyDAMAvGI8lYhdqHi2K/YNYp69lPiNruUVbb6uB7EVstZOzyqhndzHIr3KqrtO6bTNU6MTM6vqInpMLT6piNveY6w01BsFdqzFeDePMBko+LsYyq4ZrZ1vdxumQ0slS1EWZ8baWna17WxdDW+05NuVzvhpEKHC2YtgXCFTzK7ALHkt6ueUPsMFPeYH1NBbadtOkyqkXUnVI9XI1HPVdIxdd9qtq9MzfVh83t1I9Vra+lr9EFg2/smBcVy59RZdcONqFbbkHFVbl1bjSyPZTwVbEem4HLt8LH+X1tVFVW9a612RMY/s1hvN/H2D5O7C8fw24V/IMeIVElgp3QRSUUsTHo57HvciyNVVRH+9d99lmJidHX/7aPXkzpRMX1f8ArpdOaC8NwC+51T5BU2V9K1mNWia91vnyK1Vp43Na5GaRdu29NIuvj3MbNyceyK2ui564/wAZ4nxzH7NiuLXWhiuFJQyfxByRztjY2pqXvVXq/pc5UVE2re3ZCi4VwTGrdQ8fYlyTZOKYFzpI54qS4Wy5Vt8uFJPMrWyNnga6OlcrezPaYiI1FXS9SmafXMaOUxFt95q7NT6YnS1TN/iI7tQwZNk+H1NNyJfMLxe311xdQXSso6WCGJ008kcMj030sTaqjWbXSfBVMZVFRdKnclNUVUxVGtaqZpmYnU9lLS1FbUw0VHC+aeokbFFGxNue9y6RqJ8VVVRDPb54eucsZtFXf8h4oye3W2hjWapqqm3SMihYnvc5yppEI+Jj5N/Dlwr/AO0yX/8AGRGpywSM8UOA25tsvG2NXDg/DHcLYldZM8stsS+3C4QySTSsnqXwqsSNc1IpE9pyyptzvZTaI1DEbbhuHcW49yZyM7D6DLKnGMw/sraqG7sfNR0cTnTKtTPG1yeaqpG1jUcqNRyqvddaVemZidV+UxHWYSmdKImNducTPSJa6AvmYZHDmGQS3ulxe0WFalrGuobRC+KmR6NRFcyNzndPVraoi62vZC23S03SyV0lsvVtqqCsh15lPVQuilZtEVNtciKm0VF7p7lEb19lKAbQPbg3F924141g4ex3K6fMrRa7jd7jc4JJa6rkrnacylla9vkJGi9LehN9SKq7UsU3tEa5t849kmYi8zqi/nFq+Daiux/jnhrAeRrrFx9Y8vrsc5GdYLNUXprpWQwpDJ/itYrfOREYvsKqN6lR2l6UQjTxL49jloynGr3jNhpLJDlWKWy/1FvokclNBUzsd5iRNcqq1iq3aN3pNrrsZmrLfbnGl0atjMe/KbIiBnXBMFjq+ZsKoclt9LXWqrvdJTVdNUxo+KWKSRGORzV7KntE92Lwx2HB3xZjfXR3b+E27I6i/wBnq4mujoVbSVDrY5UVO/mIxJNr7la0tXpp0pyx5RdI9U6OvDm1qseA5bkeM3/MbNafSLRi7IH3Wp8+Jno7Zn9Ea9DnI5+3dvYRdfHRj5OmB3GyZT4euSbXccBxVlbiVqt9RQXmG2o25OfLc4mPWSdVXq9h7m9kTt2KjjOpw3EfDlfORbrxrYMnvtNl1NbrfJdo3Piga+ke53Wxqp5rfZXTHL09So7urULMWvOqLdbJE3pjbeY4RdC2N4xkWYXiDHsVslbd7nVb8mko4HSyv0iqumtRV7Iiqv8ARCtzDj3OuP6+G15xiN2sVXUs8yGGvpHwulbvW2o5E6u/bsShzpacNxvkPEL9QWqfHbPl2L2u9XehsLvL8r0ljkqWUyPVUa1yNXTHL091T3F45jqbJcOBOPb5xfdry3FMbvdwt0Md7RG3OG4SNjnc9skbljWHpYzpRiN6Xb3tV2mZm0XnVNp426+QsRefeLxwv5s3olyXiLlLDbHBkuWce5BaLVUq1sVZW2+SKJyuTbU6nIiIq/DZiJsNVVd74t4Vy93Jl5q6vLOXYaR9LZqqZ0k8NLHOky3KqRyqrXv6UbEi+0qK53uNeR/5THnt8fjOJW2F/Pf5/OUgAKgAAAAAAAAAAAAAAAAAAAAAAAAAAAAAAAAAAAAAEw+Dr8VHFX6rt/7zSHiYfB1+Kjir9V2/95oH3/AAHNzkeZ5LltNZ6TILl6XFYLey1W5vkxx+RSsc5zY9saiu0r3Lt23d/eSNwXyTh/Cr6nkykvN9qM4gpaqjtlqho446BqzRrGk89Qsiuka1HK/ykiT2mM9r8qnEuHOHsnwG+53LzJkVJHi8FBJd6dMNjkWOSqk8prInent8xEftFcqN7d9fAjS9YpVUlHU5LZILlXYqlwfbqS8VFD6O2aRG9SNc1HPayRWe10dbtJ8VEza8bb88+N+aWibbvpa4btc6e6svkFfPHcI6hKplU2RUlbMjupJEd70d1d9/mZnlPOfJeaVtvueR3e3VFfbKyO4QVsdkoIKl1QzXS+WaKFr5l7IqpI5yKvddqWal415ArpqSmosNvFRNXW5bvSxxUj3PmokVUWdjUTbo9ovtJ2P3MeNOQuPUpFzrC7zYUr2udSrcKN8CTImt9KuRN62m/wAtoP4barefS/xXnO73x8qZ7FfMmySO/auOY01VSXub0WH/AKVFUOR0zeno6WdSoi7YjVT4aLxjniD5fxOw0mN2LL1ho7c2RlA6Wgpp6iga/wDmSmqJY3TU6Ltf8N7feWq88P8AKmO41HmV+47yG32OVrHNuFRb5WQdL9dKq9U0iLtNKvv2hiAy9PwZ+ravz86yyTFavCpbw+Sz19zbeKmCSNjnS1iMcxJVkVPM30ud26tLvapvueGUZpk2aOtj8luXpjrNbYLRRL5McflUkO/Lj9hqdWtr7TtuX4qpf+P7Lx1csTza45pdZKW62yhpZrDAypbH6VO6pYyVnSrVV+o3OdpFTXSq+4kG3cQ8X5VzTyBh2E3O4XbGrHYLjcrHUU1S2WSpngp2OYnW1upGrIrk01E32RBMdJnhHW2W5InXvtxtyvOO9BVHVzUFZBXU3l+bTSNlj8yNsjepq7TbXIrXJtPcqKi+5UM2yfnPk7LbHNjN0vtJTWqqc19TR2q0UVsiqVau2+c2kijSXSptEfvS+4tGY8achceJSLnWF3mwpXtV1Ktwo3wJMia30q5E3rab/LaFVeeH+VMdxqPMr9x3kNvscrWObcKi3ysg6X66VV6ppEXaaVfftBOMY5LGeGb0WHk/PMYw6+4BYcino7BkyxrdaJkcatqfLXbfaVqub/XpVNp2XaFRhHLvIPHdDW2nFb5FFbrg9stVQVlBTV1JLI3+V6wVMckfWnwd07/qZZiWKca5bwrm99Zjl6o8owy30dYtet4ZJSVbp6+OBU9G8hHR6ZJ/867apv8AoYTivGXIecwek4bhV6vcXpHonXQUb5mpN0K/oVWoul6UVf8AkXG8+YJFppvv52ift6sl5BzPMMljy/JMgqa27QeV5FQ7pb5CRruNsbGojY2N+DWojU+CHuzbkzOORsvdnmbXx12vjvK3UzU8SNVIkRGN8trUj6URE7dOl77RdqXvBMBtVv5js2Cc4wV+L211Y2G8elr6HNSxOYqo5VkavSndq7VNaX/vPVyFZONrbiGGXHCrvLVXe5Q3B98p31LZPRnMq3Mp06UaisV0TUd39+0XtvRL2iJjbz2/lc5m+yHjlHOHJmX2ObGrrfaWntNU9j6mitdqo7ZBUuau2LMykijSXpXunXvS+7RggALsy4k5Jq+LMzgySOhZcKCaGWgu1ukXTK+gmb0TQOX4bavZfg5Gr8Dxpc2l485BrMm4dvdzoKSKaaO3S1sUTpnUj9p5c8a9UciK1dOaqK13xT4FVx/ZeOrliebXHNLrJS3W2UNLNYYGVLY/Sp3VLGSs6Vaqv1G5ztIqa6VX3H5ypi+J0XLN4xPiGpqb7ZG1jKa0SRvSqlqtsb/KrETrVXq5E0n5Fm943xP9u3vKRaYn3+vPIMw5w5Sz20U1gyrK5Ku20ValfSUsdLBTx0syR+WiwtiY3ymo1OzGaYi7XW1VSsyHxCcuZVaKiy5BlENbHWU6UlTVPtVGldUQoiJ0SViRJUPTSIio6Rdoml2hYsz4u5H46bSPzvB71YG13UlM64Ub4UmVuupGq5O6ptO39SpvnDfLGM44zL8i44yK22V6MclfVW6WOFEfpGqrlTSbVURN/mhnC07GoveFngzHJKfEKrA4bj02Ktr4rnPSeTGvXUxscxj+tW9aaa9yaR2l33TZesF5j5F43t9ZaMRv0VPQV8rKiekqqCmrYFmZ/JK2Ooje1kifB7UR39T2Wbg/mLIqFlzsPGOS3CklpW1sc9NbZZI3wO30vRyJpUXpdrX5GNyYxkUNgTKZbLWMtC1i2/01YlSH0lG9SxdXu6+nvr36NTMxM381MxETGDLKrnzl6uzm38lVma1U2S2ykbQQV74IVctOjXN8uRvR0SoqPcjvMR3Vv2tjKOeuVcztlFZMkyaKrtltr47nR0KW2kipqedjelvlxMiRjWaVdxonQqqqq1VVVWwRcfZxNPQ0sOKXR81yt77tRxtpnK6eiY1znTsTW1jRrHr1e7TVKnJ+KuS8KpqCsy/A77ZoLo5GUcldQyQtncqbRrVcibXS+73ktbDy9+/MvGflrduTI8g8RvLGUY07EL1crBLaHNlaymixW0wJD5uvMdE6Oma6Jzulu3MVq9k79izYRzFyHx3a62xYveqdlruErZ6igrrbS3ClfK1NNk8mpjkYj0Tt1IiLrtsu/JvEtRxnh+L1OQ43mdlyW6Pq0uEF5tjaajVsbm9Hor99b1Rrm9fUnvcnu+NqxLhPl7PLUl9wzjXIr1ble6NKqjt8ksTnIulRHIml0vZdCM5ss4RF2V+HrlXHOL+S5eXsouN3/ilt82oorZaaOGOK5SzNka+KWTqa2ni9pOzI3dl7I3pTcW367z5BfLjfqqKOOa5Vc1XIyJumNdI9XKjU+CIq9iWrL4eshvPFt5r6LEchqc7tmWxWF1phgc58cPor5ZOuFG9SORzU77RET4GP4N4f+T805Ji4z/sjeaC5Q1EDLoktvkV9tgke1vnys7KjERyLtdIqfEujpVRTGqMPm09kvaJnbn8XhgNqulwsdzpbzaap9NW0MzKinmZ/NHI1dtcn/JUM4v8Az9yvklkq8dr8jpqaguLUbWxWy00VuWsai76Z300UbpU3309VRVPVynwjyLxJcKpmV4peKO1tuE1DRXKroX08Vb0Od0uZvae01vVpFXt8VMwz/DOALXj+Y1OHZVPV3G3Q486xxrcI5UqX1MKvuCKiMRX+U5OntrpXsu1M3iqjS1Yc93Vq0xVbX2YnjfPvK+K4/S4taskgltdvc59DBcLVR1/oSuXblgdUxPdDte/92re/f3mU4X4hK/COHb9jFqqGSZTespivEk9faKS4U8kCQOa9XJUskakiyK1dozfv7p7iFQWZvff3ifpm0Yeapj7XfK8uyXOb7U5Nlt5qLpc6tU82ondtVRE01qImka1ERERqIiIiaRELQZfxDZ8JyDkvHrLyPdHW3GqysSK5VaVDYFhiVF9rrcio3S67qhXchWTja24hhlxwq7y1V3uUNwffKd9S2T0ZzKtzKdOlGorFdE1Hd/ftF7b0SY0Yjet9KZ3MCJBsvPnKWN2SGw47e7faoaen9GiqaGx0EFc2PWlRKxkKVG1TsrvM2qe9S21XD/KlDiSZ5W8eZDBjqxtmS5yW+VtP5blRGv61TXSqqml9y7Q88d4Y5Zy6CGqxfjjIbrDU03pkUtJb5JWPg63M60Vqa11xvb/za78lLthMM2HPe+R7pJHK5zlVXOVdqq/mpk3HXJeacT5GmWYDdo7bdUgkpkqH0cFTqORNPRGzMe1Np23relVN91PXi/G/IGbXeqsGI4ZebvcqFFWqpaSjkklg0ul62om290VO+u56J8GzOmyr+w1Ril2jyJZUgS1OpJEqlkVNo3ytdW1Tv7vd39wjVEa1nG8zqXfLeX84zaigt99lsbI6adtTE63Y7brdK2RqKiL5tLBG9U7r2V2t6XW0Qr8n8QHLuZWGoxzIsvdUUdc2Jlc6OipoKiubF/hpU1EcbZqhG6TXmvd3RFMkzXw/3vj7hK15hmOL32y5TccoktTKOuiWJr6T0ZHsc2NW9W1f1Jveu2tFj5N4lqOM8PxepyHG8zsuS3R9WlwgvNsbTUatjc3o9FfvreqNc3r6k97k93xk2xidv1E9ljGYts6X7PbQ+JTl6gxy0Ym272OptVhgWmttPXYtaqv0aNV2qNdNTOd3Xuqqqqq91VSzYzzPyNiFbeKzH73TQMv8nnXKjktdJPQ1D0d1I5aSSJ0CK1VXp0xOn3JpDNqXwicz1/GVHyBb8KyCqq665eiw2iK0yOlWkWFJG1nVv/Dcqo1PZ0v5/AjnHOMORcwvdbjmK4TertdLa5zayko6N8slOrXK1UkRqezpUVO/xRTU30pic/J/uzhoxOryFS3LJs95DhyflXMrwxamZJKy6U1M2pqYkY32Eii642oiK1rWoitaxO6J26VyHxH8xR848n1Oa0tDPTUcdJT2+l9JVq1E0ULOlJZlaiN8x69TlROybRE3ra2/AcFs9HzHZ8F5tjrcZtvprYLz6U70OakjczaOcr2r0e9q7VNaX+uzw5CsnG1txDDLjhV3lqrvcobg++U76lsnozmVbmU6dKNRWK6JqO7+/aL23ozNtGnZfnbPgsXiqrbaPOTAiT6HxKcvUGOWjE23ex1NqsMC01tp67FrVV+jRqu1RrpqZzu691VVVVXuqqRgZhjfDnK+Y2OTJsU45yK7WmJXI6so7dLLFtv82nNTS6+Oi6jWrsO515JwG7Vl9xO4WaiuFdWenyVDsdt0z45+/tQrJA7yE7rpsXS1PyLHlvIGUZtf4snv1TRJcoUajJqC2UtAiK1yuRyspo42K7aqvUqdS9tr2Q8ca4+znM0cuJYjdrx0VMdG70KkfNqd7XuZGvSi6crY3rr8mOX4FNlWH5Vg14fj+Y49cLLco2te6lrqd0MiNd7ndLkRdL+YymJ2ZfgzvHFdMt5Uz3O82j5Fy7IHXPIInU7m1c1PDpFhREjTy0YkaonSm0Vul773td5LlXiW5ezdlwTKrpYLjLdInQ1dTJilpSpkarenfntpkka7p0iORyKmk0qaIvJtz/DOALXj+Y1OHZVPV3G3Q486xxrcI5UqX1MKvuCKiMRX+U5OntrpXsu1JMWp3d/MSJvVvt08wYZQc38m2nF0w6y5BBa7atOtI9bfbKSlqpoV3uOSqiibPI1drtHvXfxLNgPIOY8X5PTZlgd7ktN4pGyMhqWRsk017Va5FbI1zXIqKvZUX/3md4linGuW8K5vfWY5eqPKMMt9HWLXreGSUlW6evjgVPRvIR0emSf/ADrtqm/6Fr4R4juPJ+RItTi2Y3PG6F3TdKjGbalXUwK5j1iREcqNTqc34/BF0hrG8zz3Jhox72tvwnsxTG86y/EMpjzXG7/V0F7jlfMlZG5Fe5z99fUi7R6O2vU1yKioq7RS6Zdy/wAiZxPa5sgyJemyPWW3QUFJBQU9JIrkcskcNMyONj1ciKr0b1KqJtexjMVtqLhdm2my0tVWzTz+RSwshVZpVV2mtRjd+0vbsm+/5l9zPi7kbjplLJnmEXqwMrur0Z1wo3wpKrddSNVyJtU2n/vMxaIieDUxOlMTnrX7IvERzDlNprbNecua+G6RpDcJqe20lNVV0aa9moqYomzTt7JtJHuRdd9nhi/IdlwjjG/2THaSs/tblirbrhcJEakVJaUVrnQwaVVV8z009yommsRE/mVS13nh/lTHcajzK/cd5Db7HK1jm3Cot8rIOl+ulVeqaRF2mlX37QqbNwbzHkVAy62HjDJrhRy0zaxlRTW2WSN8Dt9L2uRNKi9K+78izGExPtPnmF0vlPBg5k3GORW/EOR8Xyu7NlWis94pK6oSFqOescUrXu6UVU2ukXSbQ9WIcd53n9wntWE4fd75WUreueGhpHzOibvW3I1PZ77TueqpwbM6PKv7C1WK3WLIvNbB/C3Uj0qvMciK1vl66tqioqdvcuy0zNNUTGepKoiqJiflmWa5rYsc5Z/4ocN5ndKmuluVReI5rhY4aZ1DO+Vz2sax0s7JkRHfzORP/wBkwrFswyLC78zJ8auCUdyjjqIWzLDHL7E8T4pU6Xtc1epkj093be00qIpVZnxtn/HU9PTZ5ht4sElW1zqdtwo3weaia309SJvW03r3bQkrP8M4AteP5jU4dlU9XcbdDjzrHGtwjlSpfUwq+4IqIxFf5Tk6e2uley7UxERRRhlGHHDhtbmZqqx148P74MatPiJ5esVtpbbacmpaf0GBtLS1jbPQrXQRNb0taysWFahum9kVJEVE9xZcM5b5F4/rbjX4tlFRA+8IqXKKojjq4K7aqv8AfwztfHKu3Ku3tXuqqYiSx4fuEa/lfJlmvFkyJ2LW+jrK+tqrZROe+daeFZPRoZFarPNevS1EXa+17l7G4iZvO6b+2tibRFmC5jnOS59co7rk9ZBPPBClPC2nooKSGKNFV3SyKBjI2Jtzl7NTuqlhJCznEFrcutuM4Rw9mWN11bFqK1XWofW1lY5XO0+NqU0Ko3SKmka7+VV2WPL+MeRMAq6SgzfCbzY6iv36LHX0b4Vn0qIvR1J7WlVPd+afmZjHJqXnf+UM9yjDrFgF+yOarsGNLItso3RxtSDrXvt7Wo+TXdG9au6UVUbpF0flh5PzzGMOvuAWHIp6OwZMsa3WiZHGrany1232larm/wBelU2nZdoVlfwpy9arLX5HcuNMkprXapJIa2sktsrYoHsd0vRztaTpdtFX4Ki79xhZZxvfXnv90ytuy3M1465jz/iiR8+C19sop3TNqG1FRZKGsmjkamkdHJUQvfH/APyKh5VHM2eVeXszqolsL7wyndTda41bfIcxVVVV1N6P5Ln7VfbViu/qW7H+MeRMrtcl7xnCb1daCJk731NJRvlja2FGLKqq1FT2UkZv8upD9uPF3I9oyOhw+54LfaW+XONktHbpaGRtRUMdvpcyPXU5Oy+5Pgv5FxmYTCIfmV8lZxnF6pL/AJZf5bnV0CNbSJNHH5FOxrupGRwI1ImM3/kRqN/oZTe/Eny5kWNSYfdbnYJLPIkqJSxYpaYWxrIiI90ax0zXRvVET22Kjuyd+xi2X8Y8iYBV0lBm+E3mx1Ffv0WOvo3wrPpURejqT2tKqe780/Mrq/hTl61WWvyO5caZJTWu1SSQ1tZJbZWxQPY7pejna0nS7aKvwVF37if+O5rHS3q3F+fuWsNsNLjePZYkFFb1kdQLLQUtRPQLJ3f6NPLG6Wn2vf8AunN79/eYFU1NRW1MtZWTyTzzvdJLLI5XPe9y7VzlXuqqq7VVMqxniDlPM7JNkmJceZDeLXTq5slZRW+WWJFb/MnU1FRVT46MRVFaqtcioqdlRROeOaRlhku+J5dkuC3+kynEbxPbLpQuV0FTCqbbtFRUVFRUc1UVUVqoqKiqioqF3zflnPuRKWkt+VXuOWgoHukpqGjoaehpIpHfzPSCmjjj61+LunqX8y04liOSZxfafG8Usdfd7jUI5zKWhgWaZzWornq1ie/TUVf+4yPlbAqLEuSqjBsVtmUsVvosUVHf6BtNcfOljYvQ6Jiqndz06fiqOT/mqYyifgjXMas2O0OYZHbcWuuF0Vx8uzXqopqqupvJjXzpYOvyndat629PmP7NVEXffekLMZne+F+XMbsM+UX/AI2yS3WilkWKatqbdLHDG5H9GnOVNJ7Xbfu2SNxhwG6bji9cnZ7xrnd8bBV0lDaLLaIX0ktZ5zHyOqXSuglXyWtaiIrGO2rk7oM71ebI+v7JfKPNso6wfmLkLjq2VdkxW8Usdur52VNRR1trpK+B0zU02Ty6mKRrXonbqREU8U5f5Bfmk/INfe4LpfamNYZKi626mr2eXpERqQ1Eb4moiIiNRGp0p2TR50nG2Y55lt3tHG3GeSyLRSuV9rbE+sqaBm1RGTPbGz2kVFTasbtUXsWmTj/OIckqsPmxK7R3yhikmqbc+ke2oijjjWR7nMVNoiMRXKuvd39wxmYnWtoi8QvPInNPIfKzIW51cbZXPgcxzJoLHQUcy9LOhrXS08LHuajEREa5VRERNJ2Q8pOb+SqjDIsBrr3R11lpqV1FTsrrRRVM9NAv/o4qmWJ08TU+CMemvhop7rwxy1YprRT3rjfI6GW/Stp7Yyot0sa1crtaZHtO7l37veedRwlzBSUE90qeMslio6agbc5p322VGR0jt6mc7p0jF6Xd/wCii2E8zZLCjMuJOSavizM4MkjoWXCgmhloLtbpF0yvoJm9E0Dl+G2r2X4ORq/A8sf4V5dyuwf2pxrjXJLpaNPclbS22WSFyNVUcrXImnaVFTt8UUyTiLw2ci8wWO/ZHYrJdEt9pt1TVUs8NufOyvq4laiUcaoqIki9W/iqIi9lLlfdGPt5xTO2/qxWvzBuOVOXY9xrdK6DFckVtM9ldTQ+lT0ccySxRyPRHKxUc1qu6HIjulN9ux7MD5h5F4zppqPCshSghnrqW5PY+jp6hEqqdXeTK3zmO6XN63J7Otoul2gdw3ylDmdPx9Vcf3+LIqmL0mO1+gv9LdCiKqvbGulVNNcv/cp58xYdaMCz+uxax0mTUtPSRwKsGR0TKWvY98TXuR8bFVERVdtq/wDqqn/NZGERv+vzzatpX8zw6cljxbMMiwu/MyfGrglHco46iFsywxy+xPE+KVOl7XNXqZI9Pd23tNKiKZszxMc1w2qktFJmEVIygoI7XS1VLaaKCuhpGN6WxNq44UqEaje3+J3773ssN84b5YxnHGZfkXHGRW2yvRjkr6q3Sxwoj9I1VcqaTaqiJv8AND32bg3mPIqBl1sPGGTXCjlpm1jKimtsskb4Hb6XtciaVF6V935CcrTq/P55pM3nSnWpMI5Wzzjv+IMxW9siguyMSvpayip66mqVavU10kFQx8bnNVVVHK3abXSlszDNMpz69y5HmF6qLncJWtjWWXSIyNqaaxjWojWMROyNaiNT4IWZ7HxvdHI1Wuaqo5qppUX8lPwZ4rjGC83nMMjyCzWPH7vcfSLfjdPLS2yHyY2ejxSSule3qa1HP297l25VVN6Tt2MqzzkOy12DY3xhg1JWU1htCLcbhLVo1JrldpWIkszkaqo1jGokcbdr7KKq93LqPAJxi0+/nzj74pGGPnmr2S7wxlnGmA2PKL5fcjvTsgu+PXSxU9qgs7H0+6iJGxyuqlnRU7+9vlLr81IiAE4zfdbr3Ii0W+fODzp55qWeOqppXRzQvSSN7V0rXIu0VP6opf8AP+RMz5SyWbMM9vkt2u9RHHDJUyRsj2yNqNYiNja1qaRPgnddqu1VVMdAnHMyZNfOS85yTD7DgF8yGersGMrM61UTmMRtOsq7f7SNRzu/u6lXW1RNIqmMgDXc1WXmvzHI7li1qwqsuKPstlnqKqipWwxsSOWfp817nNajnqvQxNvVdImk0nYvtDzTyXbrZQWejyRGUtrtFbYaVq0VO50dBVuV08HW6NXORyqqorlVWbXpVphIGfm63TD2POd+uPuyCk5AzChxemw2ivckFoo7sl8ghjjY18dcjEYkzZUb5iKjURETq123rfczK7+J7nC+2y62e45ox1JfKV9JdGQ2qihWuY9ERzpnRwtdJJpERJHKr02unJtdxaBMXwnzURhkzzFedOUcMx+PFbHkkS2mnldNTUtdbaWuZSSOVVc+D0iJ6wOVVVVWPpVV7+8pMN5f5DwJLlFjV/aynvD0kr6SsoqeupaiRF2174Khj41eiqundO0+CmHAt5vfWZRZmkvMvJtRkt1zCpyyonu96t01pramaKKTro5W9D4Wtc1Wxs6eyIxG9Kfy6LVBnuW0uKQYTS3mSGzU11S9wwRxsa6OtRiRpMkqN8xFRqImurXx1vuWAEy83364+559dMEn3fxNc4Xy23G0XLOHPo7xSSUVxijt9JElayRGo903REiyyqjGp5ztya3p3dd+ONeJXmvEbVa7Pj+arTQ2VqRW6V1upJamli6urymVEkTpmxKvvj6+hU2ippVQjIA3Jk4C5dsnHXKdVzTmd4vc17o3z1lPQ22liay61E7ZElZPKrkSCPbkVemN+9rpG9Kbim/XefIL5cb9VRRxzXKrmq5GRN0xrpHq5UanwRFXsUIJaMN2EF8972UtTLR1MNXB0eZBI2RnWxr29TV2m2uRUcnb3KiovxJHyTxF8r5bja4jfblYZrSkckUdPFi1qg8hsior/KfFTNdErlRFVWK1VVPeRoCzjFpIwm8Mpl5Pzme5YveJb51VeGQQU1kk9GhT0SOGRZIm66NSaeqrt6OVfcu07FZj3M/JeLX695JZcmWKrySR8t3jlpIJ6Wuc9znr5tNIx0L/AGnOVEVmmqvbRhQF9fvzz460tGXtyy4al9v+b5Nk2SNy27XBjrpG6J0UtPTRUzIvL10JHFE1sbEbpNI1qIe3kDkTM+UsmnzHPb5JdrxUsjjkqXxsj2xjUa1qNja1rURE+CJ8V96qY6BbCy31hImOeIPl/E7DSY3YsvWGjtzZGUDpaCmnqKBr/wCZKaoljdNTou1/w3t95HYLebWF+fnWWSYrV4VLeHyWevubbxUwSRsc6WsRjmJKsip5m+lzu3Vpd7VN9zwyjNMmzR1sfkty9MdZrbBaKJfJjj8qkh35cfsNTq1tfadty/FVLICefXTA8++qottwrLRcKW626dYauimZUQSIiL0SMcjmu0vZdKiL3M6rvEBy/cq7L7jXZnNLPntPHSZC5aWnRK2KNvSxvSjNR9LeyLGjVRFVPipHoE44T5fPiZY+YZcEl414jOV8Rx7+ytguVhgtjoGU0sMmK2qZZ42ORzWzPkpnPm05EVFerl2iKYrU5/llXjdfiEtyjSz3O6pe6mkjpIY2OrEa5qSN6WIrERrnIjGqjE3/AC9kMeAnHMjDCGaxcycgx3m13+a52+srLLaYrHQrXWaiqooqKP8Akj8qWJ0blTa+25qv/wC0evJuX+RMvudpumQZA2odYpGy22mjo6eCjpHI5HbjpY2NgbtWork6NO132YcBruloyShlXiW5ezdlwTKrpYLjLdInQ1dTJilpSpkarenfntpkka7p0iORyKmk0qaIvAJaIW4ACgAAAAAAAAAAAAAAAAAAAAAAAAAAAAAAAAAAAAAEw+Dr8VHFX6rt/wC80h4mHwdfio4q/Vdv/eaB9/wABz8cbXO20nA3MduqrhTQ1ddHYEpYJJWtkn6K9XP6Gqu3dKd11vSd1L/4ZqCm5Socl8O14u0NBDk8cd3tFVPvopLjR7e9/wCSI6m89rt/+q38kIHM4x3l7JcSwuvw3GrdZLe66Nlhq7zFQN/iklPJrrp/SVVVbEqJpUaiKqKqb0qoWJtE+39uE4/CTGMW88ybAcQZtcOQPEXnFxwq4rRU9FhF2tGMSOqm07aSlpqdsVKqSOVGxdmo9XKqIjnOcqoWKO6WjizjXFMP5UyC13u6Tch02T1dvorjDdUo7fGxGTulkhfJGrpVXfQjlVUaqqQRg2f33j2suldYWUrpLvaauzVHpEavRKeoZ0yK3Spp2vcvfX5KY2ImaZpmNURyqmrnNrpNMVXvtm3tNMU8ovZufyllVXZK/knL8Wxbi6qtOWUFZTy5BHnFRVVNxpZv5EShkrXOSZPZ03yERjm6bpppgAYim2Xs3M3zCaPCvk0WJZdll5/jsdoqY8JvTaKpdUpA5KlYU8tI3Kqe2rk9lE779xC4NapjbExxizMxe26YnhN2xGG5pjdLwRiUuZ3SG4JbeVorlW0U8yTTrRejsdM/ylVXKxyo7a60539SR+Usqq7JX8k5fi2LcXVVpyygrKeXII84qKqpuNLN/IiUMla5yTJ7Om+QiMc3TdNNMASqL381RH0tPpt5rmftsZw3xtkT+GOSoX1+LwTZjZrayzQ1GVWuGWodHcIZntcx9QjoVSNjnakRvu179IV/G+J51d/CvmmJYrdaGiq1zimprg2W/UtDBPC2lej4/PllZFK3qRq6Ryo5G7TaIayGSQZ/fafjyq4yYyl/hFXdo7zI5Y1870hkTomojt66ely9te/4mpxiY22/5RPdIiYt7zPGm3Zn/iZv1nuV7xDHrfkFLfa7FMToLJdblSy+bBNVx9bnNjl/9I1iPazrTsqtXRDgCdl2SM5mdczPGbrlERGq0cMGf5Lw1fMb4mxfmF96tNbaMoqp6KOCmmctRSzxK7bJWq1ERVRqr2Vddt+9DADM+QuWcp5Hp7Xa7pDbLbZ7JG5lutFpo20lFTK9UWR7Y2+971RFc5yqq/npNGGCf4ptlqIyi+YS74W8jsGNcpOqL3e6ayTV1muVvtd3qVVsVuuE1O5kE7nJ3YiOXp6/8vVvsiKpEQLE282pMXTDbsbvHEnImI5Dyne7NcrQzI4a6qgob9TXZZWMkY6WoeyCSTXU34v052taJWdHXYLmXLnJua8l45dsdyqz3akovQ7/AE9bNe5KpFSkYlNG90jPL21VWRjUYje3Y1IBmYwt7x8TERPTBYtE39p4TeOrc64Y9mVwpfD1kjc6tNhxTHMft1yqpa/IaemSlfHUPdLK2ldIksjnMajUVkbt66d+8xLju44/z7n3KHDsFyjttnz26VGSY7UVLVa2jrKaZ8vWqe5vXSLOjkX/ANVvxRCAswz++5vR47Q3llK2PGLTHZqLyI1aq07Hvc1X7Vdu29e6a+HYumO8vZLiWF1+G41brJb3XRssNXeYqBv8Ukp5NddP6SqqrYlRNKjURVRVTelVDVU3qqn/APVvmcL+1on41s0xNNNMa/Tf4j8z77ky4By1Q3LxPXXMbffI7VaLNjl3teOSzTpE2npqa2TQ0bWK5URHuVrXa+L3r8VILTO88v8AZZsBqMhlq7feryy6zQ1j41824K1Y0mdPJ7TVVHKjlV6NX3u920xYEztfVFvfGZvxlrKJiNt+URb4iObY3kfjTI6Lw5YRZ5K/F5K7Frhfq+601PlVrnkhgnWmWJzWx1DllV3lP9mPqd27om03NWM2GK341wpm1NQXG75Xj2NwzWW30mU220UlS+SaVWRywVczZ12qta90TVSX3IaEEw27xQ5vSWyz0lyxPB73X4/SxUVrvF1x+KorqWGL/Ba1+0a7o/yq5qr+ezV8PmJ4RMM6OUbpjjN+7IK3Ir3jfhxzzFbjXrYcguHIETbpZmT+RMsXo8iyRui31LEkiNRfem0QumZ5pjsHNfBmWVuQUs9Na8exl91q2TpMsL4pF8xJVRVVHNaibRe6GvN/v13yi912R3+ukrblc6h9VV1EmuqWV6qrnLrt3Vfh2KAzThMTbKYnhTZqrG8Xzvzm6Uue+Pb3juaX7LJrjj9fZ71e6uagqrZfaKtWZkkj5GuWKKV0sadK+97G9+xFoBminQpimMoaqq0p0p1s/wAD4avnIWCZpnVmvVpijwilira2hqJnNqZoHqqK+NOlUVG9Pfap3VE96oYAZpDy1lNFxxJxfaIbZbLVWP67lPR0bY6y5oj1exlTP/M9jFX2WppOybRdIYWan+LDLy7MZY5hccbq7bQZFaq+80vpVvpq2Carg1vzYWyIr2a+O2oqf95bgapq0aoqjUlUaUTDYTxG4zk+RZvlnLNp5Gx284rc1dPQVMGSU6TOonuTyqNKNZEqGqxOlFjWNGp0qvwLfyZyPebfxdwjasZzB7EsVpnuDqSmqkc2lr23GdzJJI0VUSRGoxU6k3pfyXvBYMx6Y0Y1TE8L911zVOcxMcbdubajirNbZyHxHmdmvduxHIs1vGVsv1xoL/en2KO6QOiVOuOWGamjc6OVXu8tz0anWqom9F3tWf1N15XulmyOfDMVyJeOKnGseqrbfvSqelqtKsMclfJNIjZlj64+tZVREc1OramoAFURVhqtb+XR6EXjzfpdWxmd4xHjHhox7j2fM8bumS1GcyVVTQUF3gqEovNpGta2SVrvL9+lc9rlYiu0rtouv3kfjTI6Lw5YRZ5K/F5K7Frhfq+601PlVrnkhgnWmWJzWx1DllV3lP8AZj6ndu6JtN65AkxnO36iI+iMJp3X53v1T5iFlXkfwx/2Exq92FmQ2rM33WW33K8UtufJSyUjY0kjdUyMY5EcioqI7f8AQ9XBjMmprJmOCzWHDcksdwrKWK82W55XT2md0lO6RY56apWZjXI1XOTaOkau2r0uQggF1zO23K0fXExtEbPz3SLz5YsOxzkWe14Rk096oWUVI6WSavZXLS1Cwt8ymSpYiMnbGumI9qImk18COgCRFlmbhtjNSVmdXrh/kDB+SMcs2OYlZbbS1raq/U9FNZKimcq1arTPe2V6yKiuRY2v6+pN9jU4G4q0bTGcTePi/dmab3idcW427NmMg5TttRx1ztc8GyNbXFlmb0MlNTwz+jz1VvetY56JHtHKxds6k1r2kRffogPJs2yjMYLPTZJdXVrLBb2Wq3dUTGrDSsc5zI9taiv0rnaVyquu29IiFjBi1uXKIjz3avhx5zM+ewACo2M4b42yJ/DHJUL6/F4Jsxs1tZZoajKrXDLUOjuEMz2uY+oR0KpGxztSI33a9+kLb4T8Lu9Fzhj2W3Cvx+itOL3vy7nUVeQUEHlK1rkVWNkmR0zf+1Ejmr8FIFBb43ZmnSomidf3ER9QnzhKki4l5wnt+c3uy2SvuFkuNNabxFdKetprdW1ED2U87p6Z8jY9O23e9t6kVdJ3Mb/speuLc2xe9coXmy3S0f2hiraumor9TXZZ42SMdNM9kEkmkc3t7enO92iJwKZmmaZjOPqbtV2/Umq+v7izc/lLKquyV/JOX4ti3F1VacsoKynlyCPOKiqqbjSzfyIlDJWuckyezpvkIjHN03TTFK7kBI8y8NVDTZmxtrslrtElVFHcESCinWsekyyIjumN/loiO6tL0+/satglPotumOV+6VRp3vrieduzZzGbhcrjlnLeO2qz4XlWJX7JnyV1puOUQWaaVIqiZ0FRS1D5o0VE63fF7e7dtVC74JUcS8c+Iu+2m25dR3GmueIS26gq7zeHSU9FdJadiLSPuNOrF6Goj4UnjVmkd0oqGpgJTGjEU7rcrefGrBqqZqmZ3353874tgea7xerLxXQcdz4PgOOWpb4typ6ex5W+9VPm+U5r5E3V1CRRORU2m27cidvepr8ALYzPmw1WCc/C3yDeMYvWS22TOKy02xcSvkkFO65uggWsWlXy3Mb1I3zVcidKp7W0TRBgNRNomNsTHGGZi9t0xPCU8eH7kK43fK8ppct5BmgyC/YlXWWw3q93F6tpKp6tc1npEir5KPakjUdtERX/ANS4XhjuOuCrZxpmWT2etvtbmlPeaK3UF2guLbbRxxOZLI+WB74o/Me5q9KP2vSqqnvNdwWmrRqiqN3KdLqlVOlTNM7+caPRO/iD5lzOLxDchXnGs4kq6WufW2KKZssdXA+1yeysMfUjmJGqe5W+5e6Ki9yCADnTTo0xGx0rq06pq2trvD7nVDj2FcX29+WUlvSDN73XVkL6xkfQiW1jYZZGqvZvU56NVeyqqoXPD88s9dbcVoKrOrfRZRfuMLvaKS71lc1q0lzmuVRIjZp1VVgfJH1IjnKn+Inf2kNPgbn1Xidf9Oj+WYwmJjV/VpNiLwx3HXBVs40zLJ7PW32tzSnvNFbqC7QXFtto44nMlkfLA98UfmPc1elH7XpVVT3lu8QfMuZxeIbkK841nElXS1z62xRTNljq4H2uT2Vhj6kcxI1T3K33L3RUXuQQCVTNWe/nER0jnJT6b23cpmes8obo2zJbVeMW4qynjjFOPL1VYlZqalkfeMzns9VZ6+KRzpnLTrWQRvY93t9TWPV+16tppDUzPrzNkWcZBfqiGgiluFzqamRlvcrqZHPkcq+Uq91ZtV6V/LRYQKvVVpe/PMp9NOj7cl6xHD73m93Sx4+lv9LWN0v/AE6501DF0t1v+9qZGR77+7q2vwQ2B5zsE9B4h8YzyS7Y/PYp6rG6RtVR36hqumSnpKWObrZFK57GtdE9OtzUauuyqipvWQGqatGYmNUxLM03iYnXExxt2bWyZ/BeOYvETVXrM4qyjuONXykt8lRcEfFUoydno0cSq7T9NRehrd9t6MRsHLWX0XhevdHDybeILvBltujo4m3qVtTHRtpJkc2NvX1JEioxFRPZ30/0IABimNGnR3RHCbtzN6tLfM8Ys2BxGWv5O8PV2wOwZbbYcsXLUvV2prteIaGS70roEax/n1L2MlWORHuVrn7TqRe6qhI1r5BtFl5rw9n9vbdV3rDeNLjarhfIa1roXXJtFVujZHUKupXM64mI5FXbk0mzTgGpnO2v+nR6TxZiLTEzq/qirrCZuAuVMoj5Pw+wZHlzv7P1GaUN/uDq98ap6W13StQ+eROtvsuXq9pEX3rvSEwY9yXFW0OP0l3zmnkiqKHkOorY5rgzpfUTRSpA6RFd/M/rVGb9/UvT7zTkEnHDdVHGIjlaLLrvvieEzPO7dHhXHuN7FLxPlNslxC6RQRwVl3v+Q5tLSVFlq1nVX0lPQx1EaoibVU6opGvVyq5UTe484zuFgreV+accbkFooHZZZ77bbPPV1kcFJPO+qa+NnnOVGNRzWrpVVE/qa4glcRXMzOXq/m87lN6Yi27l3ZovD2bplqYQqY//ABVab0tP/wAprZ6N5f8A+8+keR1f9jr6v6E3c0UdDi/iOxflLIaqxXLEoqjHYqh9DeKKvc70WjpmVCOghlfIiNdFIm3NRrunsq7TeroNU1TTMTGqbpMRN98W42+4bbujrsFzLlzk3NeS8cu2O5VZ7tSUXod/p62a9yVSKlIxKaN7pGeXtqqsjGoxG9uxbK7kBI8y8NVDTZmxtrslrtElVFHcESCinWsekyyIjumN/loiO6tL0+/satglPo0Y1U25X7lcaelOub87dksVeDUfKviCyrHLdmWN2GlrLzdamC5XSsSGiWNs0jmokiIqL1Jrp12UiyspvQ6uek8+GfyJHR+bC7qjfpddTV+LV1tF/I9QM006FMUxqizdVWlMzOuQAGmQAAAAAAAAAAAAAAAAAAAAAAAAAAAAAAAAAAAAAAAAAAAAAAAAAAAAAAAAAAAAAAAAAAAAAAAAAAAAAAAAAAAAAAAAmHwdfio4q/Vdv/eaQ8TD4OvxUcVfqu3/ALzQPv8AgADnvwfjLGOUsUS24XeZ4ORKJZZH2WvkYkN6h7q1KF+k1O1OywvVVf72r/lLVx7i+C3m63TDuRb1XYrd5dQWu4TtRKOkrGuVHRVsat62scum9bV/u1RVc1U3qtxflql49wx1u4+sL7Zl1ySWG55NLOklRFTu2iQUTelPRkcxdPkRVkXaojkTsWzjfNsYwaqr8iu+Gx5Ffo2NWyrXTI6hpZ1VeqeeDX9+5OytarkZvauR2kQ1hpbreW/Ovczjo77+X/Gre8qrBY+N+RoMX5ntF1prfE/dWtslj82WneioyoppHIscrFXT0VOz0RU2m9p7uTeJbhgLKPILVdKfIsPvKqtov9E1fJn1vcUrV7wztRPaid3T4bTuW+nzSDJeQUzTl9LrlUdTO6ouMbK3yJ6tdL0s83pd0M30oqNRNN2jddtefJHKOQ8lV1MtwZT2+z2uNae0WWhZ5dFbYN76Imfmq93Pdtzl7uVTGOjG3zyPndDWGlOzzyfhh5tpw7xnwHX2HjOqvV/rqyrr7rd7rVxzYrG9KyKjpIZJqSR61S6gj6ZFa5Wr1q53ss1tdSzZbGPGfmlksePWury7MJ5LTjt3t9Sra32Z6+dZW0cv86KrIWOi1vu1Wdk9xq0aM38tj1iExvHmeH2oPDJW4TJzXS8apieN5ljd7q5nNuF/sDW1iMjpZHojGea9IUVzU23qdvXvMXwrFWeJbkK5QSyYtgEdDYam5Pdb7YsNAxtM3qVXsa9VZtF9p6dSpr+VSq4J5W47wzkJ3K/KrszvGSwVktTC+3vp3x1CzRPZI6dZlR6v3Iq7Rf8AmUeJcicX8cZhklfhtDlNTZLzilwskCXP0f0plVUxdHW7y1Rnlouvd7X9CZRjjNp42wW95w2xwvi8cj4cwW14vZOQ7HylV3jEa69SWK5VqY86CqoqhkaSdTKd0+pmOYvU1VkYvwVGqZf4iOPeCsXp8cdj2X3ahuE2G26tpqKHF2JFcZHscqTzTel7ifIvdydEnTpERXEav5FtbuBouKEoar+Isyp1+Wp9nyfJWlSHo9/V1dXf3a18TJs35J4i5Kw2zT5JZstoM1x/Hqew0zqCamfbKj0dFSGWRHokrdovtI3fu7KZqvaYjVMcNH6lac4vsn/lhyXrDfCXcr/Zcaq7/fb5bLhl8DKq1xUWK1Nxo4YZHK2F9ZVRvRsCPVN6a2RWtVHORvuLFjnh5gqLLnF7z3kCixWPAL1BZ7kx9G6qdM5/nIvkIxyLJJ1Q6azSI5HKqvYjVUym1+I/FL1h2OWjNrpyhZLni9sjtEK4hfW01HX08Sr5TpY5P8OREXpVzeraIi6T3EdN5Qt7+MM1wqoprnNX5RkNBeIamonSdWRwJUI5s0i6c+RfPb7XT30qro3VaJqt8cY+rs0Y6Ol88J+7PdeuKMQt2bY/Y7fyhDc7BkVvjuFPc6W1Pmq4upHJ6PJRRPe5tR1s6EZ169pqq5EXaXTkvw73DDMcsWW47XXu5UF8ubrLHTXjH5LPXsrEajmt8h8kiPY9F9l7Xr3RUVEUtHh/5UtnEOczZHeLZXVNLW2urtb57dK2KuofPZ0+kUz3IqNlb8N67KqbQzbknxD4zesAsGH4Z/bWqrcdyZt/humU3JtbNPqJGoi6X+709E0xu00m+raqiJtFvj/ljwjzMiZx81YcZYpyLxJgXG7bljl05b9Lza0MRtZaaWxyOoWVHUiPpkrfM26RqKu18no2ip1GeRcc+H53httmT12cXqlq6jKXUs92ixKOWpR6UbXLSIxa1u4mqquSTqRXL72J7zDuVM84Q5FfeM6pcVy615tfZFqamlbXU77RFVPciyysVWecrV9pUYutK7XVpO/hgfJPGUnFc/EnK1myV1BDe/49QV+PzQJO2Z0KRPikZOnSrelEVFRd7+Bn1TTMTnh7Z42+Pre1hExMZY9ML/PmS5eGDHcQvXMVBbGZeyC5TV7qOyRXPEYrrRVzXskb11MT6pnlKiaVETr0q+/t3w3jXjlnKuR36xNv0duutPa6+6W6nZRI5twqIGrItM1Ec1I1cxr1TSO1066TKOB884U4wz6DP8lo83q6ux3Vaqzw0Ponlvp0RUalR1qi9ffv0Loxr+2mJ4JynZ874h/tB6JaKmCuYy9uhSofK16rIxVh9ny3N9n89Kuy2vMROy3tv+5SJmIq94n3zvHSzytvD9fc+OrJmcFz3dMoyNcfsdmSBOqt6Wt8yfzVenS1skkceuldq73pokTI/CFc7RaMl/hmRXisveI0UtfcYarFqmit08cP+OlJXPcqTOb311Rxo9EVWqvxxnlDm+zXjkbGci4tx6WyY9hSxS2O3VnSqsl9IdUyuejF17Uz3J2X+VrfcZLyXz/hGbW6+Xa2Xnl2ivV9bI59nlyZr7LTSSr7aN7eY+JNrqNWt7LraISZvTMxG36txxnksWiqInLD88ItDXo2X4q4kx7k3w/02NUFqtsWb36/3CWz3KVqNle2jjo3SUqv1voWGeeXX5xJ+ZrQZ7Xckxt4vxDDbE+5UF2x66XevqKyKXy2vbVsp2NSNzXdW0bC9Hdk7O132pdU+a4SP4o+ekpo5O4Zw3PMgxJ/Hi2jGcUo8Qq7ldrykKuYtLQ11RTOrHsZ7Us0iRxr0p3c56JtE7pGl24Kornjlpy3iTM35dbrnfIsckhqrYttrKavlTqia6LzZWqx6Iqo9JPgqKiaL5iniExuyY9iuK3jGa64Wynxe54pkcUczYZJqaqrX1DJKZ/taezqavtNRFVqp7l2lNVc3YZg1nsmL8KWC8x0FuyOlymtrMhmifU1lVTpqGHogRGMiaiu+KuVXfDXfU20scr/APab/GjlZMYptGdv+uH8yQOPOPsD4+tnM1gtvJU2QZNbMHuVHcqSGyOhoontliSXyqp0qul6Xoje8LEXuqLpO+JYb4S7lf7LjVXf77fLZcMvgZVWuKixWpuNHDDI5WwvrKqN6NgR6pvTWyK1qo5yN9xXVXO/B1tZyLX4jgWUw3fka0V1NU1FfXQyR2+eokbIsULGI3qi6upVe/b9NaiNTanja/Efil6w7HLRm105Qslzxe2R2iFcQvraajr6eJV8p0scn+HIiL0q5vVtERdJ7jEXzqztHWq9uSzhhGV56U2vzQNk+O3PEMkumK3qNrK+0Vk1DUtY7qakkb1a7S/FNoulLYVl5uDrtd626PkqpFq6iSbqqqhZ5l6nKvtyKiK93fu7SbXvpCjFN7RfNarXmwACoAAAAAAAAAAAAAAAAAAAAAAAAAAAAAAAAAAAAAAAAAAAAAAAAAAAAAAAAAAAAAAAAAAAAAAAAAAAAAAAAAAAAAAAAAAAAAAAAAAAAAAAAAAAAAAAAAAAAAAAAAAAAAAAAAAAAAAAAAAAAAAAAAAAAAAAAAAAAAAAAAAAAAAAAEw+Dr8VHFX6rt/7zSHiYfB1+Kjir9V2/wDeaB9/wABzPgn3g6gouSMLuWE8l2WmpMJsTJ6yPM+lsM2PTuarkZ16/wClMkfpPRu71V3UxU0YrwdcL3FmlZhOP4VTZ5aMgRaW4WueHyknpmOXVQ2Ze9I9iKrkl2iM2vVtDVr1aMedvJS/p0kWAk7LobLxJza9vDGTR5PTWusalDNJSNqGSPcnS+mc1UVlQntOjVzU6Xou2om0Lz4isLw7Hf4FfaGjixjKr5A6pv2GRSeey0PVdte16f4KSJ7SUz9vj3pV1oxeNGKvPPMmrYzShgA2yiqOPcUn4UxSn4Pxa+VOcWK2re6utgkknnZNUviXyWsc1IpddSrKm3L7PuRvfcUzNra5iON+zE1RTe+yZ4W7tTT9Y1z3Ixqbc5dIn9TZqlxzjfjDFeYrpV4HbMsmxHN6K02P+JPcscbVWsanmqzTpWajaqx9TUc5reraIrVjXJOVMJlzOy53iHFWO0lRHa2w3mz1tAktomrtPa6WGn6/ZYrVYqJtNORV18VzExNvjnF2piYjjymzDc5wTK+NsknxHNbV/DrtTRxSy0/nxzdLZGI9i9UbnNXbXIvZe2+/csBPXMWO41TeKW1WW243bLfaa6XG5JLbSU6R0qekUlI+VqRp2RrnSPVU/qpIGS0XGmWZLzZxfbeH8YsNDhNqut0tVwo2SLcG1VLO1FV0yu0sb+pyeV0o1rVRE9yKSb006U7/AOW1+q4VTERr0f5smqi2C9tsTcndaqpLQ6qWibWrEvkrUI3rWJH+7q6e+vfo92K4vfc1yO34njNvkrbpdJ209LAz3vev5qvZERNqqr2REVV7IbNxcxrbvCbZ7x/wp47qkhzGS2rTVNi66d3RQsXz3M6+87vcr990+BgHAFa58XL+ZUFvpobvR4XX1FDHTR9DKXz54opnQp/kRkMsiJ+TexZmKaqtlMX4U35pETVFO2cOdmCWTim7ZRytDxHjN9styuNVXut9NXxTvSimkaiqrmyKzqVvsqiL09/htF2eV+4dzKw0WJVnlU1xfmzqmO009A90s0j4ahadzVb0p3WRNN1vaGK2O+3nGbvS3/HrnU265UMiS01VTSLHLE9Pc5rk7opIXB+RX278y8YWy6Xerq6S15FRsooZpVcynSSrbJIjEX+Xqe5XLr3quy006U00674+e6VToxVVwYNR4hlFwudxs1DYK6eutEU89fTxwuWSmjg/xnPT3tRml6lX3FoNzsY/4If8TOY/7Hf25/tN/Z3KfSP4n6H6DvT/ADejy/7z3/y7+HvKG0YzwVxfjGA0GZVnHroMpsdJe74/ILNdqy5Tx1DndaUk9LE6OBGNRWt6XdXU1Vd70M0TpU0zOuI4zflg1VhVNOyZ4RbnigDiPhe88y3F9mx7LMVtty86OCmorvcVp56x70cuoGIxyv109/y2hjWJYo7LMjixx2RWSyLIkm628Vfo1IxWNVdOk0ulXWk7d1VCWfDzTY3R+MDF6XDbhJXWGLJpGWypkY5r5qVFf5TnI5GuRVbre0Rf6IQfWf8Axuf/ANo7/wC0sTe07fwlv4ovlbnfsyPkvju98V5jV4TkNVQVNbRxU8zpqCZZYJGTQsmjcx6om0VkjfgYubE8z4xQ5t4sbJh9zq301JeocWoJ5mKiOZHJbqNrlRV7b0q638S+wx4ByDknJHEknDmO47bsRtN3q7VdaCCWO5UklBvy3VU7nr5ySdPS5HJ73prSoion0xx/lzWLVaM7Yp41R3aslfU2G9UVnocgq7XUw2y5STRUdW+NUinfF0+Y1jvcqt627RPd1IUBtTxDxzjPJvB2HLnlwnt+LY3lF8feK2GRrHwRTU1GkSNc5FTbp1iT/kqlthM7O8R9s3iJiJ39JlrJWWO8W+22+8V1sqYKG6tkdQ1EkatjqEjf0PVi+53S5FauvcpQm48/Ftpx2ksFhz2yMvUvGWB3++JaXq5sVfVR3mpYxJenT3Re56oiptrU76VdxxfIsU5N4do+UZePbDi96tmX0thcljpnU1FcaaaJ0io6FXOTzI1b3cmttf3321aadKrRjb1q0Y5lVWhTNU+WjS6NfyQ6PhS93Hi+48qW7LMVq6K0QRVFfbIbirrlSskqGwMWSFGezt7mr3d7l3/QlrmrMuF8P5I5G4p/4HWSls1O+upaKvo2KtyhuSLuKZsqva2OBr015LG66E79SqqrgvD/AP8AIpzh/wDQdo//ANrTmIq0qbxsu3NOjXFM7YifmYj7Q4SPS8DZtV57iXHMc9qbdc0t9Lcra51Q5IUiqGOfGkjunbXaau0RF7695k+AUmN4DwZVcyVOF2XKr3WZMmPU0F7p3VFFQwtpvOdIsTXNR8j1VERXbREauk2pffFbkmQ2Tk7A8otUS4xeKfCbLUxR29jqX0CVWPXoibvqjRu9Im+ydizMUzF9sRPzEz2Yi9UTbZNviYhEWZ8Y5Dg1gxzJLvUUEtJlDKyShSmmc96JTTrDJ1orU17aLrW9oevOOOr1gtNYrlWVVHX2zJLey422vopFfBM33SR7VEVJI37Y9qptFT8lRSy3HIr7d6Ggtl0u9XV0lrbKyihmlVzKdJJFkkRiL/L1Pcrl171XZLNslkufhDvsFyYix2PN6F9rkcm1R9TSzJURtX4JqKJyp+ZLTFEzOrpM2+44NXia4iNd+UX+uaFgZ3h17tdDxxmtrquJosgqa1tH5ORudKi2HUi9/Zarf7z+VNubtU79SeyYIWcJsmq4AAAAAAAAAAAAAAAAAAAAAAAAAAAAAAAAAAAAAAAAAAAAAAAAAAAAAAAAAAAAAAAAAAAAAAAAAAAAAAAAAAAAAAAAAAAAAAAAAAAAAAAAAAAAAAAAAAAAAAAAAAAAAAAAAAAAAAAAAAAAAAAAAAAAAAAAAAAAAAAAAAAAAEw+Dr8VHFX6rt/7zSHiYfB1+Kjir9V2/wDeaB9/wABzcVmZZTcMYoMMq73UvsdslkqKWgRyNhZK9dukVqa6nrvXU7aonZF12FkzLKcbtV2sthvdTQUd9ibT3GOByMWpiaqqkbnJ7XRte7UXS9toukMvyvhz+zGY4RiX9o/Sf7ZWu03L0j0Po9E9NXXR09a+Z0fntvV+SHoufCWcScl5LxrgtjuuW1WN11RRyyW+ge5z2RSKzzHMaruhF17lcv5bUuM844YSmHSeOMMRxnJr7h17pckxm4yUFzonK6nqY0RXxOVqt6m7RURdKul96L3TSpsoqysq7jVzV9wqpampqZHSzTSvV75HuXbnOcvdVVVVVVTIKS10uDZg+1cq4TeZW0XUystCVX8MqkcrNs9t8UnRpVa7+Rdp+W9mRc+4Ti/HXKtXjWMU9clnZRWytjhqqlJZmpUUUM72LIjGounSuRF6U7a7EzstpvMWxjHp3RuTzlHiiyejxTBcc40uy2tcfxiK1VtS+0Ua1cdUj5Ot1PVOY6eNqtc1Nsez49k962DlTE+OYOL8H5HwHH7xZVyOuu1HVUdwuzLh0+irToxzXtgh1vznbTp/IxXG+HOV8xscmTYpxzkV2tMSuR1ZR26WWLbf5tOaml18dCcYmJy/H5IiLxVGu/XvC1QZpk1NjFzw6K6O/hF5rILhXQOjY5ZqiFHpG9ZFRXoqJK/sjkRerui6Q/MRzC94Rd0vmPrb/S0jdF/062U1dF0u1v8AuqmN8e+3v6dp8FLKqK1Va5FRU7KimXYfgH9rMSzXJ2Xf0aTD7dTXFKX0fr9LbLVxU7k6upOjp81Hb07etdveMsfMuxa9qd/OZ7rnmPPfKGe3C3XbKLxbKiutNTDV0tVBYbfSzNkhRGxdT4YGOe1qNaiMeqtRETt2LVHypnsV8ybJI79q45jTVVJe5vRYf+lRVDkdM3p6OlnUqIu2I1U+Gj8sWCfxrjzKs9ddfITGqq20raXyOr0l1W6ZP5+pOjpSFy+529/DWz3XzhvljGccZl+RccZFbbK9GOSvqrdLHCiP0jVVyppNqqIm/wA0Exnfy8fcWIxnDy3Z5YRzFyHx3a62xYveqdlruErZ6igrrbS3ClfK1NNk8mpjkYj0Tt1IiLrts93GXKty4+5A/tpNQwXGmuCT016t3QyGGvoqhFSog6WIjWI5FXp6URGqjVRO2j0Y7wxyzl0ENVi/HGQ3WGppvTIpaS3ySsfB1uZ1orU1rrje3/m135KZX4d8P4+zPk238X8kYrfZqu93BlDFU0d2bROt6oj/ADEkhfBIsi7RE11M1pff8LbHHPyLM1TEU31Z/d0bZSmNJkdy/sc+vdY/SXrb1r2tbUeRv2UkRqq3qROyqi99b7e49WP367Ytfbfkthq/Rbla6mOspJ/La/y5o3I5julyK1dKiLpUVPzQW+x3W+XuOwWC2VVxrqmZYaalponSyyu2uka1qbVe3wJVzrgO78ccHW7Ns2xq+WLJq3JpbYlLXxrCx1GlMkjXpG5qLvr6k6t67a0ZidGmKvb6j7dKqfXNE54/fZgFs5IzSz3695Nbbz5NyyKnrKS5z+jxO8+Kq357elWq1vVte7URU+Gi+Y3z7yviuP0uLWrJIJbXb3OfQwXC1Udf6Erl25YHVMT3Q7Xv/dq3v395HwLGEWhmcZvLPMG5y5L44ram6YleLfT19VVrXSVtVZKGtqUnX3vbNUQvexV2v8qom1VT0O5izh+Xf24c6wLdvRvRN/2atvo3l73/APFvR/I6v+30dX9TCgBnefc38k8mvpZsyu9vqaijljmhqaWy0NFUNcxiMZuanhje5GtRERquVE0mk7IVOS+ITmDLrJVY/fswWaluDGR174qGmp6muaxNNbU1EUbZqhE/KR7iOwNVi4ZRR8m5zb+Pq/iyjvzosXuday4VdAkEX97O3p6XLIrfMRPYZ7KORu2oujFwDekK4+ILmO65fac8rc4qnX6yULbbR1jIIY3Npk6v7p7WMRsqL1O6vMR3VterZbsw5f5Dzz+HR5Jfo5Ke0yLNRUdJQ09FSQSKu1e2np42Rdar73dO1+KmHAt5vf5S0WsuuVZTfc2yO45bk9d6bdrtUPqqyo8pkfmyuXbndLERrf8AkiIhm2NeIzlfEce/srYLlYYLY6BlNLDJitqmWeNjkc1sz5KZz5tORFRXq5doikaAkYRaMlnGbzmzjEubOS8GfdFxfIYqOO81KVlXTut1LNTrUIqq2WOGSN0cUjVVel0bWq1OyKiFpznkPM+SrpT3vOb9Pd6+lo4qCOpnaxJPJj30I5WoivXuu3O25d91Ux0EtBkEh55yHZa7Bsb4wwakrKaw2hFuNwlq0ak1yu0rESWZyNVUaxjUSONu19lFVe7l1HgLOMWIwm6ZuOeXsc4y4YzfFrbWXe5ZBn9G22VNDLTMjt1BC17v7/r63OmlViqjfZYjVcvd2u8MgCcZ0p9uBGEWj3AAAAAAAAAAAAAAAAAAAAAAAAAAAAAAAAAAAAAAAAAAAAAAAAAAAAAAAAAAAAAAAAAAAAAAAAAAAAAAAAAAAAAAAAAAAAAAAAAAAAAAAAAAAAAAAAAAAAAAAAAAAAAAAAAAAAAAAAAAAAAAAAAAAAAAAAAAAAAAAAAAAAAAmHwdfio4q/Vdv/eaQ8TD4OvxUcVfqu3/ALzQPv8AgAD4pZXznd7DnHEVjx284rNZ4scxyKulmstsrZIH7RJmuqZYXyRK1PenWnR700pkMmRYTlNFy9h9qt2GZHeavkKe8JQXrIpLVBdKD22xvhqYqiBkqxv6nIx8nTp/Uib0aVgs43vrvzmJ5WSItaY1W5RMc7px5hhzblzka0Y2lqwqgudmsEFEyG35TBJTMgiVytZLXVVS5kkrUcia85y617+5XeK/DrrV8nw5JQXDH623XWjs1rppqPIKCo3UxW+nika9scyujakkb29b0aztvq0qKQACd7+cVjCbxst07cGxvI/GmR0XhywizyV+LyV2LXC/V91pqfKrXPJDBOtMsTmtjqHLKrvKf7MfU7t3RNpvJJqSszq9cP8AIGD8kY5ZscxKy22lrW1V+p6KayVFM5Vq1Wme9sr1kVFcixtf19Sb7GpwLFUxN41TEx7xEwmjE06O6Y+Jm/Vl3L+Q2XLOVMuyfG2dNrut6rKuj9jo3E+Vzmr0/DaLvX9STfCPDil3vGcYlmuRUNmtN8xh0M89XUsga5I6unlVrXOVNv6WO0id1IEBmmNCnRjZblZqqdKrS3353bs5Fynxfe8atHNVVLaqdMmzHHZr9Yo5GPqIGW11ZG97oE7qxYVp1RdaVVVPeY66OuwXMuXOTc15Lxy7Y7lVnu1JReh3+nrZr3JVIqUjEpo3ukZ5e2qqyMajEb27GpALVje2+OMRE9MNiU4W+OUzMdU6cmcj3m38XcI2rGcwexLFaZ7g6kpqpHNpa9txncySSNFVEkRqMVOpN6X8l73HwyQZPmHiBs/MuTXmxR0tLf1rr3X193t9vd5j0c572wPkjc5FV3/o2Kib0a9A1e9U1bZmeM3Zqp0qI/T1WiOEW/LYbhOz1HHfI2XYtkV9sVlyG+4jcqSwXFl7pJqeGsmRPLT0uGR8ULnsbIzavRU6tLrabcj2OlwnwuWXDLhmeP3TIEzSa4VlBbLnFWOomvo0RGvfG5WOXabVzFc1FdrqVdmvIOc03i3tHCb/AN3Sar1zXtmZ4xYABpkAAAAAAAAAAAAAAAAAAAAAAAAAAAAAAAAAAAAAAAAAAAAAAAAAAAAAAAAAAAAAAAAAAAAAAAAAAAAAAAAAAAAAAAAAAAAAAAAAAAAAAAAAAAAAAAAAAAAAAAAAAAAAAAAAAAAAAAAAAAAAAAAAAAAAAAAAAAAAAAAAAAAAAAAAAAAAAAAAAAAAAAAAAAmHwdfio4q/Vdv/AHmkPEw+Dr8VHFX6rt/7zQPv+AAOe/B+MsY5SxRLbhd5ng5EollkfZa+RiQ3qHurUoX6TU7U7LC9VV/vav8AlLVx7i+C3m63TDuRb1XYrd5dQWu4TtRKOkrGuVHRVsat62scum9bV/u1RVc1U3qtxflql49wx1u4+sL7Zl1ySWG55NLOklRFTu2iQUTelPRkcxdPkRVkXaojkTsWzjfNsYwaqr8iu+Gx5Ffo2NWyrXTI6hpZ1VeqeeDX9+5OytarkZvauR2kQ1hpbreW/Ovczjo77+X/ABq3vKqwWPjfkaDF+Z7Rdaa3xP3VrbJY/Nlp3oqMqKaRyLHKxV09FTs9EVNpvae7k3iW4YCyjyC1XSnyLD7yqraL/RNXyZ9b3FK1e8M7UT2ond0+G07lvp80gyXkFM05fS65VHUzuqLjGyt8ierXS9LPN6XdDN9KKjUTTdo3XbXnyRyjkPJVdTLcGU9vs9rjWntFloWeXRW2De+iJn5qvdz3bc5e7lUxjoxt88j53Q1hpTs88n4YeACgAAAAAAAAAAAAAAAAAAAAAAAAAAAAAAAAAAAAAAAAAAAAAAAAAAAAAAAAAAAAAAAAAAAAAAAAAAAAAAAAAAAAAAAAAAAAAAAAAAAAAAAAAAAAAAAAAAAAAAAAAAAAAAAAAAAAAAAAAAAAAAAAAAAAAAAAAAAAAAAAAAAAAAAAAAAAAAAAAAAAAAAAAAAAAAAAAAAAAAAATD4OvxUcVfqu3/vNIeJh8HX4qOKv1Xb/AN5oH3/AAHM+AAAAAAAAAAAAAAAAAAAAAAAAAAAAAAAAAAAAAAAAAAAAAAAAAAAAAAAAAAAAAAAAAAAAAAAAAAAAAAAAAAAAAAAAAAAAAAAAAAAAAAAAAAAAAAAAAAAAAAAAAAAAAAAAAAAAAAAAAAAAAAAAAAAAAAAAAAAAAAAAAAAAAAAAAAAAAAAAAAAAAAAAAAAAAAAAAAAAAAAAAAAAAAAATD4OvxUcVfqu3/vNIeJh8HX4qOKv1Xb/AN5oH3/AAHM+AAAAAAAAAAAAAAAAAAAAAAAAAAAAAAAAAAAAAAAAAAAAAAAAAAAAAAAAAAAAAAAAAAAAAAAAAAAAAAAAAAAAAAAAAAAAAAAAAAAAAAAAAAAAAAAAAAAAAAAAAAAAAAAAAAAAAAAAAAAAAAAAAAAAAAAAAAAAAAAAAAAAAAAAAAAAAAAAAAAAAAAAAAAAAAAAAAAAAAAAAAAAAAAATD4OvxUcVfqu3/vNIeJh8HX4qOKv1Xb/AN5oH3/AAHM+AAAAAAAAAAAAAAAAAAAAAAAAAAAAAAAAAAAAAAAAAAAAAAAAAAAAAAAAAAAAAAAAAAAAAAAAAAAAAAAAAAAAAAAAAAAAAAAAAAAAAAAAAAAAAAAAAAAAAAAAAAAAAAAAAAAAAAAAAAAAAAAAAAAAAAAAAAAAAAAAAAAAAAAAAAAAAAAAAAAAAAAAAAAAAAAAAAAAAAAAAAAAAAAATD4OvxUcVfqu3/vNIeJh8HX4qOKv1Xb/AN5oH3/AAHM+AAAAAAAAAAAAAAAAAAAAAAAAAAAAAAAAAAAAAAAAAAAAAAAAAAAAAAAAAAAAAAAAAAAAAAAAAAAAAAAAAAAAAAAAAAAAAAAAAAAAAAAAAAAAAAAAAAAAAAAAAAAAAAAAAAAAAAAAAAAAAAAAAAAAAAAAAAAAAAAAAAAAAAAAAAAAAAAAAAAAAAAAAAAAAAAAAAAAAAAAAAAAAAAATD4OvxUcVfqu3/vNIeJh8HX4qOKv1Xb/AN5oH3/AAHM+AAAAAAAAAAAAAAAAAAAAAAAAAAAAAAAAAAAAAAAAAAAAAAAAAAAAAAAAAAAAAAAAAAAAAAAAAAAAAAAAAAAAAAAAAAAAAAAAAAAAAAAAAAAAAAAAAAAAAAAAAAAAAAAAAAAAAAAAAAAAAAAAAAAAAAAAAAAAAAAAAAAAAAAAAAAAAAAAAAAAAAAAAAAAAAAAAAAAAAAAAAAAAAAATD4OvxUcVfqu3/vNIeJh8HX4qOKv1Xb/AN5oH3/AAHM+AAAAAAAAAAAAAAAAAAAAAAAAAAAAAAAAAAAAAAAAAAAAAAAAAAAAAAAAAAAAAAAAAAAAAAAAAAAAAAAAAAAAAAAAAAAAAAAAAAAAAAAAAAAAAAAAAAAAAAAAAAAAAAAAAAAAAAAAAAAAAAAAAAAAAAAAAAAAAAAAAAAAAAAAAAAAAAAAAAAAAAAAAAAAAAAAAAAAAAAAAAAAAAAATD4OvxUcVfqu3/vNIeJh8HX4qOKv1Xb/AN5oH3/AAHM+AAAAAAAAAAAAAAAAAAAAAAAAAAAAAAAAAAAAAAAAAAAAAAAAAAAAAAAAAAAAAAAAAAAAAAAAAAAAAAAAAAAAAAAAAAAAAAAAAAAAAAAAAAAAAAAAAAAAAAAAAAAAAAAAAAAAAAAAAAAAAAAAAAAAAAAAAAAAAAAAAAAAAAAAAAAAAAAAAAAAAAAAAAAAAAAAAAAAAAAAAAAAAAAATD4OvxUcVfqu3/vNIeJh8HX4qOKv1Xb/AN5oH3/AAHM+AAAAAAAAAAAAAAAAAAAAAAAAAAAAAAAAAAAAAAAAAAAAAAAAAAAAAAAAAAAAAAAAAAAAAAAAAAAAAAAAAAAAAAAAAAAAAAAAAAAAAAAAAAAAAAAAAAAAAAAAAAAAAAAAAAAAAAAAAAAAAAAAAAAAAAAAAAAAAAAAAAAAAAAAAAAAAAAAAAAAAAAAAAAAAAAAAAAAAAAAAAAAAAAATD4OvxUcVfqu3/vNIeJh8HX4qOKv1Xb/AN5oH3/AAHM+AAAAAAAAAAAAAAAAAAAAAAAAAAAAAAAAAAAAAAAAAAAAAAAAAAAAAAAAAAAAAAAAAAAAAAAAAAAAAAAAAAAAAAAAAAAAAAAAAAAAAAAAAAAAAAAAAAAAAAAAAAAAAAAAAAAAAAAAAAAAAAAAAAAAAAAAAAAAAAAAAAAAAAAAAAAAAAAAAAAAAAAAAAAAAAAAAAAAAAAAAAAAAAAATD4OvxUcVfqu3/vNIeJh8HX4qOKv1Xb/AN5oH3/AAHM+AAAAAAAAAAAAAAAAAAAAAAAAAAAAAAAAAAAAAAAAAAAAAAAAAAAAAAAAAAAAAAAAAAAAAAAAAAAAAAAAAAAAAAAAAAAAAAAAAAAAAAAAAAAAAAAAAAAAAAAAAAAAAAAAAAAAAAAAAAAAAAAAAAAAAAAAAAAAAAAAAAAAAAAAAAAAAAAAAAAAAAAAAAAAAAAAAAAAAAAAAAAAAAAATD4OvxUcVfqu3/vNIeJh8HX4qOKv1Xb/AN5oH3/AAHM+AAAAAAAAAAAAAAAAAAAAAAAAAAAAAAAAAAAAAAAAAAAAAAAAAAAAAAAAAAAAAAAAAAAAAAAAAAAAAAAAAAAAAAAAAAAAAAAAAAAAAAAAAAAAAAAAAAAAAAAAAAAAAAAAAAAAAAAAAAAAAAAAAAAAAAAAAAAAAAAAAAAAAAAAAAAAAAAAAAAAAAAAAAAAAAAAAAAAAAAAAAAAAAAATD4OvxUcVfqu3/vNIeJh8HX4qOKv1Xb/AN5oH3/AAHM+AAAAAAAAAAAAAAAAAAAAAAAAAAAAAAAAAAAAAAAAAAAAAAAAAAAAAAAAAAAAAAAAAAAAAAAAAAAAAAAAAAAAAAAAAAAAAAAAAAAAAAAAAAAAAAAAAAAAAAAAAAAAAAAAAAAAAAAAAAAAAAAAAAAAAAAAAAAAAAAAAAAAAAAAAAAAAAAAAAAAAAAAAAAAAAAAAAAAAAAAAAAAAAAATD4OvxUcVfqu3/vNIeJh8HX4qOKv1Xb/AN5oH3/AAHM+AAAAAAAAAAAAAAAAAAAAAAAAAAAAAAAAAAAAAAAAAAAAAAAAAAAAAAAAAAAAAAAAAAAAAAAAAAAAAAAAAAAAAAAAAAAAAAAAAAAAAAAAAAAAAAAAAAAAAAAAAAAAAAAAAAAAAAAAAAAAAAAAAAAAAAAAAAAAAAAAAAAAAAAAAAAAAAAAAAAAAAAAAAAAAAAAAAAAAAAAAAAAAAAATD4OvxUcVfqu3/vNIeJh8HX4qOKv1Xb/AN5oH3/AAHM+AAAAAAAAAAAAAAAAAAAAAAAAAAAAAAAAAAAAAAAAAAAAAAAAAAAAAAAAAAAAAAAAAAAAAAAAAAAAAAAAAAAAAAAAAAAAAAAAAAAAAAAAAAAAAAAAAAAAAAAAAAAAAAAAAAAAAAAAAAAAAAAAAAAAAAAAAAAAAAAAAAAAAAAAAAAAAAAAAAAAAAAAAAAAAAAAAAAAAAAAAAAAAAAATD4OvxUcVfqu3/vNIeJh8HX4qOKv1Xb/AN5oH3/AAHM+AAAAAAAAAAAAAAAAAAAAAAAAAAAAAAAAAAAAAAAAAAAAAAAAAAAAAAAAAAAAAAAAAAAAAAAAAAAAAAAAAAAAAAAAAAAAAAAAAAAAAAAAAAAAAAAAAAAAAAAAAAAAAAAAAAAAAAAAAAAAAAAAAAAAAAAAAAAAAAAAAAAAAAAAAAAAAAAAAAAAAAAAAAAAAAAAAAAAAAAAAAAAAAAATD4OvxUcVfqu3/vNIeJh8HX4qOKv1Xb/AN5oH3/AAHM+AAAAAAAAAAAAAAAAAAAAAAAAAAAAAAAAAAAAAAAAAAAAAAAAAAAAAAAAAAAAAAAAAAAAAAAAAAAAAAAAAAAAAAAAAAAAAAAAAAAAAAAAAAAAAAAAAAAAAAAAAAAAAAAAAAAAAAAAAAAAAAAAAAAAAAAAAAAAAAAAAAAAAAAAAAAAAAAAAAAAAAAAAAAAAAAAAAAAAAAAAAAAAAAATD4OvxUcVfqu3/vNIeJh8HX4qOKv1Xb/AN5oH3/AAHM+AAAAAAAAAAAAAAAAAAAAAAAAAAAAAAAAAAAAAAAAAAAAAAAAAAAAAAAAAAAAAAAAAAAAAAAAAAAAAAAAAAAAAAAAAAAAAAAAAAAAAAAAAAAAAAAAAAAAAAAAAAAAAAAAAAAAAAAAAAAAAAAAAAAAAAAAAAAAAAAAAAAAAAAAAAAAAAAAAAAAAAAAAAAAAAAAAAAAAAAAAAAAAAAATD4OvxUcVfqu3/vNIeJh8HX4qOKv1Xb/AN5oH3/AAHM+AAAAAAAAAAAAAAAAAAAAAAAAAAAAAAAAAAAAAAAAAAAAAAAAAAAAAAAAAAAAAAAAAAAAAAAAAAAAAAAAAAAAAAAAAAAAAAAAAAAAAAAAAAAAAAAAAAAAAAAAAAAAAAAAAAAAAAAAAAAAAAAAAAAAAAAAAAAAAAAAAAAAAAAAAAAAAAAAAAAAAAAAAAAAAAAAAAAAAAAAAAAAAAAATD4OvxUcVfqu3/vNIeJh8HX4qOKv1Xb/AN5oH3/AAHM+AAAAAAAAAAAAAAAAAAAAAAAAAAAAAAAAAAAAAAAAAAAAAAAAAAAAAAAAAAAAAAAAAAAAAAAAAAAAAAAAAAAAAAAAAAAAAAAAAAAAAAAAAAAAAAAAAAAAAAAAAAAAAAAAAAAAAAAAAAAAAAAAAAAAAAAAAAAAAAAAAAAAAAAAAAAAAAAAAAAAAAAAAAAAAAAAAAAAAAAAAAAAAAAATD4OvxUcVfqu3/vNIeJh8HX4qOKv1Xb/AN5oH3/AAHM+AAAAAAAAAAAAAAAAAAAAAAAAAAAAAAAAAAAAAAAAAAAAAAAAAAAAAAAAAAAAAAAAAAAAAAAAAAAAAAAAAAAAAAAAAAAAAAAAAAAAAAAAAAAAAAAAAAAAAAAAAAAAAAAAAAAAAAAAAAAAAAAAAAAAAAAAAAAAAAAAAAAAAAAAAAAAAAAAAAAAAAAAAAAAAAAAAAAAAAAAAAAAAAAATD4OvxUcVfqu3/vNIeJh8HX4qOKv1Xb/AN5oH3/AAHM+AAAAAAAAAAAAAAAAAAAAAAAAAAAAAAAAAAAAAAAAAAAAAAAAAAAAAAAAAAAAAAAAAAAAAAAAAAAAAAAAAAAAAAAAAAAAAAAAAAAAAAAAAAAAAAAAAAAAAAAAAAAAAAAAAAAAAAAAAAAAAAAAAAAAAAAAAAAAAAAAAAAAAAAAAAAAAAAAAAAAAAAAAAAAAAAAAAAAAAAAAAAAAAAATD4OvxUcVfqu3/vNIeJh8HX4qOKv1Xb/AN5oH3/AAHM+AAAAAAAAAAAAAAAAAAAAAAAAAAAAAAAAAAAAAAAAAAAAAAAAAAAAAAAAAAAAAAAAAAAAAAAAAAAAAAAAAAAAAAAAAAAAAAAAAAAAAAAAAAAAAAAAAAAAAAAAAAAAAAAAAAAAAAAAAAAAAAAAAAAAAAAAAAAAAAAAAAAAAAAAAAAAAAAAAAAAAAAAAAAAAAAAAAAAAAAAAAAAAAAATD4OvxUcVfqu3/vNIeJh8HX4qOKv1Xb/AN5oH3/AAHM+AAAAAAAAAAAAAAAAAAAAAAAAAAAAAAAAAAAAAAAAAAAAAAAAAAAAAAAAAAAAAAAAAAAAAAAAAAAAAAAAAAAAAAAAAAAAAAAAAAAAAAAAAAAAAAAAAAAAAAAAAAAAAAAAAAAAAAAAAAAAAAAAAAAAAAAAAAAAAAAAAAAAAAAAAAAAAAAAAAAAAAAAAAAAAAAAAAAAAAAAAAAAAAAATD4OvxUcVfqu3/vNIeJh8HX4qOKv1Xb/AN5oH3/AAHM+AAAAAAAAAAAAAAAAAAAAAAAAAAAAAAAAAAAAAAAAAAAAAAAAAAAAAAAAAAAAAAAAAAAAAAAAAAAAAAAAAAAAAAAAAAAAAAAAAAAAAAAAAAAAAAAAAAAAAAAAAAAAAAAAAAAAAAAAAAAAAAAAAAAAAAAAAAAAAAAAAAAAAAAAAAAAAAAAAAAAAAAAAAAAAAAAAAAAAAAAAAAAAAAATD4OvxUcVfqu3/vNIeJh8HX4qOKv1Xb/AN5oH3/AAHM+AAAAAAAAAAAAAAAAAAAAAAAAAAAAAAAAAAAAAAAAAAAAAAAAAAAAAAAAAAAAAAAAAAAAAAAAAAAAAAAAAAAAAAAAAAAAAAAAAAAAAAAAAAAAAAAAAAAAAAAAAAAAAAAAAAAAAAAAAAAAAAAAAAAAAAAAAAAAAAAAAAAAAAAAAAAAAAAAAAAAAAAAAAAAAAAAAAAAAAAAAAAAAAAATD4OvxUcVfqu3/vNIeJh8HX4qOKv1Xb/AN5oH3/AAHM+AAAAAAAAAAAAAAAAAAAAAAAAAAAAAAAAAAAAAAAAAAAAAAAAAAAAAAAAAAAAAAAAAAAAAAAAAAAAAAAAAAAAAAAAAAAAAAAAAAAAAAAAAAAAAAAAAAAAAAAAAAAAAAAAAAAAAAAAAAAAAAAAAAAAAAAAAAAAAAAAAAAAAAAAAAAAAAAAAAAAAAAAAAAAAAAAAAAAAAAAAAAAAAAATD4OvxUcVfqu3/vNIeJh8HX4qOKv1Xb/AN5oH3/AAHM+AAAAAAAAAAAAAAAAAAAAAAAAAAAAAAAAAAAAAAAAAAAAAAAAAAAAAAAAAAAAAAAAAAAAAAAAAAAAAAAAAAAAAAAAAAAAAAAAAAAAAAAAAAAAAAAAAAAAAAAAAAAAAAAAAAAAAAAAAAAAAAAAAAAAAAAAAAAAAAAAAAAAAAAAAAAAAAAAAAAAAAAAAAAAAAAAAAAAAAAAAAAAAAAATD4OvxUcVfqu3/vNIeJh8HX4qOKv1Xb/AN5oH3/AAHM+AAAAAAAAAAAAAAAAAAAAAAAAAAAAAAAAAAAAAAAAAAAAAAAAAAAAAAAAAAAAAAAAAAAAAAAAAAAAAAAAAAAAAAAAAAAAAAAAAAAAAAAAAAAAAAAAAAAAAAAAAAAAAAAAAAAAAAAAAAAAAAAAAAAAAAAAAAAAAAAAAAAAAAAAAAAAAAAAAAAAAAAAAAAAAAAAAAAAAAAAAAAAAAAATD4OvxUcVfqu3/vNIeJh8HX4qOKv1Xb/AN5oH3/AAHM+AAAAAAAAAAAAAAAAAAAAAAAAAAAAAAAAAAAAAAAAAAAAAAAAAAAAAAAAAAAAAAAAAAAAAAAAAAAAAAAAAAAAAAAAAAAAAAAAAAAAAAAAAAAAAAAAAAAAAAAAAAAAAAAAAAAAAAAAAAAAAAAAAAAAAAAAAAAAAAAAAAAAAAAAAAAAAAAAAAAAAAAAAAAAAAAAAAAAAAAAAAAAAAAATD4OvxUcVfqu3/vNIeJh8HX4qOKv1Xb/AN5oH3/AAHM+AAAAAAAAAAAAAAAAAAAAAAAAAAAAAAAAAAAAAAAAAAAAAAAAAAAAAAAAAAAAAAAAAAAAAAAAAAAAAAAAAAAAAAAAAAAAAAAAAAAAAAAAAAAAAAAAAAAAAAAAAAAAAAAAAAAAAAAAAAAAAAAAAAAAAAAAAAAAAAAAAAAAAAAAAAAAAAAAAAAAAAAAAAAAAAAAAAAAAAAAAAAAAAAATD4OvxUcVfqu3/vNIeJh8HX4qOKv1Xb/AN5oH3/BjWScgY9iWQ2DHr9M+ldkb54aKpe3UHnx9CpC9/ua96PXo37+hye/SL+4ZyBjmfLdpMXqXVlJaK5be+ra3+5nlaxrn+U7/O1vV09XuVUXW00qhzhgAAAAAAAAAAAAAAAAAAAAAAAAAAAAAAAAAAAAAAAAAAAAAAAAAAAAAAAAAAAAAAAAAAAAAAAAAAAAAAAAAAAAAAAAAAAAAAAAAAAAAAAAAAAAAAAAAAAAAAAAAAAAAAAAAAAAAAAAAAAAAAAAAAAAAAAAAAAAAAAAAAAAAAAAAAAAAAAAAAAAAAAAAAAAAAAAAAAAAAAAAAAAAAAEw+Dr8VHFX6rt/wC80AD7x5nhmO5/jtXi2U25lZQVjFRzVROqN2u0jF/yvbvaKnuKzH8fsuK2Wkx7HrdDQW6gjSKnp4k01jff8e6qqqqqq7VVVVVVVQAP/9k=)\n"
      ],
      "metadata": {
        "id": "9WrtawMVXcGe"
      }
    },
    {
      "cell_type": "code",
      "source": [
        "#question--4 | B) On two integer numbers\n",
        "num1 = int(input('Enter First number: '))\n",
        "num2 = int(input('Enter Second number '))\n",
        "add = num1 + num2\n",
        "dif = num1 - num2\n",
        "mul = num1 * num2\n",
        "div = num1 / num2\n",
        "floor_div = num1 // num2\n",
        "modulus = num1 % num2\n",
        "print('Addition of ',num1 ,'and' ,num2 ,'is :',add)\n",
        "print('Subtraction of ',num1 ,'and' ,num2 ,'is :',dif)\n",
        "print('Multiplication of' ,num1 ,'and' ,num2 ,'is :',mul)\n",
        "print('Division of ',num1 ,'and' ,num2 ,'is :',div)\n",
        "print('Floor Division of ',num1 ,'and' ,num2 ,'is :',floor_div)\n",
        "print('Modulo Division of ',num1 ,'and' ,num2 ,'is :',modulus)"
      ],
      "metadata": {
        "colab": {
          "base_uri": "https://localhost:8080/"
        },
        "id": "TaKNBmCtYG-2",
        "outputId": "f3d17a5b-7122-44bb-f5fb-bb31ed97dd79"
      },
      "execution_count": null,
      "outputs": [
        {
          "output_type": "stream",
          "name": "stdout",
          "text": [
            "Enter First number: 2\n",
            "Enter Second number 5\n",
            "Addition of  2 and 5 is : 7\n",
            "Subtraction of  2 and 5 is : -3\n",
            "Multiplication of 2 and 5 is : 10\n",
            "Division of  2 and 5 is : 0.4\n",
            "Floor Division of  2 and 5 is : 0\n",
            "Modulo Division of  2 and 5 is : 2\n"
          ]
        }
      ]
    },
    {
      "cell_type": "code",
      "source": [
        "# On two float numbers\n",
        "\n",
        "num1 = float(input('Enter First number: '))\n",
        "num2 = float(input('Enter Second number '))\n",
        "add = num1 + num2\n",
        "dif = num1 - num2\n",
        "mul = num1 * num2\n",
        "div = num1 / num2\n",
        "floor_div = num1 // num2\n",
        "modulus = num1 % num2\n",
        "print('Addition of ',num1 ,'and' ,num2 ,'is :',add)\n",
        "print('Subtraction of ',num1 ,'and' ,num2 ,'is :',dif)\n",
        "print('Multiplication of' ,num1 ,'and' ,num2 ,'is :',mul)\n",
        "print('Division of ',num1 ,'and' ,num2 ,'is :',div)\n",
        "print('Floor Division of ',num1 ,'and' ,num2 ,'is :',floor_div)\n",
        "print('Modulo Division of ',num1 ,'and' ,num2 ,'is :',modulus)"
      ],
      "metadata": {
        "id": "Qo2WYnJBYZtd",
        "outputId": "2e562664-59ac-45b7-e429-9f59d14dc7f1",
        "colab": {
          "base_uri": "https://localhost:8080/"
        }
      },
      "execution_count": null,
      "outputs": [
        {
          "output_type": "stream",
          "name": "stdout",
          "text": [
            "Enter First number: 55\n",
            "Enter Second number 44.3\n",
            "Addition of  55.0 and 44.3 is : 99.3\n",
            "Subtraction of  55.0 and 44.3 is : 10.700000000000003\n",
            "Multiplication of 55.0 and 44.3 is : 2436.5\n",
            "Division of  55.0 and 44.3 is : 1.2415349887133185\n",
            "Floor Division of  55.0 and 44.3 is : 1.0\n",
            "Modulo Division of  55.0 and 44.3 is : 10.700000000000003\n"
          ]
        }
      ]
    },
    {
      "cell_type": "markdown",
      "source": [
        "5.\t**Write a Python program to calculate:**\n",
        "\n",
        "* Square root using Newton’s method\n",
        "\n",
        "*   Distance between two points.\n",
        "\n",
        "*   GCD of two numbers\n",
        "\n",
        "*   Exponent of a number\n",
        "*   Circulate the values of n variables\n",
        "\n",
        "\n",
        "*   To swap the values of two variables: \n",
        "         using temp Variable variables:\n",
        "         without using temp variable\n",
        "\n",
        "\n",
        "\n",
        "\n",
        "\n"
      ],
      "metadata": {
        "id": "r4Vj7NgCPgaG"
      }
    },
    {
      "cell_type": "code",
      "source": [
        "def mySqrt(x):\n",
        "\n",
        "    r = x\n",
        "    precision = 10 ** (-10)\n",
        "    \n",
        "    while abs(x - r * r) > precision:\n",
        "        r = (r + x / r) / 2\n",
        "        \n",
        "    print(\"Sqaure root of the number is \", r, 'accoring newton\\'s method')\n",
        "\n",
        "\n",
        "def distance_between2_points():\n",
        "\n",
        "  x1=int(input(\"enter x1 : \"))\n",
        "\n",
        "  x2=int(input(\"enter x2 : \"))\n",
        "\n",
        "  y1=int(input(\"enter y1 : \"))\n",
        "\n",
        "  y2=int(input(\"enter y2 : \"))\n",
        "\n",
        "  result= ((((x2 - x1 )**2) + ((y2-y1)**2) )**0.5)\n",
        "\n",
        "  print(\"distance between\",(x1,x2),\"and\",(y1,y2),\"is : \",result)\n",
        "\n",
        "def gcd():\n",
        "  num1 = int(input(\"Enter 1st number: \"))\n",
        "  num2 = int(input(\"Enter 2nd number: \"))\n",
        "  \n",
        "  n = min(num1,num2)\n",
        "\n",
        "  hcf = 0\n",
        "  for i in range(1,n+1):\n",
        "    if num1%i == 0 and num2%i == 0:\n",
        "        hcf = i\n",
        "        \n",
        "  print(\"Gcd is \", hcf)\n",
        "\n",
        "def exponent():\n",
        "  \n",
        "  base = int(input(\"Enter the base value: \"))\n",
        "  exponent = int(input(\"Enter the exponent value\"))\n",
        "\n",
        "\n",
        "  result = pow(base, exponent)\n",
        "\n",
        "  print(\"exponent is \" + str(result))  \n",
        "\n",
        "def circulate():\n",
        "  n = int(input(\"Enter number of values : \"))\n",
        "  list1 = []\n",
        "  for val in range(0,n,1):\n",
        "    ele = int(input(\"Enter integer : \"))\n",
        "    list1.append(ele)\n",
        "  print(\"Circulating the elements of list \", list1)\n",
        "  for val in range(0,n,1):\n",
        "    ele = list1.pop(0)\n",
        "    list1.append(ele)\n",
        "    print(list1)\n",
        "\n",
        "def swap_with_temp():\n",
        "  num1 = int(input(\"Enter 1st number: \"))\n",
        "  num2 = int(input(\"Enter 2nd number: \"))\n",
        "  print(\"Before swapping numbers are\",(num1,num2))\n",
        "  temp = num1\n",
        "  num1 = num2\n",
        "  num2 = temp\n",
        "  print(\"After swapping numbers are\",(num1,num2))\n",
        "\n",
        "def swap_without_temp():\n",
        " \n",
        "  x =int(input(\"Enter 1st number: \"))\n",
        "  y = int(input(\"Enter 2nd number: \"))\n",
        " \n",
        "  print (\"Before swapping: \")\n",
        "  print(\"Value of x : \", x, \" and y : \", y)\n",
        " \n",
        "  # code to swap 'x' and 'y'\n",
        "  x, y = y, x\n",
        " \n",
        "  print (\"After swapping: \")\n",
        "  print(\"Value of x : \", x, \" and y : \", y)\n",
        "\n",
        "\n",
        "  \n",
        "\n",
        "# gcd()\n",
        "# circulate()\n",
        "# exponent()\n",
        "# swap_with_temp()\n",
        "# swap_without_temp()\n",
        "def numbers_to_strings(argument):\n",
        "    # Get the function from switcher dictionary\n",
        "    func = switcher.get(argument, \"nothing\")\n",
        "    # Execute the function\n",
        "    return func()\n",
        "\n",
        "while(True):\n",
        "  print(\"please give your choice\")\n",
        "  print(\"Square root using Newton’s method: 0\")\n",
        "  print(\"Distance between two points. 1\")\n",
        "  print(\"GCD of two numbers 2\")\n",
        "  print(\"Exponent of a number  4\")\n",
        "  print(\"Circulate the values of n variables: 3\")\n",
        "  print(\"swap the values of two variables with temp:5\")\n",
        "  print(\"swap the values of two variables with temp:6\")\n",
        "\n",
        "\n",
        "  numbers_to_strings(int(input(\"\\nenter your choice: \")))\n",
        "  break\n",
        "  \n",
        "\n",
        "\n",
        "\n",
        "\n",
        "# Dictioary based switch case implementation\n",
        "\n",
        "switcher  = {0:mySqrt, 1:distance_between2_points, 2:gcd, 3:circulate, 4:exponent,5:swap_with_temp,6:swap_without_temp} \n",
        "\n",
        "  "
      ],
      "metadata": {
        "colab": {
          "base_uri": "https://localhost:8080/"
        },
        "id": "C4oLy4ouQe14",
        "outputId": "bdff69d6-01b9-4440-e7d8-1c4d7f199cbd"
      },
      "execution_count": null,
      "outputs": [
        {
          "output_type": "stream",
          "name": "stdout",
          "text": [
            "please give your choice\n",
            "Square root using Newton’s method: 0\n",
            "Distance between two points. 1\n",
            "GCD of two numbers 2\n",
            "Exponent of a number  4\n",
            "Circulate the values of n variables: 3\n",
            "swap the values of two variables with temp:5\n",
            "swap the values of two variables with temp:6\n",
            "\n",
            "enter your choice: 7\n",
            "Enter 1st number: 4\n",
            "Enter 2nd number: 5\n",
            "Before swapping: \n",
            "Value of x :  4  and y :  5\n",
            "After swapping: \n",
            "Value of x :  5  and y :  4\n"
          ]
        }
      ]
    },
    {
      "cell_type": "markdown",
      "source": [
        "6.\t**Write a Python program to check:**\n",
        "\n",
        "\n",
        "*   If a number is odd or even\n",
        "*   If a number is positive or negative\n",
        "\n",
        "*  If a year is a leap year or not\n",
        "\n",
        "*   Find greatest of two numbers\n",
        "\n",
        "\n",
        "*   Find greatest of three numbers\n",
        "\n",
        "*   If the given number is Palindrome or not\n",
        "\n",
        "\n"
      ],
      "metadata": {
        "id": "-Yyh_pHaOtEB"
      }
    },
    {
      "cell_type": "code",
      "source": [
        "from __future__ import print_function\n",
        "def odd_even():\n",
        "  number = int(input(\"Enter a number: \"))\n",
        "  if(number %2 == 0):\n",
        "    print(\"Given number is Even \")\n",
        "  else:\n",
        "    print(\"Given number is odd \")\n",
        "\n",
        "def Pos_neg():\n",
        "   number = int(input(\"Enter a number: \"))\n",
        "   if(number == 0):\n",
        "      print(\"Given number is Zero \")\n",
        "   elif(number > 0):\n",
        "    print(\"Given number is positive\")\n",
        "   elif(number <0):\n",
        "     print(\"Given number is Negative\")\n",
        "\n",
        "\n",
        "def leap_year():\n",
        "  year = int(input(\"please Give a year: \"))\n",
        "  if((year %400 == 0) or (year%4 == 0) and(year %100 !=0)):\n",
        "    print(\"Leap year\")\n",
        "  else:\n",
        "    print(\"Not a Leap-year\")\n",
        "\n",
        "def greatest():\n",
        "  num1 = int(input(\"Enter 1st number: \"))\n",
        "  num2 = int(input(\"Enter 2nd number: \"))\n",
        "  if(num1==num2):\n",
        "    print(\"Both are equal\")\n",
        "  elif(num1 > num2):\n",
        "    print(\"Greatest number is\", num1)\n",
        "  elif(num1 < num2):\n",
        "    print(\"Greatest number is\", num2)\n",
        "\n",
        "def greatest_three():\n",
        "  num1 = int(input(\"Enter 1st number: \"))\n",
        "  num2 = int(input(\"Enter 2nd number: \"))\n",
        "  num3 = int(input(\"Enter 3rd number: \"))\n",
        "  items = [num1, num2, num3]\n",
        "  print(\"The Greatest number is\",max(items), \"among the three numbers\")\n",
        "\n",
        "def is_palindrome():\n",
        "  word = list(input(\"Please enter a string:\"))\n",
        "  reverse_word = word.copy()\n",
        "  reverse_word.reverse()\n",
        "\n",
        "  if(word == reverse_word):\n",
        "    print(\"the given word\",\"\".join(word),\"is palindrome\") # at the time of output converting the input as a string again\n",
        "  else:\n",
        "    print(\"the given word\",\"\".join(word),\"is not palindrome\")\n",
        "switcher  = {0:odd_even, 1:Pos_neg, 2:leap_year, 3:greatest, 4:greatest_three,5:is_palindrome}\n",
        "\n",
        "def numbers_to_strings(argument):\n",
        "    # Get the function from switcher dictionary\n",
        "    func = switcher.get(argument, \"nothing\")\n",
        "    # Execute the function\n",
        "    return func()\n",
        "\n",
        "\n",
        "while(True):\n",
        "  print(\"please give your choice\")\n",
        "  print(\"odd_even program: 0\")\n",
        "  print(\"Postive and negative checking. 1\")\n",
        "  print(\"Find Leap year: 2\")\n",
        "  print(\"Greatest among two numbers: 3\")\n",
        "  print(\"Greatest among two numbers: 4\")\n",
        "  print(\"Find palindrome:5\")\n",
        "  \n",
        "\n",
        "\n",
        "  numbers_to_strings(int(input(\"\\nEnter your choice: \")))\n",
        "  break\n",
        "\n",
        "\n",
        "\n",
        "# Pos_neg()\n",
        "# leap_year()\n",
        "# greatest()\n",
        "# greatest_three()\n",
        "# is_palindrome()\n",
        "# odd_even()\n"
      ],
      "metadata": {
        "colab": {
          "base_uri": "https://localhost:8080/"
        },
        "id": "O3pXJoZ1Oq1Z",
        "outputId": "2859dd3b-cbf0-4209-8c49-a6764475e0b3"
      },
      "execution_count": null,
      "outputs": [
        {
          "output_type": "stream",
          "name": "stdout",
          "text": [
            "please give your choice\n",
            "odd_even program: 0\n",
            "Postive and negative checking. 1\n",
            "Find Leap year: 2\n",
            "Greatest among two numbers: 3\n",
            "Greatest among two numbers: 4\n",
            "Find palindrome:5\n",
            "\n",
            "Enter your choice: 2\n",
            "please Give a year: 2000\n",
            "Leap year\n"
          ]
        }
      ]
    },
    {
      "cell_type": "markdown",
      "source": [
        "7.\t**Write a Python program to**:\n",
        "\n",
        "*   Show the use of * and + operators in strings\n",
        "\n",
        "*   Calculate sum of array elements\n",
        "\n",
        "\n",
        "*   Calculate the length of the sequence using library function\n",
        "*   To perform matrix operations for a [2*2] matrix:\n",
        "\n",
        "\n",
        "1.   Addition\n",
        "2.   Multiplication\n",
        "3.   Transpose item\n",
        "\n",
        "\n",
        "\n",
        "\n",
        "\n"
      ],
      "metadata": {
        "id": "X42P5uVWQE_g"
      }
    },
    {
      "cell_type": "code",
      "source": [
        "def use_of_string_operators():\n",
        "\n",
        "  given_data = input(\"Enter the words: \")\n",
        "  print(\"use of  * operator: \"+given_data*2) #the string will repeat for 2 times\n",
        "  print(\"use of + operator: \"+ given_data+\"-Thank You!\")\n",
        "\n",
        "def sum__of_array():\n",
        "  given_data = int(input(\"how many elements want to enter in an array : \"))\n",
        "  array=[]\n",
        "  sum = 0\n",
        "  for i in range(given_data):\n",
        "    number = int(input(\"Enter numbers one by one: \"))\n",
        "    array.append(number)\n",
        "  for j in range(len(array)):\n",
        "    sum +=array[j]\n",
        "  print(\"The sum of array is \", sum) \n",
        "\n",
        "def length_find():\n",
        "  given_data = int(input(\"Enter the String: \"))\n",
        "  print(\"Length of the input string is:\", len(str))\n",
        "\n",
        "def matrix_addition():\n",
        "   X = [[1,2],  \n",
        "       [4,5]]  \n",
        "  \n",
        "   Y = [[10,11],  \n",
        "        [13,14]]  \n",
        "  \n",
        "   result = [[0,0],  \n",
        "            [0,0]]\n",
        "# iterate through rows  \n",
        "   for i in range(len(X)):  \n",
        "   # iterate through columns  \n",
        "    for j in range(len(X[0])):  \n",
        "       result[i][j] = X[i][j] + Y[i][j]  \n",
        "   print(\"Addition fof 2D- matrix :\")\n",
        "   for r in result:  \n",
        "    print(r)  \n",
        "\n",
        "\n",
        "def matrix_mul():\n",
        "  X = [[1,2],  \n",
        "       [4,5]]  \n",
        "  \n",
        "  Y = [[10,11],  \n",
        "        [13,14]]  \n",
        "  \n",
        "  result = [[0,0],  \n",
        "            [0,0]]\n",
        "# iterate through rows  \n",
        "  for i in range(len(X)):  \n",
        "   # iterate through columns  \n",
        "    for j in range(len(Y[0])):\n",
        "      for k in range(len(Y)):  \n",
        "        result[i][j] += X[i][k] * Y[k][j]  \n",
        "  print(\"Multiplication fof 2D- matrix :\")\n",
        "  for r in result:  \n",
        "    print(r)  \n",
        "\n",
        "def matrix_transpose():\n",
        "  X = [[1,2],  \n",
        "       [4,5]] \n",
        "  result = [[0,0],\n",
        "            [0,0]]\n",
        "\n",
        "# iterate through rows\n",
        "  for i in range(len(X)):\n",
        "   # iterate through columns\n",
        "   for j in range(len(X[0])):\n",
        "       result[j][i] = X[i][j]\n",
        "  print(\"Transpose of 2D- matrix :\")\n",
        "  for r in result:\n",
        "    print(r)\n",
        "\n",
        "\n",
        "\n",
        "\n",
        "  \n",
        "\n",
        "\n",
        "switcher  = {0:use_of_string_operators,1:sum__of_array,2:length_find,3:matrix_addition,4:matrix_mul,5:matrix_transpose}\n",
        "\n",
        "\n",
        "def numbers_to_strings(argument):\n",
        "    # Get the function from switcher dictionary\n",
        "    func = switcher.get(argument, \"nothing\")\n",
        "    # Execute the function\n",
        "    return func()\n",
        "\n",
        "while(True):\n",
        "  print(\"please give your choice\")\n",
        "  print(\"use of * and + operators in strings: 0\")\n",
        "  print(\"Calculate sum of array elements. 1\")\n",
        "  print(\"Calculate the length of the sequence using library function: 2\")\n",
        "  print(\"2*2 matrix Addition: 3\")\n",
        "  print(\"2*2 matrix Multiplication: 4\")\n",
        "  print(\"2*2 matrix Transpose:5\")\n",
        "  \n",
        "\n",
        "\n",
        "  numbers_to_strings(int(input(\"\\nEnter your choice: \")))\n",
        "  break\n",
        "\n"
      ],
      "metadata": {
        "id": "4KUt8aYOS7FH",
        "colab": {
          "base_uri": "https://localhost:8080/"
        },
        "outputId": "496b2293-ae62-4ecd-b428-bf1262e4659d"
      },
      "execution_count": null,
      "outputs": [
        {
          "output_type": "stream",
          "name": "stdout",
          "text": [
            "please give your choice\n",
            "use of * and + operators in strings: 0\n",
            "Calculate sum of array elements. 1\n",
            "Calculate the length of the sequence using library function: 2\n",
            "2*2 matrix addition: 3\n",
            "2*2 matrix Multiplication: 4\n",
            "Find palindrome:5\n",
            "\n",
            "Enter your choice: 5\n",
            "Transpose of 2D- matrix :\n",
            "[1, 4]\n",
            "[2, 5]\n"
          ]
        }
      ]
    },
    {
      "cell_type": "code",
      "source": [
        "#Q8 Starts\n",
        "\n",
        "# Linear Search in Python\n",
        "\n",
        "\n",
        "def linearSearch(array, n, x):\n",
        "\n",
        "    for i in range(0, n):\n",
        "        if (array[i] == x):\n",
        "            return i\n",
        "    return -1\n",
        "\n",
        "a=[]\n",
        "n=int(input(\"Number of elements in array:\"))\n",
        "for i in range(0,n):\n",
        "   l=int(input())\n",
        "   a.append(l)\n",
        "print(a)\n",
        "x=int(input(\"Enter element to search:\"))\n",
        "result = linearSearch(a, n, x)\n",
        "if(result == -1):\n",
        "    print(\"Element not found\")\n",
        "else:\n",
        "    print(\"Element found at index: \", result)\n",
        "\n",
        "\n",
        "\n"
      ],
      "metadata": {
        "id": "mtpd1RZ5B1NI",
        "outputId": "53196648-dce5-40dd-9d35-2ef24a0d1da7",
        "colab": {
          "base_uri": "https://localhost:8080/"
        }
      },
      "execution_count": null,
      "outputs": [
        {
          "output_type": "stream",
          "name": "stdout",
          "text": [
            "Number of elements in array:5\n",
            "23\n",
            "21\n",
            "45\n",
            "34\n",
            "67\n",
            "[23, 21, 45, 34, 67]\n",
            "Enter element to search:34\n",
            "Element found at index:  3\n"
          ]
        }
      ]
    },
    {
      "cell_type": "code",
      "source": [
        "# Binary Search in python\n",
        "\n",
        "\n",
        "def binarySearch(array, x, low, high):\n",
        "\n",
        "    if high >= low:\n",
        "\n",
        "        mid = low + (high - low)//2\n",
        "\n",
        "        # If found at mid, then return it\n",
        "        if array[mid] == x:\n",
        "            return mid\n",
        "\n",
        "        # Search the left half\n",
        "        elif array[mid] > x:\n",
        "            return binarySearch(array, x, low, mid-1)\n",
        "\n",
        "        # Search the right half\n",
        "        else:\n",
        "            return binarySearch(array, x, mid + 1, high)\n",
        "\n",
        "    else:\n",
        "        return -1\n",
        "\n",
        "a=[]\n",
        "n=int(input(\"Number of elements in array:\"))\n",
        "for i in range(0,n):\n",
        "   l=int(input())\n",
        "   a.append(l)\n",
        "print(a)\n",
        "x=int(input(\"Enter element to search:\"))\n",
        "\n",
        "result = binarySearch(a, x, 0, n)\n",
        "\n",
        "if result != -1:\n",
        "    print(\"Element is present at index \" + str(result))\n",
        "else:\n",
        "    print(\"Not found\")"
      ],
      "metadata": {
        "id": "43ugykvlCIR_",
        "outputId": "139e205d-80c5-4091-b851-541ffd81454a",
        "colab": {
          "base_uri": "https://localhost:8080/"
        }
      },
      "execution_count": null,
      "outputs": [
        {
          "output_type": "stream",
          "name": "stdout",
          "text": [
            "Number of elements in array:6\n",
            "11\n",
            "44\n",
            "66\n",
            "77\n",
            "88\n",
            "99\n",
            "[11, 44, 66, 77, 88, 99]\n",
            "Enter element to search:99\n",
            "Element is present at index 5\n"
          ]
        }
      ]
    },
    {
      "cell_type": "code",
      "source": [
        "# Selection sort in Python\n",
        "\n",
        "\n",
        "def selectionSort(d, size):\n",
        "   \n",
        "    for step in range(size):\n",
        "        min_idx = step\n",
        "\n",
        "        for i in range(step + 1, size):\n",
        "         \n",
        "\n",
        "            if d[i] < d[min_idx]:\n",
        "                min_idx = i\n",
        "         \n",
        "\n",
        "        (d[step], d[min_idx]) = (d[min_idx], d[step])\n",
        "\n",
        "\n",
        "data=[]\n",
        "n=int(input(\"Number of elements in array:\"))\n",
        "for i in range(0,n):\n",
        "   l=int(input())\n",
        "   data.append(l)\n",
        "print(data)\n",
        "selectionSort(data, n)\n",
        "print('Sorted Array in Ascending Order:')\n",
        "print(data)"
      ],
      "metadata": {
        "id": "k7fDbaBOD3qQ",
        "outputId": "06972742-c598-41fa-bb44-f965bee98102",
        "colab": {
          "base_uri": "https://localhost:8080/"
        }
      },
      "execution_count": null,
      "outputs": [
        {
          "output_type": "stream",
          "name": "stdout",
          "text": [
            "Number of elements in array:6\n",
            "12\n",
            "21\n",
            "-8\n",
            "7\n",
            "1\n",
            "666\n",
            "[12, 21, -8, 7, 1, 666]\n",
            "Sorted Array in Ascending Order:\n",
            "[-8, 1, 7, 12, 21, 666]\n"
          ]
        }
      ]
    },
    {
      "cell_type": "code",
      "source": [
        "# Python program for implementation of Insertion Sort\n",
        "\n",
        "def insertionSort(arr):\n",
        "\n",
        "\n",
        "\tfor i in range(1, len(arr)):\n",
        "\n",
        "\t\tkey = arr[i]\n",
        "\n",
        "\n",
        "\t\tj = i-1\n",
        "\t\twhile j >=0 and key < arr[j] :\n",
        "\t\t\t\tarr[j+1] = arr[j]\n",
        "\t\t\t\tj -= 1\n",
        "\t\tarr[j+1] = key\n",
        "data=[]\n",
        "n=int(input(\"Number of elements in array:\"))\n",
        "for i in range(0,n):\n",
        "   l=int(input())\n",
        "   data.append(l)\n",
        "print(data)\n",
        "insertionSort(data)\n",
        "print('Sorted Array in Ascending Order:')\n",
        "print(data)\n"
      ],
      "metadata": {
        "id": "PS2rdP1AGDgP",
        "outputId": "053f7db2-dea3-4f0d-ae4a-6232c62eafa1",
        "colab": {
          "base_uri": "https://localhost:8080/"
        }
      },
      "execution_count": null,
      "outputs": [
        {
          "output_type": "stream",
          "name": "stdout",
          "text": [
            "Number of elements in array:5\n",
            "0\n",
            "-5\n",
            "1\n",
            "77\n",
            "3\n",
            "[0, -5, 1, 77, 3]\n",
            "Sorted Array in Ascending Order:\n",
            "[-5, 0, 1, 3, 77]\n"
          ]
        }
      ]
    },
    {
      "cell_type": "code",
      "source": [
        "# Python program for implementation of MergeSort\n",
        "\n",
        "def merge(arr, l, m, r):\n",
        "\tn1 = m - l + 1\n",
        "\tn2 = r - m\n",
        "\n",
        "\n",
        "\tL = [0] * (n1)\n",
        "\tR = [0] * (n2)\n",
        "\n",
        "\tfor i in range(0, n1):\n",
        "\t\tL[i] = arr[l + i]\n",
        "\n",
        "\tfor j in range(0, n2):\n",
        "\t\tR[j] = arr[m + 1 + j]\n",
        "\n",
        "\n",
        "\ti = 0\t\n",
        "\tj = 0\t \n",
        "\tk = l\t \n",
        "\n",
        "\twhile i < n1 and j < n2:\n",
        "\t\tif L[i] <= R[j]:\n",
        "\t\t\tarr[k] = L[i]\n",
        "\t\t\ti += 1\n",
        "\t\telse:\n",
        "\t\t\tarr[k] = R[j]\n",
        "\t\t\tj += 1\n",
        "\t\tk += 1\n",
        "\n",
        "\twhile i < n1:\n",
        "\t\tarr[k] = L[i]\n",
        "\t\ti += 1\n",
        "\t\tk += 1\n",
        "\n",
        "\twhile j < n2:\n",
        "\t\tarr[k] = R[j]\n",
        "\t\tj += 1\n",
        "\t\tk += 1\n",
        "\n",
        "\n",
        "\n",
        "\n",
        "def mergeSort(arr, l, r):\n",
        "\tif l < r:\n",
        "\n",
        "\n",
        "\t\tm = l+(r-l)//2\n",
        "\n",
        "\t\t# Sort first and second halves\n",
        "\t\tmergeSort(arr, l, m)\n",
        "\t\tmergeSort(arr, m+1, r)\n",
        "\t\tmerge(arr, l, m, r)\n",
        "\n",
        "\n",
        "arr=[]\n",
        "n=int(input(\"Number of elements in array:\"))\n",
        "for i in range(0,n):\n",
        "   l=int(input())\n",
        "   arr.append(l)\n",
        "print(arr)\n",
        "mergeSort(arr, 0, n-1)\n",
        "print(\"\\n\\nSorted array is\")\n",
        "for i in range(n):\n",
        "\tprint(\"%d\" % arr[i],end=\" \")\n",
        "\n",
        "\n",
        "##All questions of Question 8 ends here ##\n",
        "\n"
      ],
      "metadata": {
        "id": "yYlSlsP-GnrU",
        "outputId": "ff70f217-05bd-4a3c-8917-9e68ff5661dd",
        "colab": {
          "base_uri": "https://localhost:8080/"
        }
      },
      "execution_count": null,
      "outputs": [
        {
          "output_type": "stream",
          "name": "stdout",
          "text": [
            "Number of elements in array:6\n",
            "32\n",
            "21\n",
            "66\n",
            "78\n",
            "43\n",
            "5\n",
            "[32, 21, 66, 78, 43, 5]\n",
            "\n",
            "\n",
            "Sorted array is\n",
            "5 21 32 43 66 78 "
          ]
        }
      ]
    },
    {
      "cell_type": "markdown",
      "source": [
        "9.**Write a Python program to Perform the following operations in tuples:**\n",
        "*\tMaxima-Minima\n",
        "*\tSum of two tuples\n",
        "*\tDuplicate a tuple\n",
        "*\tSlicing operator\n",
        "*\tObtaining a list from a tuple\n",
        "* Compare tuples\n",
        "*\tPrint two tuples of different data types\n",
        "* Implement a histogram"
      ],
      "metadata": {
        "id": "34_huqwmljwz"
      }
    },
    {
      "cell_type": "code",
      "source": [
        "# Q9-a | Find maxima-minima in tuples\n",
        "\n",
        "t=tuple()\n",
        "n=int(input(\"Total number of values in tuple\"))\n",
        "for i in range(n):\n",
        "    a= int(input(\"enter elements \"))\n",
        "    t=t+(a,)\n",
        "print (\"maximum value=\",max(t))\n",
        "print (\"minimum value=\",min(t))"
      ],
      "metadata": {
        "colab": {
          "base_uri": "https://localhost:8080/"
        },
        "id": "B4fMcBBHl1gV",
        "outputId": "fb717cd6-a86f-45f5-bee5-98b8256115a7"
      },
      "execution_count": null,
      "outputs": [
        {
          "output_type": "stream",
          "name": "stdout",
          "text": [
            "Total number of values in tuple3\n",
            "enter elements 5\n",
            "enter elements 9\n",
            "enter elements 6\n",
            "maximum value= 9\n",
            "minimum value= 5\n"
          ]
        }
      ]
    },
    {
      "cell_type": "code",
      "source": [
        "# Q9-b | sum of 2 tuples\n",
        "tup1=tuple()\n",
        "tup2=tuple()\n",
        "n=int(input(\"Total number of values in tuples \"))\n",
        "for i in range(n):\n",
        "    a=int(input(\"Enter elements in first tuple: \"))\n",
        "    tup1=tup1+(a,)\n",
        "\n",
        "for i in range(n):\n",
        "    a=int(input(\"Enter elements in Second tupe: \"))\n",
        "    tup2=tup2+(a,)\n",
        "\n",
        "# Addition of tuples\n",
        "res = tuple(map(sum, zip(tup1, tup2)))\n",
        " \n",
        "# printing result\n",
        "print(\"Resultant tuple after addition : \" + str(res))"
      ],
      "metadata": {
        "colab": {
          "base_uri": "https://localhost:8080/"
        },
        "id": "8e44hnBNl9k8",
        "outputId": "3a064f7c-fe8e-4838-960a-ef65da6770a0"
      },
      "execution_count": null,
      "outputs": [
        {
          "output_type": "stream",
          "name": "stdout",
          "text": [
            "Total number of values in tuples 3\n",
            "Enter elements in first tuple: 1\n",
            "Enter elements in first tuple: 5\n",
            "Enter elements in first tuple: 6\n",
            "Enter elements in Second tupe: 9\n",
            "Enter elements in Second tupe: 8\n",
            "Enter elements in Second tupe: 7\n",
            "Resultant tuple after addition : (10, 13, 13)\n"
          ]
        }
      ]
    },
    {
      "cell_type": "code",
      "source": [
        "# Q9-C | DUPLICATE A TUPLE\n",
        "\n",
        "from copy import deepcopy\n",
        "tup1=tuple()\n",
        "n=int(input(\"Total number of values in tuple \"))\n",
        "for i in range(n):\n",
        "    a=int(input(\"Enter elements in tuple 1: \"))\n",
        "    tup1=tup1+(a,)\n",
        "put = deepcopy(tup1)\n",
        "print(put)"
      ],
      "metadata": {
        "colab": {
          "base_uri": "https://localhost:8080/"
        },
        "id": "qAinBlzumCyV",
        "outputId": "dc398bcd-fcd8-4ff8-b24f-782085f2bff2"
      },
      "execution_count": null,
      "outputs": [
        {
          "output_type": "stream",
          "name": "stdout",
          "text": [
            "Total number of values in tuple 3\n",
            "Enter elements in tuple 1:9\n",
            "Enter elements in tuple 1:5\n",
            "Enter elements in tuple 1:6\n",
            "(9, 5, 6)\n"
          ]
        }
      ]
    },
    {
      "cell_type": "code",
      "source": [
        "2#Q9-D |slicing a tuple\n",
        "tup1=tuple()\n",
        "n=int(input(\"Total number of values in tuple 1 \"))\n",
        "for i in range(n):\n",
        "    a=int(input(\"Enter elements in tuple 1: \"))\n",
        "    tup1=tup1+(a,)\n",
        "print(tup1)\n",
        "print(tup1[0:3])\n",
        "print(tup1[1:5:2])\n"
      ],
      "metadata": {
        "colab": {
          "base_uri": "https://localhost:8080/"
        },
        "id": "loDnAzspnN5p",
        "outputId": "71c4531f-5262-4668-cab8-6a0978a9a60c"
      },
      "execution_count": null,
      "outputs": [
        {
          "output_type": "stream",
          "name": "stdout",
          "text": [
            "Total number of values in tuple 1 3\n",
            "Enter elements in tuple 1: 4\n",
            "Enter elements in tuple 1: 5\n",
            "Enter elements in tuple 1: 6\n",
            "(4, 5, 6)\n",
            "(4, 5, 6)\n",
            "(5,)\n"
          ]
        }
      ]
    },
    {
      "cell_type": "code",
      "source": [
        "#Q9-E | TUPLE TO LIST\n",
        "tup1=tuple()\n",
        "n=int(input(\"Total number of values in tuple \"))\n",
        "for i in range(n):\n",
        "    a=int(input(\"Enter elements in tuple 1: \"))\n",
        "    tup1=tup1+(a,)\n",
        "List = list(tup1)\n",
        "print (\"List elements : \", List)"
      ],
      "metadata": {
        "colab": {
          "base_uri": "https://localhost:8080/"
        },
        "id": "1GEWuKAZnOCu",
        "outputId": "69e008f5-00aa-47ec-b2a3-28a07fa366f4"
      },
      "execution_count": null,
      "outputs": [
        {
          "output_type": "stream",
          "name": "stdout",
          "text": [
            "Total number of values in tuple 3\n",
            "Enter elements in tuple 1: 7\n",
            "Enter elements in tuple 1: 8\n",
            "Enter elements in tuple 1: 6\n",
            "List elements :  [7, 8, 6]\n"
          ]
        }
      ]
    },
    {
      "cell_type": "code",
      "source": [
        "# Q9-F | COMPARING 2 Tuples\n",
        "tup1=tuple()\n",
        "tup2=tuple()\n",
        "n=int(input(\"Total number of values in tuple 1 \"))\n",
        "for i in range(n):\n",
        "    a=int(input(\"Enter elements in tuple 1: \"))\n",
        "    tup1=tup1+(a,)\n",
        "\n",
        "for i in range(n):\n",
        "    a=int(input(\"Enter elements in tuple 2: \"))\n",
        "    tup2=tup2+(a,)\n",
        "print(\"The original tuple 1 : \" ,tup1)\n",
        "print(\"The original tuple 2 : \" ,tup2)\n",
        "\n",
        "# Comparing tuples\n",
        "# using all() + lambda + map()\n",
        "res = all(map(lambda i, j: i < j, tup1, tup2))\n",
        "\n",
        "# printing result\n",
        "print(\"Are all elements in second tuple greater than first ? : \" + str(res))"
      ],
      "metadata": {
        "colab": {
          "base_uri": "https://localhost:8080/"
        },
        "id": "mRSK6rzrnZBf",
        "outputId": "93a02497-3218-4ee4-8508-eea8b184b1d7"
      },
      "execution_count": null,
      "outputs": [
        {
          "output_type": "stream",
          "name": "stdout",
          "text": [
            "Total number of values in tuple 1 4\n",
            "Enter elements in tuple 1: 44\n",
            "Enter elements in tuple 1: 55\n",
            "Enter elements in tuple 1: 21\n",
            "Enter elements in tuple 1: 47\n",
            "Enter elements in tuple 2: 1\n",
            "Enter elements in tuple 2: 5\n",
            "Enter elements in tuple 2: 7\n",
            "Enter elements in tuple 2: 6\n",
            "The original tuple 1 :  (44, 55, 21, 47)\n",
            "The original tuple 2 :  (1, 5, 7, 6)\n",
            "Are all elements in second tuple greater than first ? : False\n"
          ]
        }
      ]
    },
    {
      "cell_type": "code",
      "source": [
        "35#Q9- G | Print two  tuples of different data types\n",
        "tup1=tuple()\n",
        "tup2=tuple()\n",
        "n=int(input(\"Total number of values in tuple 1 \"))\n",
        "for i in range(n):\n",
        "    a=int(input(\"Enter elements in tuple 1: \"))\n",
        "    tup1=tup1+(a,)\n",
        "\n",
        "for i in range(n):\n",
        "    a=input(\"Enter elements in tuple 2: \")\n",
        "    tup2=tup2+(a,)\n",
        "print(\"The original tuple 1 : \" ,tup1)\n",
        "print(\"The original tuple 2 : \" ,tup2)"
      ],
      "metadata": {
        "colab": {
          "base_uri": "https://localhost:8080/"
        },
        "id": "HrBwsD0knzh2",
        "outputId": "eb9ce89f-ed43-4ca5-d554-8be67a74ee39"
      },
      "execution_count": null,
      "outputs": [
        {
          "output_type": "stream",
          "name": "stdout",
          "text": [
            "Total number of values in tuple 1 3\n",
            "Enter elements in tuple 1: 4\n",
            "Enter elements in tuple 1: 5\n",
            "Enter elements in tuple 1: 6\n",
            "Enter elements in tuple 2: 5\n",
            "Enter elements in tuple 2: 7\n",
            "Enter elements in tuple 2: 8\n",
            "The original tuple 1 :  (4, 5, 6)\n",
            "The original tuple 2 :  ('5', '7', '8')\n"
          ]
        }
      ]
    },
    {
      "cell_type": "code",
      "source": [
        "\n",
        "import matplotlib.pyplot as plt\n",
        "import numpy as np\n",
        "from matplotlib import colors\n",
        "from matplotlib.ticker import PercentFormatter\n",
        " \n",
        "# Creating dataset\n",
        "np.random.seed(2797952)\n",
        "N_points = 1000\n",
        "n_bins = 20\n",
        " \n",
        "# Creating distribution\n",
        "x = np.random.randn(N_points)\n",
        "y = .8 ** x + np.random.randn(1000) + 10.36\n",
        " \n",
        "# Creating histogram\n",
        "fig, axs = plt.subplots(1, 1,\n",
        "                        figsize =(10, 7),\n",
        "                        tight_layout = True)\n",
        " \n",
        "axs.hist(x, bins = n_bins)\n",
        " \n",
        "# Show plot\n",
        "plt.show()"
      ],
      "metadata": {
        "colab": {
          "base_uri": "https://localhost:8080/",
          "height": 513
        },
        "id": "9xveXvEfnzpB",
        "outputId": "b315c5ba-5f66-4422-c3e6-10ba7c9f72f3"
      },
      "execution_count": null,
      "outputs": [
        {
          "output_type": "display_data",
          "data": {
            "text/plain": [
              "<Figure size 720x504 with 1 Axes>"
            ],
            "image/png": "[encoded data removed]"
          },
          "metadata": {
            "needs_background": "light"
          }
        }
      ]
    },
    {
      "cell_type": "markdown",
      "source": [
        "**10. Write a Python program to:**\n",
        "\n",
        "a) Count the following in a file:\n",
        "  - Number of characters\n",
        "  - Number of words\n",
        "  - Number of lines\n",
        "\n",
        "b) Handle the following:\n",
        "  - Single Exception\n",
        "  - Multiple Exception\n",
        "\n",
        "c) Illustrate the use of command line arguments\n",
        "\n",
        "d) Implement stack operations using modules\n",
        "\n",
        "e) Perform the following on a file up to 50 characters at a time:\n",
        "  - Read\n",
        "  - Write\n",
        "  - Copy"
      ],
      "metadata": {
        "id": "y7bMBvSwEs8R"
      }
    },
    {
      "cell_type": "code",
      "source": [
        "\n",
        "#10.A)\n",
        "\n",
        "char_count = 0\n",
        "word_count = 0\n",
        "line_count = 0\n",
        "\n",
        "with open('/content/sample_data/input.txt') as file:\n",
        "  for character in file.read():\n",
        "    char_count += 1\n",
        "\n",
        "print(\"Number of characters:\", char_count) \n",
        "\n",
        "with open('/content/sample_data/input.txt') as file:\n",
        "  for line in file.readlines():\n",
        "    word_count += len(line.split())\n",
        "\n",
        "print(\"Number of words:\", word_count) \n",
        "\n",
        "with open('/content/sample_data/input.txt') as file:\n",
        "  for line in file.readlines():\n",
        "    line_count += 1\n",
        "\n",
        "print(\"Number of lines:\", line_count)"
      ],
      "metadata": {
        "id": "slzRpMIN4S7G"
      },
      "execution_count": null,
      "outputs": []
    },
    {
      "cell_type": "code",
      "source": [
        "# 10. b)\n",
        "\n",
        "# Single Exception\n",
        "\n",
        "try:\n",
        "  x = int(input(\"Please enter a number: \"))\n",
        "except ValueError:\n",
        "  print(\"Oops!  That was no valid number.  Try again...\")\n",
        "\n",
        "# Multiple Exception\n",
        "\n",
        "try:\n",
        "  configuration = open('config.txt')\n",
        "except FileNotFoundError:\n",
        "  print(\"Couldn't find the config.txt file!\")\n",
        "except IsADirectoryError:\n",
        "  print(\"Found config.txt but it is a directory, couldn't read it\")\n",
        "\n"
      ],
      "metadata": {
        "id": "3wU9igKUE13G",
        "colab": {
          "base_uri": "https://localhost:8080/"
        },
        "outputId": "3a13466d-7266-4319-badd-0f71cff0d537"
      },
      "execution_count": 43,
      "outputs": [
        {
          "output_type": "stream",
          "name": "stdout",
          "text": [
            "Please enter a number: 5\n",
            "Couldn't find the config.txt file!\n"
          ]
        }
      ]
    },
    {
      "cell_type": "code",
      "source": [
        "# 10. c)\n",
        "\n",
        "import argparse\n",
        "\n",
        "parser = argparse.ArgumentParser()\n",
        "\n",
        "parser.add_argument('--firstName', type=str, required=True)\n",
        "\n",
        "args = parser.parse_args()\n",
        "print('Hello,', args.firstName)\n",
        "\n",
        "##Output has given below"
      ],
      "metadata": {
        "id": "wtN5afjB4ZG1"
      },
      "execution_count": null,
      "outputs": []
    },
    {
      "cell_type": "code",
      "source": [],
      "metadata": {
        "id": "o7K_aT6VAdHS"
      },
      "execution_count": null,
      "outputs": []
    },
    {
      "cell_type": "markdown",
      "source": [
        "![image.png](data:image/png;base64,iVBORw0KGgoAAAANSUhEUgAABcsAAAMYCAIAAACbjCg6AAAgAElEQVR4nOzdf3xU9Z3o/w+BQDIBAoShEujQGDGHxnY0yRJPFwmB9WFCxaVuBvjKlRjcvUbI1a/QFqJQrvVHoF3wygOQ/e6VGNm20dCWFSTheiGEbnekayijYiZCRKYQkAmQoBl+JvP94yOn48xk5kzO5Afwej766CNz5sz5vM+cz4yc93w+788AVVUFbnkxMTFXr17t6yjwDYMHD75y5UpfRwEAANC/eL3eAQMG9HKjOv9hxr/fgFvcICGEw+Ho6zAAAAAAAABuVHfddVdMX8cAAAAAAABwwyPDAgAAAAAAYFRMbGxsX8cAAAAAAABwY6O+KQAAAAAAgFHMEgIAAAAAADCKDAsAAAAAAIBRZFgAAAAAAACMIsMCAAAAAABgFBkWAAAAAAAAowZ172Verze6cQDQDBgwoK9DAAAAAABEJuIMi8ytxMbGxsfHDx48OCaGUTBA1HR2dl65csXj8Vy7do08CwAAAADcQCLLsHi93piYmFGjRiUkJPRQQMAtLiEhYeTIke3t7efOnevs7CTPAgAAAAA3hAgyLF6v12QyJSUlMW4F6GkJCQnx8fFnz571eDwkWQAAAACg/9ObK/F6vQkJCWazmfQK0DtiYmLMZnN8fDxljwAAAACg/9OVLvF6vQMHDhw1alRPRwPAT38bNTZy5Mi+DgEAAAAA+iO9d26jRo3qV7d5wC1i4MCBI0eOZBgLAAAAAPRz4ZMmXq938ODBJpOpF6IBEGjo0KGDBnVzYXUAAAAAQO/QddsWHx/f03EACMFkMl24cIGStwAAAAD6ifb2dj279YeViGtraw8ePLh06dKudli7dm1GRkZubq7BhnRlWGJjYw02A8AIxrAAAAAA6G8qKyvr6+u7ejYzM3PevHm9GU9XDh48WFxcLIQImmRZu3ZtcXHx5s2bjTek67aNCixA3yLDAgAAAKC/qa+v37RpU1fPLlq0qJ9kWGRiJWiSRUuvhBjhoh+3bQAAAAAA4GYWNMkS3fSK6IkMS+yI2xOSs8UAvcNeLp9tuHj6YNTDAAAAAAAAkPySLFFPr4joZ1gGDBgz5X+O+HaWEF5vZ4fo7Ojs7OjsvObtvObt7PB2dni917wdHV5vh7ezo7OzQ3R2DE60kGEBelN7e3t/KDcFAAAAwJfD4dCzm9Vq7elIblZakiUjI2Py5MnRTa+IqGdYBpq+ZRqVIrzC6+2Yp8YMjxuwafdl4e3weju9nZ1eb8f1//86veL1dl694IpuDEDvS05Obm5uNrIDAAAAgFtcY2NjX4dw81u6dKlMr/zpT3+KbnpFRD3DMnj4hNj4ETKT8n3LwLSxAxPjTa/sbGv3dHi914exdHZ6OzuEt6Ozs0OIzsvnPtV58O3bt6elpb388stbt26VW7Zs2aKq6jvvvLNs2TLfLS+//PLIkSMfe+yxN954Y/369frj37hx4/Tp032b6CE1NTUTJkyQf7e2th48eHDx4sU92qKv5OTkF198cdKkSSNGjBBCnD59Wq5KJaOaNGmS/kM1NDQcP348Ly/P7+9bzXPPPZeUlNRVGafKysqzZ8/25iUGAAAAcMOZM2dOX4dw81u7dq1Mr0yePHnt2rXRTbJEeZGgwaNShRDezg6vt+N/vtXuaunIvjP2R1kxX6dXvF/PD/J6v06yeDuuXPO4dR5c5vPuvfdebYvMBaSlpWlbkpOThRAyPxIfHx+9M+sRe/fu3bt3b1tb2/Tp07ds2dJr7co81PHjx2UAvdbuTUxmTyorKwOfkhtJrwAAAABA39Jqr+Tm5m7evLm4uHjt2rVRPH6Ux7DEJd35dSal85rnWkfZ7y6U/mjYvKmjBg0cVLHn7NWOjutFWL4ezzIoNu6ap0Xnwd9+++2HHnpo3Lhx8mFmZuaIESNaW1stFou2z4QJE2QiZv369RGNXukT2l13bW2tqqq902h+fv6ECRPsdvvChQt7p8VbxLx58yorKysrK31Hssj0Sj9ZoqzXDB06VAjx1VdfBX0q6HYAAAAA6FF+pW1DLOHcbVEewzJkVJpvAuUv7is/rXC3XOgo+Nvhc+4bPsDbeX0My9elWDovn+u8ovd2q76+3jefkp+fL4RoaGiIj4+Xfz/66KPi+lCXjRs3NjQ0yC3y76eeemr79u0NDQ0HDx5csWKFdtiNGzcePHiwoaGhpqbGb9jLU089VVtb29DQ0NDQUFlZKQfI+B5ZCCF3kH8/+uijDQ0NK1asSE5OrqyslIetra3NzMwMfWqffPKJ8Uble1JTUyPPccuWLb6vXbNmjd1ub2hoOHPmjBBi1KhRXQWTn58vj2+32+Ub6/dG1dbWapHAl8ykaCNZbs30ihDCarX++7//e2D9rdTU1F/96ld/+7d/2ydRAQAAALhlBV05aOnSpdEdyRLNDMvAuKTYobd9PQno+jygLz1X3/3gSyHEo7lJllGXr6dXOr2dHQNiYi6etEfUxPHjx7V8SlZW1unTp6uqqoQQ06ZNE9cnEO3bty/oax977LGTJ0/+6le/EkI8/PDDWvZh+vTpZ86cee2115qbm30HkqxYseLJJ5+8fPnyr371K7vdbrVa5Wt37typtZWZmXnbbbeJ68kduXHLli2bNm2yWq2/+93vXn755ba2tu9+97uhz0sbmGOk0czMzJdeeunSpUsvv/zye++9p6rqiy++qDVx//33//znP580aVJ9fX1jY2NaWlpNTU3QRMnPfvazPXv27N27d8SIET/96U/lRjmxSJ6REOKZZ54Jmza6NWlJlls2vSKE+OMf/7h79+5169b5JllSU1PXrVu3e/fuP/7xj30YGwAAAIBoyczMXNS1/nPPGGJh5ugmWaI5Syh+7N8MHDTk61EqnR1eb2d8rDc/Y9i8+xKvXO14/6OTx06e9w4cfv3ZjkGxCRc++78RNfHxxx9brdZp06ZVV1dbLJZDhw5VV1e/9NJLshTLuHHjLl68WF1dHfS1hw4dkrNyxo4dO3369BkzZmzdujUjI6O1tVUrzlpZWandE/7whz/0fUrmYp566qn169e/9NJLqampQoj8/PzW1tYhQ4bce++9W7duHTdu3OnTp5ubm+Pi4lpbW7ds2dLc3Lx161aZzenKmjVr0tLS5NAbI42uW7dOCLFo0SK5Zo3Var377rt9T197Z2bPni2P/Oyzz86fP3/hwoW+y9z85je/kROsamtrZSonMzNTVdW9e/dqKZtnn312zpw59fX1Oi/cLWXevHl2u10I0Wszv0Job2/Xvz2KSzj/4he/EEKsW7duyZIlDodDS69s2rQpWk0AAAAA6Fvz5s27IX5UzsjICLEws9yekZFhvKFoZlhM438gxIDrCwZ1xMV2/nz+aGXckMtXrr1Y/p/2z0wi5np6RU4junLh6lenImpiy5Yt8+fPnzBhQn5+fnx8/KFDh4QQn3766Z133imEsFgsLleXaz/X1tYGbhwxYoS8GZbOnj3b1VPvv//+9OnTZSrn008/lYmYu+66q6GhYdSoUTL3IZM+Qoimpqbp06fv3Lnz008//eUvf9lVJkKb6XP69OlFixYZbHTEiBHx8fF79uzRc/qLFy/OzMz8yU9+IofJzJ8/X0uyaPVrLl++LP+QY3CmT5+uBSyu19pAoMrKyuPHj8s/+vzrJmjSpL29PYrJlK5oSZZNmzYtWLCA9AoAAABwM+mFe4pokYvnhhCtOixRy7AMGBQflzRRTg7ydnbmpA95/P7EUUMH/unwyQ2/P3rywtCYAQM75VLNckUhb+e1LyNLrwghmpubT58+PWHCBDktaNu2beL6wJYVK1bEx8f3zvrhskVZMvY3v/nN8OHDH374YZn0kYmMxYsXP/rooz/84Q+tVuu//uu//tM//VPQJItcx+f999/Xszh02EaFEK2trfpvYuvr6+fNm7dmzZqHHnpo4cKFvlOKgtq7d+/777+vPfStHQON7+SgwMK3txqZZFm0aNFvf/tb0isAAAAAbm5Ry7AMjBs1KC7R29kxQHT+9weGzfqbhCtXO97Y+eHr/6flromWJ3MSvV6v8HZevdbxu/0n3OevCiGufXWiGw0dO3ZMVdXJkyfLqTFCiOrq6vnz58+YMUMI8fbbb0d6wJSUFO1vOSpEunjxolwNWpLlTmQGR7Zos9lGjBixbdu2sWPHyocXL16UuZLk5OStW7du3br1qaeeevLJJxcuXBg0wxK4gq+RRi9dujRhwoRPPvkkosk7J0+eFEIMGzYsxD4tLS1CiKSkJD2ZoFuZX+2VoKsL3Wp+8YtfvPnmm6dPn+7rQAAAAACgZ0UtwxKbMGbAoDivt2PIoE7rdwafavny+fKDTS3D4hPG/D/TzFO/l6jt+dnxE++d9w4YEHPty5PdaOjQoUOqqt52223abBq5xtBtt93W2toaaWUQu92uqur27dv37t07ffr0MWPGaE+99957Dz30UE1Nza5du9LS0lRVPX78uJxBU19ff/r06UmTJh0/fry5ubm5ubm1tXXSpEnaHKXf/va377777vHjx3/wgx8IIU6d0jtax2Cjzz777IYNG2TTubm5brd72bJlfk08+uij8+fPb2pqEkLEx8fffffdFy9eDJ2Zqq6ufvrpp61Wa2Vl5bvvvjthwoQpU6ZoxWIgBS1tS5JFCEF6BQAAAMCtIGoZlsGj7hTeAV5vh+fStdItR8+dPdMRax4wsNPb2bH27c/+v9+3CW+n1+vt9HaePn9VCFNs/MjWs92Z0bN+/fonn3xSfLOwyPHjx0eMGCGLX0RkxYoVcsUTWc3k5MmT06dPl0/J3MTUqVOffPLJixcvfvrpp0uWLNFeKIfSHDx4UAvAarW+++678uEXX3wxf/58IURra+s777wTdgKOxkijW7duHTly5I9+9CPZ9PHjx4OWnpGze1RVlUtTNzY2/su//EvYzNTChQvXrVt35513Wq3W1tbWbrzVN7eNGzeKLlYOkkmWjRs3Bg5ZAgAAAADcNAaoqupwOELs4fV6x4wZI+/GQxid/ePhqXmis6PT2+Ht6PB6r2kVbTs7O0RnR2fnNeHt8Hq9cv9ho1OaKmcKb2fUTgXoO8nJyb7rMXVjh9AuXrx45syZAQMGdPsIvoxUuh05cuT58+ejEgYAAAAA3DQyMjKiNoblq2P/55ruhYEGxAxs/vA10iu4aYTNnhhJrwAAAAAA+rkrV65ELcNy6cyHl858GK2jAeg5N9CyagAAAABwo4jp6wAAAAAAAABueGRYAAAAAAAAjCLDAgAAAAAAYBQZFgAAAAAAAKPIsAAAAAAAABhFhgUAAAAAAMCQAQMGhM+wDBo0aMCAAb0QDYCuxMTE9JOP4fnz5/s6BAAAAADoj8JkWLxe7+DBg3snFABdGTBggNfr7esoAAAAAABdCj+GZfjw4b0QB4AQBg0a1NchAAAAAABCCZVh8Xq9I0aMGDJkSK9FAyComJiYESNGMIwFAAAAAPqtQUKIwNu2gQMHxsbGJiYmxsXF9UVUAPwlJiYOGTKkra3typUrnZ2dfR0OAAAAAOAbBgkhBg4cGPjE1atXW1paej0eAGEMGDAg6GcWAAAAANCHWK0ZAAAAAADAKDIsAAAAAAAARpFhAQAAAAAAMCpmZFJSX8cAAAAAAABwY4vpvHypr2MAAAAAAAC4scW0fdXe1zEAAAAAAADc2KjDAgAAAAAAYFTMKOqwAAAAAAAAGBNzxcMsIQAAAAAAAENivrpIpVsAAAAAAABDqMMCAAAAAABgVEzi0IS+jgEAAAAAAODGFjNoSFxfxxB9aWlpmzdvfvXVV/s6kCi7Wc8LuJnwOQUAAABuTYPOnj3b1zFEX2NjoxDCarXabLaqqqq+DqdL+/btE0JMmzZN5/798Lzy8vKWL1/udDqLi4v7OhZ/ZrN5yZIld9xxh9lsFkK43W6bzdbXQeEb5EdAo/+zYJDNZpsxY8aePXt64nPUDz+n/c2CR6a88stHDzecmPp3L/R1LPirxMTE++67b/To0SaTSQjh8XjeeOMNv33uueeeiRMnHjly5M9//nNfxIjwzPc9OnbWjy990fTp2of7OhYAAG45g/TstGzZsvz8fN8tLpfr8OHDW7Zscbvd2kaz2bxw4cKsrCx5Qxt0n7A2b96sKIpvQ01NTZWVlfKmRb89e/YoijJjxozQdzg6Y1ZVNTExsb6+PqJz6Ql6zkvn9dKp/5x7RMxm89q1ay0Wi8fjcTqdQohTp071fhjR6s9SL1+LV1991Wq1CiG2bdu2YcOGnmhCXhohhO+71G3635+ioiKTyWSxWHooA6L/++fBBx/Mzc21WCxCiNWrV9fU1ATuZrPZZs2aJfdxOByVlZV2u70nwo6imXl3jx41dM++T042n+vrWKBLYmLirFmzhg8ffvXq1ZaWFiFEW1tb4G5ZWVmxsbGJiYk9mmFJTU2Ni4s7ceJE0BimT58uvzHq6uoOHz4sN86ZM2f06NG+W/onmf4QQnz4U2vYfTSth2pcv17W48GFiydEzAAAQNKVYZHcbrcc8CLvTCwWS3p6+tKlS7WbmRdeeEH+o8fpdGr7ZGVlrVixItL7Sa0tRVEsFkt2dvYLL7wQ0U1FVVXVnDlzFEVRVTXEC3XGXFhYqChKV/c/vUnneQkd10un/nPuEVm0aJHFYnG5XN045agz3p+lXr4WVqvV4/GYTKaJEyf2UBPa0Ce/wSzdo//9cblciqK4XC7jjQal53OqqmpZWVnYQ2kJU6fTmZSUZLVarVZraWlpP0+yLP/xrPRJ45/5ydY3f/0ffR0LdLn33nuHDx9+4cKFHTt2BM1rSG1tbaNHjw6xQ1RkZmbKdEnohlJSUvp5PqV7rnlaL33RJP8ePDI5ZnB838YDAAD0iyDD8sEHH6xZs0b+nZaW9txzz1ksloULF8qNqqoqiuLxeJ555hmZm0hLS1u0aJHH4+nGz/VaW3Kih6qqK1euLCwsjOhWedeuXYWFhQ899FCIO5woxtxrwp6XFPp63fTuuusuIcSOHTv6PL0iotSfe5mcUXXgwIHU1FQ5kuVmUlxcnJeX16OJqrCf08TERI/H43A43nnnHZkbCtwnLS1Nplc2btwoh8OUlZWpqlpYWKgdtqioKCEh4a233urP3Qn939ixY4UQhw8fDp3UePvtt9PT0/tJXmPs2LGJiYk9ne7pfefrd5yv3yH/vnPp7+K+ldq38QAAAP26uVpzY2Pjjh07hBDp6elyS2JiohDC5XJpuYnGxsann366tLTUSHxut7u0tFQOMFm4cGFEr925c6fH41FVNS0tLegOPRRzTwt7XoECr9dNT0776m9VMIz051723e9+VwjxySefNDU1iesJl5tJT48DCvs5ra+vnzlzZujRKPfff78QwuFwaD153bp1Ho9Hjo6RW8aMGVNQUFBRUVFWVqb/OwHwI2uv6Jn700/SKxcuXIiNjZ00aVJfB9IdnVcu9nUIEbsRYwYAoPdFMIbFz4cffiiEkKUBNElJSWazOeo/pcqiBoHZATkWoKWlJehMELfbXVdXl5+fP3v27BADN0LELMu4ag+XL1/u+1CryimH8VdXV2utBK3/qqrqvHnz5HAAh8Px4osvBrYVWI21pKSkoKDA4XA8/fTTEZ2XH9/rpactneeuKSoqmjlzptls9ng8Bw4ceP755/12WLZsmVbvxul0+hUZlc1VV1efOXMm9HGiJXQ8Wv0Ul8u1YMGCVatWZWdnm0wml8v12muvGZygEdiftYonHo/H5XIdOHCgvLxce1b/tQh9nIjIQUBVVVU2my03N1cmXPxCCnu9jMcT3b7qVxbH9zPr12h+fv7EiRPlPafD4aiurvbNyMj6TSkpKb5H8/u8h/2c6vmelPOzjhw54vsqOcUpMzNT9kOHwyEjUVVVVdXAzqyTrD677fd/+qThZPE/Th8zJrHdc6n+4Oclz1TIWipyhzNn2ibd81PfF/7z6vlFj0794OCxB2atlvtoT73yy0d9HyaNe8Kv0VXPPTyv4F7Z1v4/NP63hZv8dviXDY9P/du0MWMShRCHG0789vf/9erGv14ILebmU+dDH0ePsNddzxHk5+Kzzz6bM2eO/Fw4HI5169bJy63/e76/kVVOtIdOp3Pv3r1Bd7hw4cK//du/PfDAAxaLJTY29sKFC3a7XSZqhRCJiYlyBpDv0VpaWt5++20hRHp6ek5OjrY9JyfH9+GmTd+4rM3NzYMGDbJYLO+//37QmB9++OHbbrtNCHH16tW2tjaXy+W356JFi4QQBw8e/N73vieE2Lt3r9Vqve222zwez3vvvXfy5Eltz+nTp1ssFtkxLly4cPTo0a4aDeuap1UIceV8c/deLlkeWTN0YvaghJFCiEtfNLV9+N4X770WuFvyrJ+MyPjhoISRnVcuftX0p8/Ln9KekqVVWg/VXPuypat9ohszAAC3iG6OYRFCjBo1Sgjh8Xjkw5qaGrfbbTabN23aVFRUFJ3orpM1GvyyOUKIqVOnyiIjmZmZQV+4fft2IUROTo68kfYTNua2tjan0+l0OuVpulwup4+ITkEmg2RhC6fTmZycvGLFiqDB+P3LW95iHTp0SP95BeV7vfS0Fem522y2ixcvytEZubm5q1at8n22rKwsPz/fbDY7nU55f7h48eLA9zwlJaWwsDDEcaIlbDynTp2Sp2mxWIqKinJzc10ul9vttlgsS5YsMdh6YH8+d+6cfGPb29sVRSksLNy8ebP2rP5rEfo4+qWlpck3R4tWJlz8hL1exuOJbl+Vl9XpdIbIbpSUlCxfvtxqtba3t8s9rVbr8uXLfbvH2rVr8/PzZSUXraHAUsrd+Jz6GTJkiBDi6NGjZrO5pKREvgnHjh0TQiQkJGhvUXFx8RNPPFFbWyuHtyxevLiqqqqkpKQb7U5Skn/27I88F68cbjiRYIqbOkV5Z9vXHf7NX//HmTNtY8YkPr04z/cl30v/thDiP9//VAjRcu6rww0nDjecaPdcEkJ8ftwtH8r/BTb3+GM5Wlv5D1j/bcsi32d//9YzBT+aPGZM4uGGE58fd6dPGv+zZ3+06jn/5VEmKclPLXogxHH00HPddUpJSVm8eLH2uVBVde3atfKpiL7n+5W2traWlpaWlhbtP/pBdxBCDB8+/N57701NTW1ra/N4PMOHD7/vvvu03WbNmqUoyujRoy9cuNBynTbN59KlS3LL1atXhRC++8iD+zl16tTo0aPHjRsXNKT29nbtaKNHj87IyJgzZ07gbsnJyS6XKzY29r777mtvb79w4YLJZPIdDvbggw8qimIymeTRhg8fnpGRMX36dL3v3Tdp03+67fYn/veIu/MGJYy89EXTlXPNcd9K/db9xcmzfhK456jsf+i8fPHSF00xg+OHT8r5TtF6vx3ixk4cfd9/C71PVGIGAODW0f0xLNov/NqWdevWLVmyxGw2FxYWzpw5s66uLlrrj3R1O7R///6cnJyWlpb6+vqgOzQ2NtrtdlVV586dGzSY0DHb7Xb5K7H86fvXv/51t2cWzJs3z2QyyaEr8nQCi1zW1dUVFBRMmTJF+/3ZbDbLIQA7d+6M6LwC+V2vsG1FdO6KolRUVMjhCfJH2uzsbO1Z+dO6EEKbECF/sLXZbH4jGhRF0epNBB4nLFmfwneL7/18RUWFbF1PPHIshkwu3H333XJPs9lcVVVlNpvT0tKMVOoJ7M++Qz9k0RxFUbS1fvVfi9DH0U9OTpF38m632+l0KooSeNZhr1dU4oliX9XiCVxvSwuyoKBACKH1ZyFESUnJ5MmTtWRNXl6eXKMqbCWdbnxOuzJ37lwZ2IkTQfIUsi15djabbcqUKVartaCg4K677op0GfX0SePXb9r9/Eu/E0JkZaT87q3/9zsTzKuee1hueXe3o+jRqTPz7tYGkoxLHpWVkSKE+N/l+4QQu2oO7ao5JITY/39Xpk8a/+qGmhCVbn3bkqNRpt7319vamXl3T52iCCEeffw1eUw5WObxx3LkS3yP8/OXfy9DCjyOHnquu36+34dpaWmvvPKKTNTKLfq/50OT4y+C0oaEhN0nNTXV7/cJ3xxEfX29NvZk9+7d8g9tHR8/cgfZYnJy8u7du5uamhITE+fPn28ymcaNG3fy5Mn09HS5VtHbb78dtHhKU1OTbFGOiPnzn/8cekbSxx9/nJqampaW5jvexC8kady4cbm5uaNHj77nnnv8ZkI1NjYePnxYlmDbvXv39OnThw8fPmLECPnsPffcIz/v2qiW1NTU6dOnp6am1tfXd68EzKkd/yxHhXTDyMxZQ1P/Rgjxl7dWyMTH+IKfjZr8D6Oy/6F5xy9994z7VmrLH/5NbpQjVoamTvY7Wty3Ur94b7Mc/9LVPsZjBgDgltLNMSyqqmqFMLWNdrt90aJF27Ztk7/RFRQUvPnmm1qxgJ5gt9tnzpy5YMGCEPc5b7zxhhDCd6Sx3xF6J2b5E2VlZaUWqgzM11tvveXxeKxWq/br2YMPPiiEcDgcgScY+rz8BF6viNoKy+Vyabcl8uZWjqaWpk6dKo+sTa7ZsGGDXKQmLy/P7zjaXUfgccJKTExUrpNbFB+y7E5E8UhHjhyRe8pcgxAiJSVFf1SRkv/cF0LcfvvtfXUc2V33798vH8pUi0y7+IroenU7nuj21dBmz54thLDb7b65vw0bNixdujRwati0adPCDhKJ6HMagjZiJawPP/ywubm5q4EGYZ0506blLz44eOzt3/5JCPGDe++UW15ZX93uuZSVkSKzKkKIfyyaJvfsxqrMnx93a23JREyCKU579u8fzJRHlukVIcSPl/+q3XMpwRS34JEpfsfRMj6Bx9Ejouseltvt1o7T2Ni4a9cuIcTdd98tt0SrP7d0TbvtD7tPXFzc6OvkS0b7iIuL7G30fQdkokQb2KIlLKTbb79d+0I24uTJkxcuXAgc3xp0z+bmZiHEyJEj9Rx50KCvf3+SA2ScTnXbQYkAACAASURBVKeWxGlqajp16lRsbOz48eO7F7b7D1u7PSpkWNoUIcTFv3ykHeHEtp93XrkYMzjefN+jvnteOdes5Vzcf9gqhAhck+jKuWZtelFX+xiPGQCAW0oEY1iysrLkiAA5MUcI4XQ6/cYguN3uDRs2bNiwQU6skFMq+rZGZmNjo/wFXvsJ0U/vxCzvPH3/sR44CMLtdjscDlVV77//fvnsnXfeKboYOh72vEJfr4jaCiv07ZzMR8h/3Wrk3By5eoXO44RVU1OjDV6Qw08C68VEFI909OhR7e9IRwToVFRUlJ2drSWGuv0+ROs4cjqb1l0dDoesT+G3W9jjRyWe6PbV0JKTk4UQra3+P9X63vrW1NTk5OSoqrp48eLFixe7XK6TJ0/W1dUFHTgT9nOq05YtW9rb29vb2+12u0wRBvJ7t+12+zvvvBNpQ+6zX/o+/PDD40KI+PhY+fBk87n6g59PnaLMm/ODDw4eE0Lc/f0J4voUoUi1ey6HeHaSkiyE+Pz4N5IOnx9vSZ80PiVljP7j6KHnuusnl2bXyC8QOeFLRK8/y1EqBvc5fPiwNkhEDj/xq3XSPefO/TXd5hvD4cOHU1JSLBaLHEh44cKF1tbWY8eOGSmde/To0YyMjKBF3O+9916LxaIlj+TMo0jJ/3ZnZGRkZGR0O8goihs7UQhx+ew3xuxcOd8c963U2BG3+W7svBq+MK2efQAAQEQiGMNiNpvlWACLxeJyubZt2xbibrO8vHzp0qUej8dsNgcdFxARme/o9u/VshpC2Pkm0Y25e+QdkfaLd+ih46HPK+z1iqgtRJFff161apVcrFcr6tHe3t6Nw0brOFp6cfN18hf+SNdsjlY8ov/11dLS0tLS0urqaqfTKW8Xly9fHjjvT9L5/RPU5cuXhRB33HGHTATLHI1MEWpvZlpa2qpVq+Ti0IqiuN3u6upqm80WepWibvvX8lohxA8f+LozZGZ8R1yfIgSd+lt/7k07d+7cvXu30+mUBU0sFktOTo4cxdM9DQ0NIti4wgceeCAjI8O34Ev3MiySX3UnKTAlZ8TIzFnf/4Xj+79wBH32svvzKLYFAAB6TgRjWLpad6Mr2poXkUflb8aMGUKIjz/+uHsvr6mpefzxxxVFycvLC11IJXTMd9xxh84Wgw6FEEL4VrIIuq6q3W53uVwWiyUvL2/YsGGydEtXqaXQ5xX2ekXUlv5zD3Ts2DFFUeSvxBo5rCawOGgv6PN4/Ppzbm6u8CkKI7quEiJ1dS0iPU5X5LJBJpMp8IMQUQmVbsTT1apevdZXm5ubrVarnllgWvEXcb0GjfxZPjCpof/7J9CRI0esVqvf6CHZV7XiU7Nnz5ZvtdPpNLJ6lGROGub78PvfnyCEuHjxr7emu2oOfX7c/Z0J5gWPTBk5cmiCKS7EFKHvf3+C6LoOS2gNzub0SeO/M+Eb87C+M2G0EOLYsTPdO2ZX9F93PZKSknwfyg4pk2VSRP355qMVWxHXFw+yWCypqanaRo0s0B6aXCRo7NixFy9+YzhGamqqEEKWg5FbuqogE5oceefxePzWToq68/U7vj33RSHEsDt/8OWn/6ltHzR0lBCi89JX8uGlU0fivpU6JOkbxX0Hj0wWQlxtPd2jEQIAAD26v5aQH5vN5jezRlVV+a+Z7pWCk8xmc1lZmaIoHo+nsrLS71lVVXft2vXmm2+GrYYgZ8L73d3pj1neeE+ePDlEQ9q/zs1ms7zh8eVwOMQ36w4+9thjQY9TW1srhMjJyZFjkkMPHQ96XvrpaUvPuYcmy3lYrVatwE1JSYnJZPJ4PN2uHGxEH8YToj9rc5FUVc3Kygr6cj3XQs9xQpPLBj3xxBPTfGzbtk1cT75ERGc88vZy7ty5Xe3QO31VjjdRFGXZsmX6XxX2K67bn9P33ntPCGG1WrVvqlWrVplMJrfb7ZvKsdvtpaWlxcXFBtMrQogxYxK1xXqyMlLkWJWPDv/Fd5933j0ohPjR3//NtKmTRBdThFyus0KI3KmTxiWHv0kO6t931ssYZuZ9XcHkn1fPTzDFtXsuhaie2z0RXfew/90xm83aCkRpaWlyrIrvktsiwu/5m9ilS5eCbpefqQkTJugp13Ly5MnY2Njhw4cHPqWtQJSamqqnXEsgWYUqNTX13nvv7cbLI3LxLx8JIW57YNGQMV8Xq0qe9RO5jrIskiKE+LLxP4QQ8d/+3sjMWXLL+IKfxQyO990HAAD0oe6vJeQnIyNDFiZwuVyyaKj814zvL736aTVEZL7D4/FUVVUFFi7xXa059L1xeXm5zWaTxQW14+iPubKyMjs722KxVFRUyOV4kpKSXn/9ddno9u3bc3JyFEWpqqo6e/asxWJxOBwWi0VuWbdund1ur6ystFqtVqt1165dLpcrKSnJrw6IX6iqqrrdbo/HE3roeNDz0k9PW6HPXQ/5fqqqWlZWJpcvle9zpAvcREvYePzWJHrkkUdmz5596tQp35VxIhK6P8s6HfLtlcFUV1fn5+fn5+dnZWXJ/iP3DH0t9B8nBLlOs9vt9utO9fX1cm0a/WcdUTwffPBBfn5+QUHB5MmTPR6PxWIpLy/37SHG+6osUyL3lKMMtOuiXdzGxsaKiorCwsL8/PycnBxt7S1FUbSaPnLEivzSED51jlwuV1fvcNDPqW83k0eQPU34rHvV2Ngo37TFixfPmDEjKSlJ3tW//vrr2sEjGloY1uGGE48/lvPQDzPaPZfTJ40XQpw50/bK+mrffZ5/6XePP5YzdYpy5kxbu+dS0ClC/2tD9dT70r4zwWyvW/X58RYhhDlpWNkv39GfHNlVc2j/fzinTlG2vv7k4YYTCaYhcjzL62/UGT3JAHquuybsf3ecTqfNZsvNzZWLZwsh3G73W2+95btPRN/zfU4WNJF/y7okFotFrjrU1ta2e/duvzWJ7rnnnvT0dPmU73HkiJULFy5cuXJFCDF48GCZFrlw4YLfAJaPP/7YYrEMHz58zpw5MttiMpn+67/+K2jFlj//+c9Wq9WvzHZLS8vo0aPly2VD8htJzpz9wx/+EDhkJqjDhw+PHz8+NTU1IyPje9/7ngxm8ODBbrfb7+yMO71704QF6+K//b2JT/36yvnmQUNHDUoYKYRw11Vo+5yv3zEy6++Hpv7Nt+e+aJ5WFBMbP3hUshDi3IHfRjcYAADQPVEbw3Lw4EE5zllmFiwWi9PprKioKC0t7cbRtBoiLpertrb2mWeeCfrb7P79+z0ej8vl6mq1Zl91dXXimyNH9Mfc2Nj4wgsvyHEoMrCEhIRhw4Zpz65fv97lcpnNZovFcuDAAa3ApNlslj/B2e321atXy/t5RVHOnj1bWVnpu9a1L7nij9ls1jN0PPC8IhK2rdDnrpMsWiFnYMn3efXq1cZ/b++20PFoaxLJh7J7dDXzS4/Q/XnlypXydlpRlPj4eN/pXVr/kUJfC/3HCUEuGORb3Fey2+1yva2gs9uCiiieNWvW1NbWytyKoigtLS1Dhw71O6DBvjpmzBhtYSmZp9Cui+/FLS8vX716te9B5IXTTnzs2LHal4bWf6qrq5cuXRri3Qj8nPoufaXdtfqteyXfGZkwkmE7HI7Vq1f36GCrtf+r2hQ/OH3S+HbPpf3/4fy7H64OnAS0/w+NQogxYxLrD34edIrQBwePFf+PclkNN33S+PRJ4xOGDhk50v+ahvajua9s+/2fPj/ultOFDjeceOYnW/2Wao6WsNddo+e/O+Xl5fHx8XK0mlyxLrDHRvQ937dMJpO2wJDsq9oW2Ve1NYnk/sOHD9ee8jVs2DCPxyOfHT169PDhw1taWpxO544d/ovUnDx5cu/evadPnxbXlzeKjY0dPHhwVxEGTvDcvXu3/C/s6NGjBw0a5HQ6tWk+JpMpomWSdu/eXVdX5xtM0PEyxn356X8ef3PJV03/JYSI+1bqoISRF//y0akd/6wt9yN99i//2Hqo5sq55rhvpQ4elXzpi6ZTO/7Zb6lmAADQVwaoqvrRRx/1dRi9wWw2V1RUCCEKCwv7+T9nzWbz2rVrLRaLnlspg+cVUVtAH7qh+2r///5Z8MiUV3756OGGE1P/7oWwO49LHvXOtiXfmWB+5idboz5n58Ylxzc5nU49i47d0P0ZAAAAgdLT06M2hqX/c7vddXV1Lpcr6Aq+/UdeXp78Z3dtba2ef3YbOa9I2wL6yo3eV2+U7x89FjwyRaZXqnc7SK90z43enwEAABBU1Oqw3BCiW7AgulRVffLJJ7W57k6nc9OmTTpfG+l5GWkL6E03U1/tz98/eszMu/uFnxVoi/scbjixbIV/9XGEdjP1ZwAAAAS6tTIs/VliYqIs6HD+/PmDBw/2aBXY3mwLMIK+2n+MHjVUFkM5e/arffsbXt3IyIuI0Z8BAABubrdQHRYAAAAAAICecGvVYQEAAAAAAOghZFgAAAAAAACMIsMCAAAAAABgFBkWAAAAAAAAo3p1LaF9+/b5Ppw2bVr39rkR5eXlLV++3Ol0FhcX93UsAAAAAAAgynRlWDZv3qwoSnV19Zo1a/w2rl69uqZG75qdTqdT/qEoipF9+oRMkfhu8XtDAAAAAADALatXx7Bowzf8BqpEuk+faGtr07I/FovFZDL1bTwAAAAAAKD/6NUMyw3Nbrfb7Xb5txy/07fxAAAAAACA/oNKtwAAAAAAAEZFeQzLsmXLsrKyzGazEMLlctXW1paXl0e3iaBtOZ3OPXv2VFVV9VBbUYynqKho5syZZrPZ4/EcOHDg+eef156SpV6qq6vPnDnT1T4AAAAAAKAfimaGpaysTFVVcb1araIohYWFY8aM6YlysL5tmUwmRVEURRk6dGjPJXSiFY/NZmtpaXE6nYqi5ObmCiH8EigpKSn5+fkulyvEPgAAAAAAoF+JIMOSlZW1efNm7aHFYvF91mazqarqdrtXrFjR2NgohFBVdeXKlTk5OVu2bHG73dGKWB5ZpjNKS0tlbZSSkpKCggKbzdYnGRb98SiKUlFRITfKESvZ2dl+R1MUZePGjXL8S1f7AAAAAACAfiWCOixms1nx4beYTkZGhhBi165dMr0ihLDb7Q6Hw2QyZWZmRjFiIcTUqVOFEA6HQys9u2HDBo/HYzKZ8vLyottWdONxuVxazkWuch24JpHL5dKmF3W1DwAAAAAA6FciGMNSXV3tO9/Hbz2dkSNHCiEKCwsLCwujGF9QKSkpQojm5mbfjS6XS1GUsWPH9nTrRuLxeDxhj6ZnHwAAAAAA0K9EudKt3W5vbW3123js2LHottJrVFUtKysTQkybNi3w2c8++6zXIwIAAAAAAP1R1DIs58+fF0K0trbqr2trNpvD1mcJus+xY8cURUlOTvbdKOvCnDp1Sm/EOmizftLS0rTZT0KIpKQkIcSXX37Zy/EAAAAAAID+KYI6LKHV1dUJIXJycoqKisLuLJMmc+fO7d4++/fvF0JYrVZZX1YIUVJSYjKZPB6PLFwSRQ6HQwixaNEiuQyzEKKoqEiuo6y11ZvxAAAAAACAfihqY1hqamqys7Nzc3MLCwttNpvL5RJCmEympqamwJWGP/jgg/z8/IKCgsmTJ3s8HovFUl5erpV3DbuP3W632+1yCo9cHVkOGPE7giSX4xFdzPQJa9OmTa+88orVaq2oqHC5XElJSTLV4rtIUETxAAAAAACAm08067A8//zzBw4cyM/PnzhxolYEt6mpKXDPNWvWxMXFZWdny0yEy+UaOnRoRPuUlpYuW7YsPT1dNuR0Ordv3x50wIisNSszPt3Q2Nj4zDPPPPbYY1arVbblcDiqq6v92tIfDwAAAAAAuPkMUFX1o48+6uswetCyZcvy8/PtdntpaWlfxwIAAAAAAG5C6enpUavD0m/FxcUJIQJXOAIAAAAAAIiWmz/DImcJyYK1AAAAAAAAPeHmz7BIx44d6+sQAAAAAADATeuWyLA4nc7Gxsa+jgIAAAAAANy0ormWUP9UXFzc1yEAAAAAAICb3C0xhgUAAAAAAKBHkWEBAAAAAAAw6ubMsKSlpW3evPnVV1/t60Ci7GY9L+BmwucUAAAAuDXdnBkWWdfWarXabLa+jiWUffv27du3T//+/fC88vLy9u3bt3nz5r4OJAiz2VxWVlZVVSXf56qqqr6OCP72fVOvtWuz2TZv3txDn6N++DkFAAAA0At0VbpdtmxZfn6+7xaXy3X48OEtW7a43W5to9lsXrhwYVZWltls7mqfsDZv3qwoim9DTU1NlZWVkS4GtGfPHkVRZsyYEfq+WmfMqqomJibW19dHdC49Qc956bxeOvWfc4+I2Wxeu3atxWLxeDxOp1MIcerUqd4PI1r9Werla/Hqq69arVYhxLZt2zZs2NATTchLI4TwfZe6Tf/7U1RUZDKZLBZLD+Xd9H//PPjgg7m5uRaLRQixevXqmpqawN1sNtusWbPkPg6Ho7Ky0m6390TYAAAAAIyIYC0ht9t99uxZIYS8M7FYLOnp6UuXLtVuZl544QV5m+R0OrV9srKyVqxYEen9pNaWoigWiyU7O/uFF16I6Kaiqqpqzpw5iqKoqhrihTpjLiwsVBSlq/uf3qTzvISO66VT/zn3iCxatMhisbhcrm6cctQZ789SL18Lq9Xq8XhMJtPEiRN7qAltqa+oDGDR//64XC5FUVwul/FGg9LzOVVVtaysLOyhtISp0+lMSkqyWq1Wq7W0tJQkCwAAANDfRDBL6IMPPiguLi4uLl6wYMETTzzhcrksFsvChQvls6qqKori8XieeOIJbR+Hw3H06NFu/FyvtWWz2ex2u8lkWrlypRxmot+uXbuEEA899FBXO0Q35l4T9ryk0NfrpnfXXXcJIXbs2NHn6RURpf7cy+QMlwMHDrhcLjmS5WZSXFy8evXqHl3KPeznNDEx0ePx2O320tJSbSyPn7S0NJle2bhxo9Z/hBCFhYXaPkVFRSUlJf28OwEAAAC3gm7WYWlsbNyxY4cQIj09XW5JTEwUQrhcLi030djY+PTTT5eWlhqJz+12y9sPk8kUaXZg586dHo9HVdW0tLSgO/RQzD0t7HkFCrxeNz15w9nfaq8Y6c+97Lvf/a4Q4pNPPmlqahLXEy43k54eBxT2c1pfXz9z5szQo1Huv/9+IYTD4dB68rp16zwejxwdI7eMGTOmoKCgoqKirKxM/3cCAAAAgKiLYJaQnw8//FAIIUsDaJKSksxmc9RHDciiBoHZAVVVV65c2dLSEnQmiNvtrqury8/Pnz179po1a7o6eIiY8/Lyli9frj1cvny578Np06bJP+Qw/urqaq0V+UKn0+n7I7mqqvPmzZPDARwOx4svvhjYltvt9ruVLSkpKSgocDgcTz/9dETn5cf3eulpS+e5a4qKimbOnGk2mz0ez4EDB55//nm/HZYtW6bVu3E6nXv27PFNf8jmqqurz5w5E/o40RI6Hq1+isvlWrBgwapVq7Kzs00mk8vleu211wxO0Ajsz1rFE4/H43K5Dhw4UF5erj2r/1qEPk5E5CCgqqoqm82Wm5srEy5+IYW9XsbjiW5f9SuL4/uZ9Ws0Pz9/4sSJJpNJCOFwOKqrq30zMrJ+U0pKiu/R/D7vYT+ner4n5fysI0eO+L5KTnHKzMyU/dDhcMhIVFVVVTWwMwMAAADoHd1fS2jUqFFCCI/HIx/W1NS43W6z2bxp06aioqLoRHedrNHgl80RQkydOlUWGcnMzAz6wu3btwshcnJygg6hDxtzW1ub0+l0Op3yNF0ul9NHRKcgk0GysIXT6UxOTl6xYkXQYPzuJOUt1qFDh/SfV1C+10tPW5Geu81mu3jxohydkZubu2rVKt9ny8rK8vPzzWaz0+mU94eLFy8OfM9TUlIKCwtDHCdawsZz6tQpeZoWi6WoqCg3N9flcrndbovFsmTJEoOtB/bnc+fOyTe2vb1dUZTCwkLf5Zn0X4vQx9EvLS1NvjlatDLh4ifs9TIeT3T7qrysTqczRHajpKRk+fLlVqu1vb1d7mm1WpcvX+7bPdauXZufny8ruWgNBZZS7sbn1M+QIUOEEEePHjWbzSUlJfJNOHbsmBAiISFBe4uKi4ufeOKJ2tpaObxl8eLFVVVVTB0CAAAAeln3x7Bov/BrW9atW7dkyRKz2VxYWDhz5sy6urporT/S1e3Q/v37c3JyWlpa6uvrg+7Q2Nhot9tVVZ07d27QYELHbLfb5a/E8qfvX//6192eWTBv3jyTySSHrsjTCSxyWVdXV1BQMGXKFO33Z7PZLIcA7Ny5M6LzCuR3vcK2FdG5K4pSUVEhhyfIAQXZ2dnas/KndSGENiFCDkCw2Wx+IxoURdm4caMMKfA4Yamq6lufQgav/V1RUSFb1xOPHIshkwt333233NNsNldVVZnN5rS0NCOVegL7s+/Qj7S0tOeee05RFJvNJt8K/dci9HH0k5NT5J282+12Op2KogSeddjrFZV4othXtXgC19vSgiwoKBBCaP1ZCFFSUjJ58mQtWZOXlyfXqCosLAw9DqUbn9OuzJ07VwZ24sSJrtqSZ2ez2aZMmWK1WgsKCu66664erTUDAAAAwFc3x7CoqqoVwtQ22u32RYsWbdu2Tf7mXFBQ8Oabb2rFAnqC3W6fOXPmggULQtznvPHGG0KInJycro7QOzHLn9wrKyu1UGVgvt566y2Px2O1WrViCg8++KAQwuFwBJ5g6PPyE3i9ImorLJfLpd2OyptbOb1Cmjp1qjyyNrlmw4YNcpGavLw8v+Nod9GBxwkrMTFRuU5uUXzIsjsRxSMdOXJE7ilzDUKIlJQU/VFFqrGx8fDhw0KI22+/va+OI7vr/v375UOZapFpF18RXa9uxxPdvhra7NmzhRB2u90397dhw4alS5cGTg2bNm1a2EEiEX1OQ9BGrIT14YcfNjc3a6MLAQAAAPSaCMawZGVlyREBcmKOEMLpdPqNQXC73Rs2bNiwYYOcWCGnVPRtjczGxkb5C3xRUVHQGhC9E7O88/S9SQscBOF2ux0Oh6qq999/v3z2zjvvFAFThLSXhz6v0NcrorbCCn07J/MRzc3Nvhvl3JyxY8fqP05YNTU12uAFOfwksF5MRPFIR48e1f7uoREBRUVF2dnZWmKo2+9DtI4jp7Np3dXhcMi6JH67hT1+VOKJbl8NLTk5WQjR2toaGIP2d01NTU5OjqqqixcvXrx4scvlOnnyZF1dXdCBM2E/pzpt2bKlvb29vb3dbrfLFGEgv3fbbre/88473W4RAAAAQKQiGMNiNpvlWACLxeJyubZt2xbibrO8vHzp0qUej8dsNgcdFxARme/o9u/VshpC2Pkm0Y25e+QdkfaLd9ApQprQ5xX2ekXUFqLIrz+vWrWqsLDQt6hHe3t7Nw4breNo6cXN18mRHZGu2RyteET/66ulpaWlpaXV1dVOp9Nisaiqunz58sB5f5LO75+gLl++LIS44447ZCJY5mhkilB7M9PS0latWrVr1y75brvd7urqapvNFnqVIgAAAABRF8EYlq7W3eiKtuZF5FH5mzFjhhDi448/7t7La2pqHn/8cUVR8vLyQhdSCR3zHXfcobPFoEMhhBC+lSyCrqtqt9tdLpfFYsnLyxs2bJgs3dJVain0eYW9XhG1pf/cAx07dkxRFDk6QCOH1QQWB+0FfR6PX3/Ozc0VPkVhRNdVQqSurkWkx+mKXDbIZDIFfhAiKqHSjXi6WtWr1/pqc3Oz1WrVMwtMK/4irtegkfV9ApMa+r9/Ah05csRqtfqNHpJ9VSs+NXv2bPlWO51OI6tHAQAAADCo+2sJ+bHZbH4za1RVlXdobW1t3T6s2WwuKytTFMXj8VRWVvo9q6rqrl273nzzzbDVEHbt2iWE8Lu70x+zvPGePHlyiIa0uzKz2SxveHw5HA4hxKJFi7Qtjz32WNDj1NbWCiFycnIyMjJEuKkQQc9LPz1t6Tn30GQ5D6vVqhW4KSkpMZlMHo+n25WDjejDeEL0Z20ukqqqWVlZQV+u51roOU5octmgJ554YpqPbdu2ievJl4jojEemS+bOndvVDr3TV+V4E0VRli1bpv9VYb/iuv05fe+994QQVqtV+6ZatWqVyWRyu92+qRy73V5aWlpcXEx6BQAAAOhD3V9LyE9GRoYsTOByuWTRUPlDq+8vvfppNURkvsPj8VRVVQUWLvFdrTn0vXF5ebnNZpPFMrXj6I+5srIyOzvbYrFUVFTI5XiSkpJef/112ej27dtzcnIURamqqjp79qzFYnE4HBaLRW5Zt26d3W6vrKy0Wq1Wq3XXrl0ulyspKcmvDohfqKqqut1uj8cTeipE0PPST09boc9dD/l+qqpaVlYml/WV73OkC9xES9h4/NYkeuSRR2bPnn3q1CnflXEiEro/yzod8u2VwVRXV+fn5+fn52dlZcn+I/cMfS30HycEuU6z2+3260719fVybRr9Zx1RPB988EF+fn5BQcHkyZM9Ho/FYikvL/ftIcb7qixTIvdMSkoSPtdFu7iNjY0VFRWFhYX5+fk5OTna2luKomg1feSIFfmlIXzqHLlcrq7e4aCfU99uJo8ge5rwWfeqsbFRvmmLFy+eMWNGUlKSTB69/vrr2sEjGloIAAAAoOdEbQzLwYMH5bh9mVmwWCxOp7OioqK0tLQbR9NqiLhcrtra2meeeSbob7P79+/3eDwul6ur1Zp91dXViW+OHNEfc2Nj4wsvvCDHocjAEhIShg0bpj27fv16l8tlNpstFsuBAwe0ApNms1kuYWO321evXi3v5xVFOXv2bGVlpe9a177kij9ms1nPaimB5xWRsG2FPnedZNEKOQNLvs+rV6/uw9/bQ8ejrUkkH8ru0dXMLz1C9+eVK1fK22lFUeLj432nd2n9Rwp9LfQfJwS5YJBvcV/JbrfL9baCzm4LKqJ41qxZU1tbK3MriqK0tLQMHTrU/XER0wAAFixJREFU74AG++qYMWO0haVknkK7Lr4Xt7y8fPXq1b4HkRdOO/GxY8dqXxpa/6murl66dGmIdyPwc+q79JWshK0d0/fNWbNmjUwYybAdDsfq1av7ZPAXAAAAgNAGqKr60Ucf9XUYvcFsNldUVAghCgsLo77Ia3SZzea1a9daLBY9t1IGzyuitoA+dEP31Rvo+wcAAABAN6Snpw/89re/febMmb6OpDd4PJ7x48fHxMR4vd5PPvmkr8PpUl5e3o9//GOLxVJbW+s7F6ArRs4r0raAvnKj99Ub5fsHAAAAQPeMGTPmFhrD0s+pqvrkk0/KcgxCCKfTuXLlyh76rbs32wKMoK8CAAAAuCGkp6dHrdItDEpMTJQFHc6fP3/w4MEerQLbm20BRtBXAQAAANwoGMMCAAAAAABgSHp6etTWEgIAAAAAALhlkWEBAAAAAAAwigwLAAAAAACAUWRYAAAAAAAAjCLDAgAAAAAAYBQZFgAAAAAAAKPIsAAAAAAAABhFhgUAAAAAAMAoMiwAAAAAAABGkWEBAAAAAAAwigwLAAAAAACAUWRYAAAAAAAAjCLDAgAAAAAAYBQZFgAAAAAAAKPIsAAAAAAAABhFhgUAAAAAAMAoMiwAAAAAAABGkWEBAAAAAAAwigwLAAAAAACAUWRYAAAAAAAAjCLDAgAAAAAAYBQZFgAAAAAAAKPIsAAAAAAAABhFhgUAAAAAAMAoMiwAAAAAAABGkWEBAAAAAAAwigwLAAAAAACAUWRYAAAAAAAAjCLDAgAAAAAAYBQZFgAAAAAAAKPIsAAAAAAAABhFhgUAAAAAAMAoMiwAAAAAAABGkWEBAAAAAAAwigwLAAAAAACAUWRYAAAAAAAAjCLDAgAAAAAAYBQZFgAAAAAAAKPIsAAAAAAAABhFhgUAAAAAAMAoMiwAAAAAAABGkWEBAAAAAAAwigwLAAAAAACAUWRYAAAAAAAAjCLDAgAAAAAAYBQZFgAAAAAAAKPIsAAAAAAAABhFhgUAAAAAAMAoMiwAAAAAAABGkWEBAAAAAAAwigwLAAAAAACAUWRYAAAAAAAAjCLDAgAAAAAAYBQZFgAAAAAAAKPIsAAAAAAAABhFhgUAAAAAAMAoMiwAAAAAAABGkWEBAAAAAAAwigwLAAAAAACAUWRYAAAAAAAAjCLDAgAAAAAAYBQZFgAAAAAAAKPIsAAAAAAAABhFhgUAAAAAAMAoMiwAAAAAAABGkWEBAAAAAAAwigwLAAAAAACAUWRYAAAAAAAAjCLDAgAAAAAAYBQZFgAAAAAAAKPIsAAAAAAAABhFhgUAAAAAAMAoMiwAAAAAAABGkWEBAAAAAAAwigwLAAAAAACAUWRYAAAAAAAAjCLDAgAAAAAAYBQZFgAAAAAAAKPIsAAAAAAAABhFhgUAAAAAAMAoMiwAAAAAAABGkWEBAAAAAAAwigwLAAAAAACAUWRYAAAAAAAAjCLDAgAAAAAAYBQZFgAAAAAAAKPIsAAAAAAAABhFhgUAAAAAAMAoMiwAAAAAAABGkWEBAAAAAAAwigwLAAAAAACAUWRYAAAAAAAAjCLDAgAAAAAAYBQZFgAAAAAAAKPIsAAAAAAAABhFhgUAAAAAAMAoMiwAAAAAAABGkWEBAAAAAAAwigwLAAAAAACAUWRYAAAAAAAAjCLDAgAAAAAAYBQZFgAAAAAAAKPIsAAAAAAAABhFhgUAAAAAAMAoMiwAAAAAAABGkWEBAAAAAAAwigwLAAAAAACAUWRYAAAAAAAAjCLDAgAAAAAAYBQZFgAAAAAAAKPIsAAAAAAAABhFhgUAAAAAAMAoMiwAAAAAAABGkWEBAAAAAAAwigwLAAAAAACAUWRYAAAAAAAAjCLDAgAAAAAAYBQZFgAAAAAAAKPIsAAAAAAAABhFhgUAAAAAAMAoMiwAAAAAAABGkWEBAAAAAAAwigwLAAAAAACAUWRYAAAAAAAAjCLDAgAAAAAAYBQZFgAAAAAAAKPIsAAAAAAAABhFhgUAAAAAAMAoMiwAAAAAAABGkWEBAAAAAAAwigwLAAAAAACAUWRYAAAAAAAAjCLDAgAAAAAAYBQZFgAAAAAAAKPIsAAAAAAAABhFhgUAAAAAAMAoMiwAAAAAAABGkWEBAAAAAAAwigwLAAAAAACAUWRYAAAAAAAAjCLDAgAAAAAAYBQZFgAAAAAAAKPIsAAAAAAAABhFhgUAAAAAAMAoMiwAAAAAAABGkWEBAAAAAAAwigwLAAAAAACAUWRYAAAAAAAAjCLDAgAAAAAAYBQZFgAAAAAAAKPIsAAAAAAAABhFhgUAAAAAAMAoMiwAAAAAAABGkWEBAAAAAAAwigwLAAAAAACAUWRYAAAAAAAAjCLDAgAAAAAAYBQZFgAAAAAAAKPIsAAAAAAAABhFhgUAAPz/7d07b1uHGYDhwyNS1tWiYBReiqxFgHru2i5dU/S3tmOnLEW3AAGCovDm0RfJCUlFNMUObhz0EmR4CxGingdceDv8CC4fXpCHAABUCgsAAABApbAAAAAAVAoLAAAAQKWwAAAAAFQKCwAAAEClsAAAAABUCgsAAABApbAAAAAAVAoLAAAAQKWwAAAAAFQKCwAAAEClsAAAAABUCgsAAABApbAAAAAAVAoLAAAAQKWwAAAAAFQKCwAAAEClsAAAAABUCgsAAABApbAAAAAAVAoLAAAAQKWwAAAAAFQKCwAAAEClsAAAAABUCgsAAABApbAAAAAAVAoLAAAAQKWwAAAAAFQKCwAAAEClsAAAAABUCgsAAABApbAAAAAAVAoLAAAAQKWwAAAAAFQKCwAAAEClsAAAAABUCgsAAABApbAAAAAAVAoLAAAAQKWwAAAAAFQKCwAAAEClsAAAAABUCgsAAABApbAAAAAAVAoLAAAAQKWwAAAAAFQKCwAAAEClsAAAAABUCgsAAABApbAAAAAAVAoLAAAAQKWwAAAAAFQKCwAAAEClsAAAAABUCgsAAABApbAAAAAAVAoLAAAAQKWwAAAAAFQKCwAAAEClsAAAAABUCgsAAABApbAAAAAAVAoLAAAAQKWwAAAAAFQKCwAAAEClsAAAAABUCgsAAABApbAAAAAAVAoLAAAAQKWwAAAAAFQKCwAAAEClsAAAAABUCgsAAABApbAAAAAAVAoLAAAAQKWwAAAAAFQKCwAAAEClsAAAAABUCgsAAABApbAAAAAAVAoLAAAAQKWwAAAAAFQKCwAAAEClsAAAAABUCgsAAABApbAAAAAAVAoLAAAAQKWwAAAAAFQKCwAAAEClsAAAAABUCgsAAABApbAAAAAAVAoLAAAAQKWwAAAAAFQKCwAAAEClsAAAAABUCgsAAABApbAAAAAAVAoLAAAAQKWwAAAAAFQKCwAAAEClsAAAAABUCgsAAABApbAAAAAAVAoLAAAAQKWwAAAAAFQKCwAAAEClsAAAAABUCgsAAABApbAAAAAAVAoLAAAAQKWwAAAAAFQKCwAAAEClsAAAAABUCgsAAABApbAAAAAAVAoLAAAAQKWwAAAAAFQKCwAAAEClsAAAAABUCgsAAABApbAAAAAAVAoLAAAAQKWwAAAAAFQKCwAAAEClsAAAAABUCgsAAABApbAAAAAAVAoLAAAAQKWwAAAAAFQKCwAAAEClsAAAAABUCgsAAABApbAAAAAAVAoLAAAAQKWwAAAAAFQKCwAAAEClsAAAAABUCgsAAABApbAAAAAAVAoLAAAAQKWwAAAAAFQKCwAAAEClsAAAAABUCgsAAABApbAAAAAAVAoLAAAAQKWwAAAAAFQKCwAAAEClsAAAAABUCgsAAABApbAAAAAAVAoLAAAAQKWwAAAAAFQKCwAAAEClsAAAAABUCgsAAABApbAAAAAAVAoLAAAAQKWwAAAAAFQKCwAAAEClsAAAAABUCgsAAABApbAAAAAAVAoLAAAAQKWwAAAAAFQKCwAAAEClsAAAAABUCgsAAABApbAAAAAAVAoLAAAAQKWwAAAAAFQKCwAAAEClsAAAAABUCgsAAABApbAAAAAAVAoLAAAAQKWwAAAAAFQKCwAAAEClsAAAAABUCgsAAABApbAAAAAAVAoLAAAAQKWwAAAAAFQKCwAAAEClsAAAAABUCgsAAABApbAAAAAAVAoLAPCALZbj5s4+AwDsno0EAHjY1rcTkQUA2DnrCADwsK3XVyILALBzdhEA4METWQCAnbOIAAD7QGQBAHbLFgIA7AmRBQDYISsIALA/RBYAYFfsHwDAXhFZAICdsHwAAPvmu8VrkQUAuGc2DwBg3zw5nL5+/UpkAQDuk7UDANhDFxdnr179Q2QBAO6NnQMA2E/Pn//i5cuv17eTXQ8CADwK010PAADw/7FY3JyeHg3DMJvNdz0LAPDo+A4LALAPFoub8/Pnf/rzXz5enc22R0ebj5fdDgYAPBIKCwDw4H3MK0fHwx+++OMwDC9ffn17u+uZAIBHRmEBAB62T3nlYLwbx/HLL//22We/HMdxs7HnAAD3x+YBADxgB+PkU14ZhmE6u/vt734/DMNXX/3V11gAgPvkTLcAwAP2H6dZORjvDsbpN9/8/fPPfzUM/kUIALg/CgsAsFcOn2x+/eI304PJk6PtrmcBAB4RhQUA2CuTYXty7P+DAID75jwsAAAAAJXCAgAAAFApLAAAAACVwgIAAABQKSwAAAAAlcICAAAAUCksAAAAAJXCAgAAAFApLAAAAACVwgIAAABQKSwAAAAAlcICAAAAUCksAAAAAJXCAgAAAFApLAAAAACVwgIAAABQKSwAAAAAlcICAAAAUCksAAAAAJXCAgAAAFApLAAAAACVwgIAAABQKSwAAAAAlcICAAAAUCksAAAAAJXCAgAAAFApLAAAAACVwgIAAABQKSwAAAAAlcICAAAAUCksAAAAAJXCAgAAAFApLAAAAACVwgIAAABQKSwAAAAAlcICAAAAUCksAAAAAJXCAgAAAFApLAAAAACVwgIAAABQKSwAAAAAlcICAAAAUCksAAAAAJXCAgAAAFApLAAAAACVwgIAAABQKSwAAAAAlcICAAAAUCksAAAAAJXCAgAAAFApLAAAAACVwgIAAABQKSwAAAAAlcICAAAAUCksAAAAAJXCAgAAAFApLAAAAACVwgIAAABQKSwAAAAAlcICAAAAUCksAAAAAJXCAgAAAFApLAAAAACVwgIAAABQKSwAAAAAlcICAAAAUCksAAAAAJXCAgAAAFApLAAAAACVwgIAAABQKSwAAAAAlcICAAAAUCksAAAAAJXCAgAAAFApLAAAAACVwgIAAABQKSwAAAAAlcICAAAAUCksAAAAAJXCAgAAAFApLAAAAACVwgIAAABQKSwAAAAAlcICAAAAUCksAAAAAJXCAgAAAFApLAAAAACVwgIAAABQKSwAAAAAlcICAAAAUCksAAAAAJXCAgAAAFApLAAAAACVwgIAAABQKSwAAAAAlcICAAAAUCksAAAAAJXCAgAAAFApLAAAAACVwgIAAABQKSwAAAAAlcICAAAAUCksAAAAAJXCAgAAAFApLAAAAACVwgIAAABQKSwAAAAAlcICAAAAUCksAAAAAJXCAgAAAFApLAAAAACVwgIAAABQKSwAAAAAlcICAAAAUCksAAAAAJXCAgAAAFApLAAAAACVwgIAAABQKSwAAAAAlcICAAAAUCksAAAAAJXCAgAAAFApLAAAAACVwgIAAABQKSwAAAAAlcICAAAAUCksAAAAAJXCAgAAAFApLAAAAACVwgIAAABQKSwAAAAAlcICAAAAUCksAAAAAJXCAgAAAFApLAAAAACVwgIAAABQKSwAAAAAyTiOCgsAAABApbAAAAAAVAoLAAAAQKWwAAAAAFQKCwAAAEClsAAAAABUCgsAAABApbAAAAAAVAoLAAAAQKWwAAAAAFQKCwAAAEClsAAAAABUCgsAAABApbAAAAAAVAoLAAAAQKWwAAAAAFQKCwAAAEClsAAAAABUCgsAAABApbAAAAAAVAoLAAAAQKWwAAAAAFQKCwAAAEClsAAAAABUCgsAAABApbAAAAAAVAoLAAAAQKWwAAAAAFQKCwAAAEClsAAAAAAk6/VaYQEAAACoFBYAAACASmEBAAAAqBQWAAAAgEphAQAAAKgUFgAAAIBKYQEAAACoFBYAAACASmEBAAAAqBQWAAAAgEphAQAAAKgUFgAAAIBKYQEAAACoFBYAAACASmEBAAAAqBQWAAAAgEphAQAAAKgUFgAAAIBKYQEAAACoFBYAAACASmEBAAAAqBQWAAAAgEphAQAAAKgUFgAAAIBKYQEAAACoFBYAAACASmEBAAAAqBQWAAAAgEphAQAAAKgUFgAAAIBKYQEAAACoFBYAAACASmEBAAAAqBQWAAAAgEphAQAAAKgUFgAAAIBKYQEAAACoFBYAAACASmEBAAAAqBQWAAAAgEphAQAAAKgUFgAAAIBKYQEAAACoFBYAAACASmEBAAAAqBQWAAAAgEphAQAAAKgUFgAAAIBKYQEAAACoFBYAAACASmEBAAAAqBQWAAAAgEphAQAAAKgUFgAAAIBKYQEAAACoFBYAAACASmEBAAAAqBQWAAAAgEphAQAAAKgUFgAAAIBKYQEAAACoFBYAAACASmEBAAAAqBQWAAAAgEphAQAAAKgUFgAAAIBKYQEAAACoFBYAAACASmEBAAAAqBQWAAAAgEphAQAAAKgUFgAAAIBKYQEAAACoFBYAAACASmEBAAAAqBQWAAAAgEphAQAAAKgUFgAAAIBKYQEAAACoFBYAAACASmEBAAAAqBQWAAAAgEphAQAAAKgUFgAAAIBKYQEAAACoFBYAAACASmEBAAAAqBQWAAAAgEphAQAAAKgUFgAAAIBKYQEAAACoFBYAAACASmEBAAAAqBQWAAAAgEphAQAAAKgUFgAAAIBKYQEAAACoFBYAAACASmEBAAAAqBQWAAAAgEphAQAAAKgUFgAAAIBKYQEAAACoFBYAAACAZDabKSwAAAAAlcICAAAAUCksAAAAAJXCAgAAAFApLAAAAACVwgIAAABQKSwAAAAAlcICAAAAUCksAAAAAJXCAgAAAFApLAAAAACVwgIAAABQKSwAAAAAlcICAAAAUCksAAAAANU4n893PQMAAADAwzZeXV3tegYAAACAh82vhAAAAAAqhQUAAACgmg7D8OLFi12PsXvz+fwnfzB1cDafH27Xm3E6HSfDcLe5vVl8u1oPw+H55flss3z7fjUMwzBMjp9enhysv3v37ff/+0CT2fH52cn0bnV9vdwMwzAMh2fz89nd8ur93dnl2eHd6s318t+fMjubP32y/e/bf3B68exovP3XS46Hp+dnRwebH4//wzs4nc+PJuvlYnm7GQ9PT09m25urq8VwNp8fbpdvr1ef3uXy7fXqJx69GU4unh0PN2+uFx9fd1i9uV4OR08vT6fb75eL1Xo7Oz47eTL5sHj3/mYYTi6eHU+3m9vV8ubDMD0+PZkN6x/v+XicyfHF5cn4YblYfdhOZienxwd3y3fXq+3Pfl6z2Wy9Xv/swwAAAOB+/BOF2MaSoTNorQAAAABJRU5ErkJggg==)"
      ],
      "metadata": {
        "id": "GalBLiU4AP1b"
      }
    },
    {
      "cell_type": "code",
      "source": [
        "# 10. d)\n",
        "\n",
        "# Python program to\n",
        "# demonstrate stack implementation\n",
        "# using collections.deque\n",
        "\n",
        "from collections import deque\n",
        "\n",
        "stack = deque()\n",
        "\n",
        "# append() function to push\n",
        "# element in the stack\n",
        "stack.append('s')\n",
        "stack.append('u')\n",
        "stack.append('r')\n",
        "\n",
        "print('Initial stack:')\n",
        "print(stack)\n",
        "\n",
        "# pop() function to pop\n",
        "# element from stack in\n",
        "# LIFO order\n",
        "print('\\nElements popped from stack:')\n",
        "print(stack.pop())\n",
        "print(stack.pop())\n",
        "print(stack.pop())\n",
        "\n",
        "print('\\nStack after elements are popped:')\n",
        "print(stack)"
      ],
      "metadata": {
        "colab": {
          "base_uri": "https://localhost:8080/"
        },
        "id": "ZPtWpfvy4ZOF",
        "outputId": "fa9c6bf8-c40d-4a5f-d5d8-8db460f2e30d"
      },
      "execution_count": null,
      "outputs": [
        {
          "output_type": "stream",
          "name": "stdout",
          "text": [
            "Initial stack:\n",
            "deque(['s', 'u', 'r'])\n",
            "\n",
            "Elements popped from stack:\n",
            "r\n",
            "u\n",
            "s\n",
            "\n",
            "Stack after elements are popped:\n",
            "deque([])\n"
          ]
        }
      ]
    },
    {
      "cell_type": "code",
      "source": [
        "# 10. e)\n",
        "\n",
        "char_count = 0\n",
        "sentence = ''\n",
        "lines = []\n",
        "\n",
        "with open('/content/input.txt','rb') as file:\n",
        "  for character in file.read():\n",
        "    sentence += str(character)\n",
        "    char_count += 1\n",
        "\n",
        "    if char_count == 50:\n",
        "      lines.append(sentence)\n",
        "      char_count = 0\n",
        "      sentence = ''\n",
        "\n",
        "\n",
        "with open('/content/input.txt', 'w') as output_file:\n",
        "  output_file.writelines(lines)\n",
        "\n",
        "with open('/content/output.txt', 'a') as append_file:\n",
        "  append_file.writelines(lines)"
      ],
      "metadata": {
        "id": "QHsGsHge4ZTf"
      },
      "execution_count": null,
      "outputs": []
    },
    {
      "cell_type": "markdown",
      "source": [
        "**All programs done**\n",
        "\n",
        "\n"
      ],
      "metadata": {
        "id": "tlYEY1ZW6H36"
      }
    }
  ]
}